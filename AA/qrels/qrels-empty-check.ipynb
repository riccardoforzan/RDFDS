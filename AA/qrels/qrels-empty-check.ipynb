{
 "cells": [
  {
   "cell_type": "markdown",
   "metadata": {},
   "source": [
    "Check that empty nodes is a superset of empty datasets.\n",
    "\n",
    "So I can delete empty datasets first from the collection and to the run without empty datasets to evaluate the baseline and the Re Ranking values\n",
    "\n",
    "And then I can delete empty nodes and do the runs to evaluate the performance using nodes"
   ]
  },
  {
   "cell_type": "code",
   "execution_count": 9,
   "metadata": {},
   "outputs": [],
   "source": [
    "def read_ids_from_file(filename):\n",
    "    with open(filename, 'r') as file:\n",
    "        ids = set(line.strip() for line in file)\n",
    "        return ids"
   ]
  },
  {
   "cell_type": "code",
   "execution_count": 10,
   "metadata": {},
   "outputs": [],
   "source": [
    "empty_datasets = \"qrels-without-empty-datasets/empty.txt\"\n",
    "empty_nodes_file = \"qrels-without-empty-nodes-file/empty.txt\"\n",
    "\n",
    "# Read IDs from the two files\n",
    "empty_datasets = read_ids_from_file(empty_datasets)\n",
    "empty_nodes = read_ids_from_file(empty_nodes_file)\n"
   ]
  },
  {
   "cell_type": "code",
   "execution_count": 11,
   "metadata": {},
   "outputs": [
    {
     "name": "stdout",
     "output_type": "stream",
     "text": [
      "Empty datasets are a subset of datasets with empty nodes files\n"
     ]
    }
   ],
   "source": [
    "if empty_datasets.issubset(empty_nodes):\n",
    "    print(\"Empty datasets are a subset of datasets with empty nodes files\")"
   ]
  },
  {
   "cell_type": "code",
   "execution_count": 13,
   "metadata": {},
   "outputs": [
    {
     "data": {
      "text/plain": [
       "11463"
      ]
     },
     "execution_count": 13,
     "metadata": {},
     "output_type": "execute_result"
    }
   ],
   "source": [
    "len(empty_nodes)"
   ]
  },
  {
   "cell_type": "code",
   "execution_count": 14,
   "metadata": {},
   "outputs": [
    {
     "data": {
      "text/plain": [
       "5201"
      ]
     },
     "execution_count": 14,
     "metadata": {},
     "output_type": "execute_result"
    }
   ],
   "source": [
    "len(empty_datasets)"
   ]
  },
  {
   "cell_type": "code",
   "execution_count": 15,
   "metadata": {},
   "outputs": [
    {
     "data": {
      "text/plain": [
       "6262"
      ]
     },
     "execution_count": 15,
     "metadata": {},
     "output_type": "execute_result"
    }
   ],
   "source": [
    "len(empty_nodes - empty_datasets)"
   ]
  }
 ],
 "metadata": {
  "kernelspec": {
   "display_name": "base",
   "language": "python",
   "name": "python3"
  },
  "language_info": {
   "codemirror_mode": {
    "name": "ipython",
    "version": 3
   },
   "file_extension": ".py",
   "mimetype": "text/x-python",
   "name": "python",
   "nbconvert_exporter": "python",
   "pygments_lexer": "ipython3",
   "version": "3.9.13"
  },
  "orig_nbformat": 4
 },
 "nbformat": 4,
 "nbformat_minor": 2
}
