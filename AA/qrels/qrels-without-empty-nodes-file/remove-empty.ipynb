{
 "cells": [
  {
   "cell_type": "markdown",
   "metadata": {},
   "source": [
    "# Remove empty nodes\n",
    "Generate a new collection that does not contain any empty nodes dataset"
   ]
  },
  {
   "cell_type": "code",
   "execution_count": 11,
   "metadata": {},
   "outputs": [],
   "source": [
    "import os"
   ]
  },
  {
   "cell_type": "code",
   "execution_count": 12,
   "metadata": {},
   "outputs": [],
   "source": [
    "source = \"../datasets\"                           # source folder\n",
    "source_qrels = \"qrels.txt\"                       # source qrels file\n",
    "modified_qrels = \"qrels_without_empty_nodes_file.txt\"\n",
    "empty_datasets_ids = \"empty.txt\""
   ]
  },
  {
   "cell_type": "code",
   "execution_count": 13,
   "metadata": {},
   "outputs": [],
   "source": [
    "datasets = sorted(os.listdir(source), key=lambda i: int(i))"
   ]
  },
  {
   "cell_type": "code",
   "execution_count": 14,
   "metadata": {},
   "outputs": [],
   "source": [
    "def is_nodes_file_empty(dataset_path) -> bool:\n",
    "    file_path = os.path.join(dataset_path, \"bc_nodes.txt\")\n",
    "    return not os.path.exists(file_path) or os.path.getsize(file_path) == 0\n"
   ]
  },
  {
   "cell_type": "code",
   "execution_count": 15,
   "metadata": {},
   "outputs": [],
   "source": [
    "non_empty = list()\n",
    "empty_datasets = list()\n",
    "\n",
    "for dataset in datasets:\n",
    "    dataset_path = f\"{source}/{dataset}\"\n",
    "    res = is_nodes_file_empty(dataset_path)\n",
    "\n",
    "    if is_nodes_file_empty(dataset_path):\n",
    "        empty_datasets.append(dataset)    \n",
    "    else:\n",
    "        non_empty.append(dataset)\n"
   ]
  },
  {
   "cell_type": "code",
   "execution_count": 16,
   "metadata": {},
   "outputs": [
    {
     "data": {
      "text/plain": [
       "11463"
      ]
     },
     "execution_count": 16,
     "metadata": {},
     "output_type": "execute_result"
    }
   ],
   "source": [
    "len(empty_datasets)"
   ]
  },
  {
   "cell_type": "code",
   "execution_count": 17,
   "metadata": {},
   "outputs": [],
   "source": [
    "with open(empty_datasets_ids, 'w') as empty_file:\n",
    "    for id in empty_datasets:\n",
    "        empty_file.write(\"\".join(id) + \"\\n\")"
   ]
  },
  {
   "cell_type": "markdown",
   "metadata": {},
   "source": [
    "### Generate the modified QRELS file"
   ]
  },
  {
   "cell_type": "code",
   "execution_count": 18,
   "metadata": {},
   "outputs": [],
   "source": [
    "# Open the input file for reading\n",
    "with open(source_qrels, 'r') as input_file:\n",
    "    # Read the lines from the input file\n",
    "    lines = input_file.readlines()\n"
   ]
  },
  {
   "cell_type": "code",
   "execution_count": 19,
   "metadata": {},
   "outputs": [],
   "source": [
    "filtered_lines = [line for line in lines if line.split()[2] not in empty_datasets]"
   ]
  },
  {
   "cell_type": "code",
   "execution_count": 20,
   "metadata": {},
   "outputs": [],
   "source": [
    "# Open the output file for writing\n",
    "with open(modified_qrels, 'w') as output_file:\n",
    "    # Write the filtered lines to the output file\n",
    "    output_file.writelines(filtered_lines)"
   ]
  }
 ],
 "metadata": {
  "kernelspec": {
   "display_name": "Python 3",
   "language": "python",
   "name": "python3"
  },
  "language_info": {
   "codemirror_mode": {
    "name": "ipython",
    "version": 3
   },
   "file_extension": ".py",
   "mimetype": "text/x-python",
   "name": "python",
   "nbconvert_exporter": "python",
   "pygments_lexer": "ipython3",
   "version": "3.9.2"
  },
  "orig_nbformat": 4
 },
 "nbformat": 4,
 "nbformat_minor": 2
}
