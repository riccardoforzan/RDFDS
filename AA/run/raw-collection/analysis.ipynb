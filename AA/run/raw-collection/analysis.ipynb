{
 "cells": [
  {
   "cell_type": "code",
   "execution_count": 37,
   "metadata": {},
   "outputs": [],
   "source": [
    "import os\n",
    "import re"
   ]
  },
  {
   "cell_type": "code",
   "execution_count": 38,
   "metadata": {},
   "outputs": [
    {
     "data": {
      "text/plain": [
       "['vanilla-mfq']"
      ]
     },
     "execution_count": 38,
     "metadata": {},
     "output_type": "execute_result"
    }
   ],
   "source": [
    "sorted([item for item in os.listdir() if os.path.isdir(item)])"
   ]
  },
  {
   "cell_type": "code",
   "execution_count": 39,
   "metadata": {},
   "outputs": [],
   "source": [
    "dataset_name = \"vanilla-mfq\""
   ]
  },
  {
   "cell_type": "code",
   "execution_count": 40,
   "metadata": {},
   "outputs": [],
   "source": [
    "trec_executable = \"../trec_eval/trec_eval\"     # path to the TREC executable\n",
    "\n",
    "qrels_file_path = \"../qrels/qrels.txt\"\n",
    "# qrels_file_path = \"qrels/qrels_without_empty.txt\"\n",
    "# qrels_file_path = \"qrels/qrels_without_empty_nodes_file.txt\"\n",
    "\n",
    "run_output_folder = f\"{dataset_name}/output\"      # folder that contains the output of the runs\n",
    "trec_output_folder = f\"{dataset_name}/trec\"       # folder that will contain the TREC output "
   ]
  },
  {
   "cell_type": "markdown",
   "metadata": {},
   "source": [
    "## TREC\n",
    "Generate TREC output files"
   ]
  },
  {
   "cell_type": "code",
   "execution_count": 41,
   "metadata": {},
   "outputs": [],
   "source": [
    "output_run = os.listdir(run_output_folder)"
   ]
  },
  {
   "cell_type": "code",
   "execution_count": 42,
   "metadata": {},
   "outputs": [],
   "source": [
    "trec_cmd = f\"{trec_executable} -q -m all_trec -c {qrels_file_path}\""
   ]
  },
  {
   "cell_type": "code",
   "execution_count": 43,
   "metadata": {},
   "outputs": [],
   "source": [
    "shell_commands = list()\n",
    "trec_output_files = list()\n",
    "\n",
    "for file in output_run:\n",
    "    trec_output_file = file.replace(\"output\", \"trec\")\n",
    "    cmd = f\"{trec_cmd} {run_output_folder}/{file} > {trec_output_folder}/{trec_output_file}\"\n",
    "\n",
    "    trec_output_files.append(trec_output_file)\n",
    "    shell_commands.append(cmd)"
   ]
  },
  {
   "cell_type": "code",
   "execution_count": 44,
   "metadata": {},
   "outputs": [],
   "source": [
    "for cmd in shell_commands:\n",
    "    os.system(cmd)"
   ]
  },
  {
   "cell_type": "markdown",
   "metadata": {},
   "source": [
    "## Results\n",
    "Extrapolate data from trec output"
   ]
  },
  {
   "cell_type": "code",
   "execution_count": 45,
   "metadata": {},
   "outputs": [],
   "source": [
    "files = os.listdir(trec_output_folder)\n",
    "files.sort()"
   ]
  },
  {
   "cell_type": "code",
   "execution_count": 46,
   "metadata": {},
   "outputs": [],
   "source": [
    "# measurements = [\"ndcg_cut_5\", \"ndcg_cut_10\", \"map_cut_5\", \"map_cut_10\", \"ndcg\", \"map\" ,\"set_recall\"]\n",
    "measurements = [\"ndcg_cut_5\", \"ndcg_cut_10\", \"map_cut_5\", \"map_cut_10\"]\n",
    "\n",
    "def get_metrics(file_path: str)->dict:\n",
    "    d = dict()\n",
    "    with open(file_path) as f:\n",
    "        for line in f:\n",
    "            for m in measurements:\n",
    "                if re.match(f\"{m}\\s\", line):\n",
    "                    d[m] = line.split()[-1]\n",
    "    return d\n"
   ]
  },
  {
   "cell_type": "code",
   "execution_count": 47,
   "metadata": {},
   "outputs": [],
   "source": [
    "out = dict()\n",
    "for file in files:\n",
    "    file_path = f\"{trec_output_folder}/{file}\"\n",
    "    key = file.replace('-trec.txt','')\n",
    "    out[key] =  get_metrics(file_path)"
   ]
  },
  {
   "cell_type": "code",
   "execution_count": 48,
   "metadata": {},
   "outputs": [
    {
     "name": "stdout",
     "output_type": "stream",
     "text": [
      "| Model                            |   ndcg_cut_5 |   ndcg_cut_10 |   map_cut_5 |   map_cut_10 |\n",
      "|:---------------------------------|-------------:|--------------:|------------:|-------------:|\n",
      "| BM25-EXTRACTED-ONLY-ALL-QUERIES  |       0.1306 |        0.1431 |      0.0747 |       0.0906 |\n",
      "| BM25-EXTRACTED-ONLY-SYN-QUERIES  |       0.0806 |        0.0892 |      0.0434 |       0.0538 |\n",
      "| BM25-EXTRACTED-ONLY-TREC-QUERIES |       0.05   |        0.0539 |      0.0314 |       0.0368 |\n",
      "| BM25-META+EXTRACTED-ALL-QUERIES  |       0.3757 |        0.414  |      0.2087 |       0.2793 |\n",
      "| BM25-META+EXTRACTED-SYN-QUERIES  |       0.2286 |        0.2459 |      0.1275 |       0.168  |\n",
      "| BM25-META+EXTRACTED-TREC-QUERIES |       0.1471 |        0.1681 |      0.0812 |       0.1112 |\n",
      "| BM25-META-ONLY-ALL-QUERIES       |       0.5059 |        0.5222 |      0.2865 |       0.382  |\n",
      "| BM25-META-ONLY-SYN-QUERIES       |       0.2997 |        0.2996 |      0.1679 |       0.2185 |\n",
      "| BM25-META-ONLY-TREC-QUERIES      |       0.2062 |        0.2226 |      0.1186 |       0.1635 |\n",
      "| CS-EXTRACTED-ONLY-ALL-QUERIES    |       0.1304 |        0.1384 |      0.0677 |       0.0802 |\n",
      "| CS-EXTRACTED-ONLY-SYN-QUERIES    |       0.0767 |        0.0818 |      0.0399 |       0.0468 |\n",
      "| CS-EXTRACTED-ONLY-TREC-QUERIES   |       0.0537 |        0.0567 |      0.0278 |       0.0335 |\n",
      "| CS-META+EXTRACTED-ALL-QUERIES    |       0.4756 |        0.5042 |      0.2692 |       0.3669 |\n",
      "| CS-META+EXTRACTED-SYN-QUERIES    |       0.275  |        0.2811 |      0.1524 |       0.2024 |\n",
      "| CS-META+EXTRACTED-TREC-QUERIES   |       0.2006 |        0.2231 |      0.1168 |       0.1646 |\n",
      "| CS-META-ONLY-ALL-QUERIES         |       0.4599 |        0.474  |      0.2583 |       0.3436 |\n",
      "| CS-META-ONLY-SYN-QUERIES         |       0.2644 |        0.2661 |      0.1447 |       0.1891 |\n",
      "| CS-META-ONLY-TREC-QUERIES        |       0.1955 |        0.2079 |      0.1136 |       0.1545 |\n",
      "| LMD-EXTRACTED-ONLY-ALL-QUERIES   |       0.1497 |        0.1655 |      0.0801 |       0.0998 |\n",
      "| LMD-EXTRACTED-ONLY-SYN-QUERIES   |       0.0986 |        0.1059 |      0.0516 |       0.064  |\n",
      "| LMD-EXTRACTED-ONLY-TREC-QUERIES  |       0.0512 |        0.0597 |      0.0284 |       0.0358 |\n",
      "| LMD-META+EXTRACTED-ALL-QUERIES   |       0.2715 |        0.2982 |      0.1549 |       0.1926 |\n",
      "| LMD-META+EXTRACTED-SYN-QUERIES   |       0.1751 |        0.1858 |      0.1027 |       0.1243 |\n",
      "| LMD-META+EXTRACTED-TREC-QUERIES  |       0.0964 |        0.1124 |      0.0522 |       0.0683 |\n",
      "| LMD-META-ONLY-ALL-QUERIES        |       0.4538 |        0.4699 |      0.2679 |       0.3446 |\n",
      "| LMD-META-ONLY-SYN-QUERIES        |       0.2599 |        0.2619 |      0.1512 |       0.1905 |\n",
      "| LMD-META-ONLY-TREC-QUERIES       |       0.1939 |        0.2081 |      0.1167 |       0.154  |\n"
     ]
    }
   ],
   "source": [
    "import pandas as pd\n",
    "\n",
    "df = pd.DataFrame(out).transpose()\n",
    "df.index.name = 'Model'\n",
    "df.columns.name = 'Metric'\n",
    "\n",
    "markdown_table = df.to_markdown()\n",
    "print(markdown_table)"
   ]
  },
  {
   "cell_type": "markdown",
   "metadata": {},
   "source": [
    "Synthetic row analysis"
   ]
  },
  {
   "cell_type": "code",
   "execution_count": 49,
   "metadata": {},
   "outputs": [],
   "source": [
    "def find_row(markdown_table: str, target_name: str) -> str:\n",
    "    lines = markdown_table.strip().split(\"\\n\")\n",
    "\n",
    "    for line in lines:\n",
    "        if re.match(f\"\\| {re.escape(target_name)}\", line):\n",
    "            return line"
   ]
  },
  {
   "cell_type": "code",
   "execution_count": 52,
   "metadata": {},
   "outputs": [
    {
     "name": "stdout",
     "output_type": "stream",
     "text": [
      "| CS-META+EXTRACTED-ALL-QUERIES    |       0.4756 |        0.5042 |      0.2692 |       0.3669 |\n",
      "| CS-META-ONLY-ALL-QUERIES         |       0.4599 |        0.474  |      0.2583 |       0.3436 |\n",
      "| CS-EXTRACTED-ONLY-ALL-QUERIES    |       0.1304 |        0.1384 |      0.0677 |       0.0802 |\n",
      "| BM25-META+EXTRACTED-ALL-QUERIES  |       0.3757 |        0.414  |      0.2087 |       0.2793 |\n",
      "| BM25-META-ONLY-ALL-QUERIES       |       0.5059 |        0.5222 |      0.2865 |       0.382  |\n",
      "| BM25-EXTRACTED-ONLY-ALL-QUERIES  |       0.1306 |        0.1431 |      0.0747 |       0.0906 |\n",
      "| LMD-META+EXTRACTED-ALL-QUERIES   |       0.2715 |        0.2982 |      0.1549 |       0.1926 |\n",
      "| LMD-META-ONLY-ALL-QUERIES        |       0.4538 |        0.4699 |      0.2679 |       0.3446 |\n",
      "| LMD-EXTRACTED-ONLY-ALL-QUERIES   |       0.1497 |        0.1655 |      0.0801 |       0.0998 |\n"
     ]
    }
   ],
   "source": [
    "synthetic_rows = [\n",
    "    \"CS-META+EXTRACTED-ALL-QUERIES\",\n",
    "    \"CS-META-ONLY-ALL-QUERIES\",\n",
    "    \"CS-EXTRACTED-ONLY-ALL-QUERIES\",\n",
    "    \"BM25-META+EXTRACTED-ALL-QUERIES\",\n",
    "    \"BM25-META-ONLY-ALL-QUERIES\",\n",
    "    \"BM25-EXTRACTED-ONLY-ALL-QUERIES\",\n",
    "    \"LMD-META+EXTRACTED-ALL-QUERIES\",\n",
    "    \"LMD-META-ONLY-ALL-QUERIES\",\n",
    "    \"LMD-EXTRACTED-ONLY-ALL-QUERIES\",\n",
    "]\n",
    "\n",
    "for name in synthetic_rows:\n",
    "    print(find_row(markdown_table, name))"
   ]
  }
 ],
 "metadata": {
  "kernelspec": {
   "display_name": "base",
   "language": "python",
   "name": "python3"
  },
  "language_info": {
   "codemirror_mode": {
    "name": "ipython",
    "version": 3
   },
   "file_extension": ".py",
   "mimetype": "text/x-python",
   "name": "python",
   "nbconvert_exporter": "python",
   "pygments_lexer": "ipython3",
   "version": "3.9.13"
  },
  "orig_nbformat": 4
 },
 "nbformat": 4,
 "nbformat_minor": 2
}
