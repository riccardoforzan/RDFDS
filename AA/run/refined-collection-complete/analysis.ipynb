{
 "cells": [
  {
   "cell_type": "code",
   "execution_count": null,
   "metadata": {},
   "outputs": [],
   "source": [
    "import os\n",
    "import re"
   ]
  },
  {
   "cell_type": "code",
   "execution_count": null,
   "metadata": {},
   "outputs": [],
   "source": [
    "sorted([item for item in os.listdir() if os.path.isdir(item)])"
   ]
  },
  {
   "cell_type": "code",
   "execution_count": null,
   "metadata": {},
   "outputs": [],
   "source": [
    "dataset_name = \"dataset-v2-vanilla-mfq_boost\""
   ]
  },
  {
   "cell_type": "code",
   "execution_count": null,
   "metadata": {},
   "outputs": [],
   "source": [
    "trec_executable = \"../trec_eval/trec_eval\"     # path to the TREC executable\n",
    "\n",
    "qrels_file_path = \"../qrels/qrels.txt\"\n",
    "# qrels_file_path = \"qrels/qrels_without_empty.txt\"\n",
    "# qrels_file_path = \"qrels/qrels_without_empty_nodes_file.txt\"\n",
    "\n",
    "run_output_folder = f\"{dataset_name}/output\"      # folder that contains the output of the runs\n",
    "trec_output_folder = f\"{dataset_name}/trec\"       # folder that will contain the TREC output "
   ]
  },
  {
   "cell_type": "markdown",
   "metadata": {},
   "source": [
    "## TREC\n",
    "Generate TREC output files"
   ]
  },
  {
   "cell_type": "code",
   "execution_count": null,
   "metadata": {},
   "outputs": [],
   "source": [
    "output_run = os.listdir(run_output_folder)"
   ]
  },
  {
   "cell_type": "code",
   "execution_count": null,
   "metadata": {},
   "outputs": [],
   "source": [
    "trec_cmd = f\"{trec_executable} -q -m all_trec -c {qrels_file_path}\""
   ]
  },
  {
   "cell_type": "code",
   "execution_count": null,
   "metadata": {},
   "outputs": [],
   "source": [
    "shell_commands = list()\n",
    "trec_output_files = list()\n",
    "\n",
    "for file in output_run:\n",
    "    trec_output_file = file.replace(\"output\", \"trec\")\n",
    "    cmd = f\"{trec_cmd} {run_output_folder}/{file} > {trec_output_folder}/{trec_output_file}\"\n",
    "\n",
    "    trec_output_files.append(trec_output_file)\n",
    "    shell_commands.append(cmd)"
   ]
  },
  {
   "cell_type": "code",
   "execution_count": null,
   "metadata": {},
   "outputs": [],
   "source": [
    "for cmd in shell_commands:\n",
    "    os.system(cmd)"
   ]
  },
  {
   "cell_type": "markdown",
   "metadata": {},
   "source": [
    "## Results\n",
    "Extrapolate data from trec output"
   ]
  },
  {
   "cell_type": "code",
   "execution_count": null,
   "metadata": {},
   "outputs": [],
   "source": [
    "files = os.listdir(trec_output_folder)\n",
    "files.sort()"
   ]
  },
  {
   "cell_type": "code",
   "execution_count": null,
   "metadata": {},
   "outputs": [],
   "source": [
    "# measurements = [\"ndcg_cut_5\", \"ndcg_cut_10\", \"map_cut_5\", \"map_cut_10\", \"ndcg\", \"map\" ,\"set_recall\"]\n",
    "measurements = [\"ndcg_cut_5\", \"ndcg_cut_10\", \"map_cut_5\", \"map_cut_10\"]\n",
    "\n",
    "def get_metrics(file_path: str)->dict:\n",
    "    d = dict()\n",
    "    with open(file_path) as f:\n",
    "        for line in f:\n",
    "            for m in measurements:\n",
    "                if re.match(f\"{m}\\s\", line):\n",
    "                    d[m] = line.split()[-1]\n",
    "    return d\n"
   ]
  },
  {
   "cell_type": "code",
   "execution_count": null,
   "metadata": {},
   "outputs": [],
   "source": [
    "out = dict()\n",
    "for file in files:\n",
    "    file_path = f\"{trec_output_folder}/{file}\"\n",
    "    key = file.replace('-trec.txt','')\n",
    "    out[key] =  get_metrics(file_path)"
   ]
  },
  {
   "cell_type": "code",
   "execution_count": null,
   "metadata": {},
   "outputs": [],
   "source": [
    "import pandas as pd\n",
    "\n",
    "df = pd.DataFrame(out).transpose()\n",
    "df.index.name = 'Model'\n",
    "df.columns.name = 'Metric'\n",
    "\n",
    "markdown_table = df.to_markdown()\n",
    "print(markdown_table)"
   ]
  },
  {
   "cell_type": "markdown",
   "metadata": {},
   "source": [
    "Synthetic row analysis"
   ]
  },
  {
   "cell_type": "code",
   "execution_count": null,
   "metadata": {},
   "outputs": [],
   "source": [
    "def find_row(markdown_table: str, target_name: str) -> str:\n",
    "    lines = markdown_table.strip().split(\"\\n\")\n",
    "\n",
    "    for line in lines:\n",
    "        if re.match(f\"\\| {re.escape(target_name)}\", line):\n",
    "            return line"
   ]
  },
  {
   "cell_type": "code",
   "execution_count": null,
   "metadata": {},
   "outputs": [],
   "source": [
    "synthetic_rows = [\n",
    "    \"CS-META+EXTRACTED-ALL-QUERIES\",\n",
    "    \"CS-META-ALL-QUERIES\",\n",
    "    \"CS-EXTRACTED-ALL-QUERIES\",\n",
    "    \"BM25-META+EXTRACTED-ALL-QUERIES\",\n",
    "    \"BM25-META-ALL-QUERIES\",\n",
    "    \"BM25-EXTRACTED-ALL-QUERIES\",\n",
    "    \"LMD-META+EXTRACTED-ALL-QUERIES\",\n",
    "    \"LMD-META-ALL-QUERIES\",\n",
    "    \"LMD-EXTRACTED-ALL-QUERIES\",\n",
    "]\n",
    "\n",
    "for name in synthetic_rows:\n",
    "    print(find_row(markdown_table, name))"
   ]
  }
 ],
 "metadata": {
  "kernelspec": {
   "display_name": "base",
   "language": "python",
   "name": "python3"
  },
  "language_info": {
   "codemirror_mode": {
    "name": "ipython",
    "version": 3
   },
   "file_extension": ".py",
   "mimetype": "text/x-python",
   "name": "python",
   "nbconvert_exporter": "python",
   "pygments_lexer": "ipython3",
   "version": "3.9.13"
  },
  "orig_nbformat": 4
 },
 "nbformat": 4,
 "nbformat_minor": 2
}
