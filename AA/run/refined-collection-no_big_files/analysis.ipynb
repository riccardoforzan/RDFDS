{
 "cells": [
  {
   "cell_type": "code",
   "execution_count": 4,
   "metadata": {},
   "outputs": [],
   "source": [
    "import os\n",
    "import re"
   ]
  },
  {
   "cell_type": "code",
   "execution_count": 5,
   "metadata": {},
   "outputs": [
    {
     "data": {
      "text/plain": [
       "['vanilla-mfq']"
      ]
     },
     "execution_count": 5,
     "metadata": {},
     "output_type": "execute_result"
    }
   ],
   "source": [
    "sorted([item for item in os.listdir() if os.path.isdir(item)])"
   ]
  },
  {
   "cell_type": "code",
   "execution_count": 6,
   "metadata": {},
   "outputs": [],
   "source": [
    "dataset_name = \"vanilla-mfq\""
   ]
  },
  {
   "cell_type": "code",
   "execution_count": 7,
   "metadata": {},
   "outputs": [],
   "source": [
    "trec_executable = \"../trec_eval/trec_eval\"     # path to the TREC executable\n",
    "\n",
    "qrels_file_path = \"../qrels/qrels.txt\"\n",
    "# qrels_file_path = \"qrels/qrels_without_empty.txt\"\n",
    "# qrels_file_path = \"qrels/qrels_without_empty_nodes_file.txt\"\n",
    "\n",
    "run_output_folder = f\"{dataset_name}/output\"      # folder that contains the output of the runs\n",
    "trec_output_folder = f\"{dataset_name}/trec\"       # folder that will contain the TREC output "
   ]
  },
  {
   "cell_type": "markdown",
   "metadata": {},
   "source": [
    "## TREC\n",
    "Generate TREC output files"
   ]
  },
  {
   "cell_type": "code",
   "execution_count": 8,
   "metadata": {},
   "outputs": [],
   "source": [
    "output_run = os.listdir(run_output_folder)"
   ]
  },
  {
   "cell_type": "code",
   "execution_count": 9,
   "metadata": {},
   "outputs": [],
   "source": [
    "trec_cmd = f\"{trec_executable} -q -m all_trec -c {qrels_file_path}\""
   ]
  },
  {
   "cell_type": "code",
   "execution_count": 10,
   "metadata": {},
   "outputs": [],
   "source": [
    "shell_commands = list()\n",
    "trec_output_files = list()\n",
    "\n",
    "for file in output_run:\n",
    "    trec_output_file = file.replace(\"output\", \"trec\")\n",
    "    cmd = f\"{trec_cmd} {run_output_folder}/{file} > {trec_output_folder}/{trec_output_file}\"\n",
    "\n",
    "    trec_output_files.append(trec_output_file)\n",
    "    shell_commands.append(cmd)"
   ]
  },
  {
   "cell_type": "code",
   "execution_count": 11,
   "metadata": {},
   "outputs": [],
   "source": [
    "for cmd in shell_commands:\n",
    "    os.system(cmd)"
   ]
  },
  {
   "cell_type": "markdown",
   "metadata": {},
   "source": [
    "## Results\n",
    "Extrapolate data from trec output"
   ]
  },
  {
   "cell_type": "code",
   "execution_count": 12,
   "metadata": {},
   "outputs": [],
   "source": [
    "files = os.listdir(trec_output_folder)\n",
    "files.sort()"
   ]
  },
  {
   "cell_type": "code",
   "execution_count": 13,
   "metadata": {},
   "outputs": [],
   "source": [
    "# measurements = [\"ndcg_cut_5\", \"ndcg_cut_10\", \"map_cut_5\", \"map_cut_10\", \"ndcg\", \"map\" ,\"set_recall\"]\n",
    "measurements = [\"ndcg_cut_5\", \"ndcg_cut_10\", \"map_cut_5\", \"map_cut_10\"]\n",
    "\n",
    "def get_metrics(file_path: str)->dict:\n",
    "    d = dict()\n",
    "    with open(file_path) as f:\n",
    "        for line in f:\n",
    "            for m in measurements:\n",
    "                if re.match(f\"{m}\\s\", line):\n",
    "                    d[m] = line.split()[-1]\n",
    "    return d\n"
   ]
  },
  {
   "cell_type": "code",
   "execution_count": 14,
   "metadata": {},
   "outputs": [],
   "source": [
    "out = dict()\n",
    "for file in files:\n",
    "    file_path = f\"{trec_output_folder}/{file}\"\n",
    "    key = file.replace('-trec.txt','')\n",
    "    out[key] =  get_metrics(file_path)"
   ]
  },
  {
   "cell_type": "code",
   "execution_count": 15,
   "metadata": {},
   "outputs": [
    {
     "name": "stdout",
     "output_type": "stream",
     "text": [
      "| Model                            |   ndcg_cut_5 |   ndcg_cut_10 |   map_cut_5 |   map_cut_10 |\n",
      "|:---------------------------------|-------------:|--------------:|------------:|-------------:|\n",
      "| BM25-EXTRACTED-ALL-QUERIES       |       0.1263 |        0.1383 |      0.0724 |       0.088  |\n",
      "| BM25-EXTRACTED-SYN-QUERIES       |       0.0759 |        0.085  |      0.0407 |       0.0514 |\n",
      "| BM25-EXTRACTED-TREC-QUERIES      |       0.0504 |        0.0533 |      0.0317 |       0.0366 |\n",
      "| BM25-META+EXTRACTED-ALL-QUERIES  |       0.3704 |        0.4099 |      0.2051 |       0.2752 |\n",
      "| BM25-META+EXTRACTED-SYN-QUERIES  |       0.2265 |        0.2435 |      0.1265 |       0.1661 |\n",
      "| BM25-META+EXTRACTED-TREC-QUERIES |       0.1439 |        0.1664 |      0.0786 |       0.1091 |\n",
      "| BM25-META-ALL-QUERIES            |       0.5059 |        0.5222 |      0.2865 |       0.382  |\n",
      "| BM25-META-SYN-QUERIES            |       0.2997 |        0.2996 |      0.1679 |       0.2185 |\n",
      "| BM25-META-TREC-QUERIES           |       0.2062 |        0.2226 |      0.1186 |       0.1635 |\n",
      "| CS-EXTRACTED-ALL-QUERIES         |       0.128  |        0.1362 |      0.0667 |       0.0789 |\n",
      "| CS-EXTRACTED-SYN-QUERIES         |       0.0745 |        0.08   |      0.0389 |       0.0457 |\n",
      "| CS-EXTRACTED-TREC-QUERIES        |       0.0535 |        0.0562 |      0.0277 |       0.0332 |\n",
      "| CS-META+EXTRACTED-ALL-QUERIES    |       0.4751 |        0.5042 |      0.2691 |       0.3667 |\n",
      "| CS-META+EXTRACTED-SYN-QUERIES    |       0.2745 |        0.2814 |      0.1522 |       0.2025 |\n",
      "| CS-META+EXTRACTED-TREC-QUERIES   |       0.2006 |        0.2228 |      0.1168 |       0.1642 |\n",
      "| CS-META-ALL-QUERIES              |       0.4599 |        0.474  |      0.2583 |       0.3436 |\n",
      "| CS-META-SYN-QUERIES              |       0.2644 |        0.2661 |      0.1447 |       0.1891 |\n",
      "| CS-META-TREC-QUERIES             |       0.1955 |        0.2079 |      0.1136 |       0.1545 |\n",
      "| LMD-EXTRACTED-ALL-QUERIES        |       0.1481 |        0.1624 |      0.0799 |       0.0992 |\n",
      "| LMD-EXTRACTED-SYN-QUERIES        |       0.0972 |        0.1028 |      0.0503 |       0.0621 |\n",
      "| LMD-EXTRACTED-TREC-QUERIES       |       0.0508 |        0.0596 |      0.0297 |       0.0371 |\n",
      "| LMD-META+EXTRACTED-ALL-QUERIES   |       0.2775 |        0.2997 |      0.159  |       0.1952 |\n",
      "| LMD-META+EXTRACTED-SYN-QUERIES   |       0.1764 |        0.185  |      0.1028 |       0.1236 |\n",
      "| LMD-META+EXTRACTED-TREC-QUERIES  |       0.1012 |        0.1147 |      0.0562 |       0.0715 |\n",
      "| LMD-META-ALL-QUERIES             |       0.4538 |        0.4699 |      0.2679 |       0.3446 |\n",
      "| LMD-META-SYN-QUERIES             |       0.2599 |        0.2619 |      0.1512 |       0.1905 |\n",
      "| LMD-META-TREC-QUERIES            |       0.1939 |        0.2081 |      0.1167 |       0.154  |\n"
     ]
    }
   ],
   "source": [
    "import pandas as pd\n",
    "\n",
    "df = pd.DataFrame(out).transpose()\n",
    "df.index.name = 'Model'\n",
    "df.columns.name = 'Metric'\n",
    "\n",
    "markdown_table = df.to_markdown()\n",
    "print(markdown_table)"
   ]
  },
  {
   "cell_type": "markdown",
   "metadata": {},
   "source": [
    "Synthetic row analysis"
   ]
  },
  {
   "cell_type": "code",
   "execution_count": 16,
   "metadata": {},
   "outputs": [],
   "source": [
    "def find_row(markdown_table: str, target_name: str) -> str:\n",
    "    lines = markdown_table.strip().split(\"\\n\")\n",
    "\n",
    "    for line in lines:\n",
    "        if re.match(f\"\\| {re.escape(target_name)}\", line):\n",
    "            return line"
   ]
  },
  {
   "cell_type": "code",
   "execution_count": 17,
   "metadata": {},
   "outputs": [
    {
     "name": "stdout",
     "output_type": "stream",
     "text": [
      "| CS-META+EXTRACTED-ALL-QUERIES    |       0.4751 |        0.5042 |      0.2691 |       0.3667 |\n",
      "| CS-META-ALL-QUERIES              |       0.4599 |        0.474  |      0.2583 |       0.3436 |\n",
      "| CS-EXTRACTED-ALL-QUERIES         |       0.128  |        0.1362 |      0.0667 |       0.0789 |\n",
      "| BM25-META+EXTRACTED-ALL-QUERIES  |       0.3704 |        0.4099 |      0.2051 |       0.2752 |\n",
      "| BM25-META-ALL-QUERIES            |       0.5059 |        0.5222 |      0.2865 |       0.382  |\n",
      "| BM25-EXTRACTED-ALL-QUERIES       |       0.1263 |        0.1383 |      0.0724 |       0.088  |\n",
      "| LMD-META+EXTRACTED-ALL-QUERIES   |       0.2775 |        0.2997 |      0.159  |       0.1952 |\n",
      "| LMD-META-ALL-QUERIES             |       0.4538 |        0.4699 |      0.2679 |       0.3446 |\n",
      "| LMD-EXTRACTED-ALL-QUERIES        |       0.1481 |        0.1624 |      0.0799 |       0.0992 |\n"
     ]
    }
   ],
   "source": [
    "synthetic_rows = [\n",
    "    \"CS-META+EXTRACTED-ALL-QUERIES\",\n",
    "    \"CS-META-ALL-QUERIES\",\n",
    "    \"CS-EXTRACTED-ALL-QUERIES\",\n",
    "    \"BM25-META+EXTRACTED-ALL-QUERIES\",\n",
    "    \"BM25-META-ALL-QUERIES\",\n",
    "    \"BM25-EXTRACTED-ALL-QUERIES\",\n",
    "    \"LMD-META+EXTRACTED-ALL-QUERIES\",\n",
    "    \"LMD-META-ALL-QUERIES\",\n",
    "    \"LMD-EXTRACTED-ALL-QUERIES\",\n",
    "]\n",
    "\n",
    "for name in synthetic_rows:\n",
    "    print(find_row(markdown_table, name))"
   ]
  }
 ],
 "metadata": {
  "kernelspec": {
   "display_name": "base",
   "language": "python",
   "name": "python3"
  },
  "language_info": {
   "codemirror_mode": {
    "name": "ipython",
    "version": 3
   },
   "file_extension": ".py",
   "mimetype": "text/x-python",
   "name": "python",
   "nbconvert_exporter": "python",
   "pygments_lexer": "ipython3",
   "version": "3.9.13"
  },
  "orig_nbformat": 4
 },
 "nbformat": 4,
 "nbformat_minor": 2
}
