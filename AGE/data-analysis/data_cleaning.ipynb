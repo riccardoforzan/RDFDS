{
 "cells": [
  {
   "attachments": {},
   "cell_type": "markdown",
   "metadata": {},
   "source": [
    "# Semi-automatic modifications to the collection"
   ]
  },
  {
   "attachments": {},
   "cell_type": "markdown",
   "metadata": {},
   "source": [
    "### Utility functions"
   ]
  },
  {
   "cell_type": "code",
   "execution_count": 7,
   "metadata": {},
   "outputs": [],
   "source": [
    "import os\n",
    "\n",
    "SIZE_LIMIT = 200 * 1024 * 1024  # 200 MB\n",
    "\n",
    "\n",
    "def is_file_larger_than_size_limit(filepath: str) -> bool:\n",
    "    size = os.path.getsize(str(filepath))\n",
    "    return int(size) >= int(SIZE_LIMIT)\n",
    "\n",
    "\n",
    "def read_head(filepath: str) -> str:\n",
    "    head = os.popen(f\"head {filepath}\").read()\n",
    "    return head"
   ]
  },
  {
   "cell_type": "code",
   "execution_count": 8,
   "metadata": {},
   "outputs": [],
   "source": [
    "RDF_SUFFIXES = [\"rdf\", \"ttl\", \"owl\", \"n3\", \"nt\", \"jsonld\", \"nq\", \"trig\", \"trix\"]\n",
    "\n",
    "\n",
    "def check_if_file_name_is_rdf(name: str) -> bool:\n",
    "    return name.split(\".\")[-1] in RDF_SUFFIXES"
   ]
  },
  {
   "cell_type": "code",
   "execution_count": 9,
   "metadata": {},
   "outputs": [],
   "source": [
    "import time\n",
    "from pathlib import Path\n",
    "\n",
    "\n",
    "def delete_file(file_path: str):\n",
    "    if os.path.isfile(file_path):\n",
    "        print(f\"Deleting {file_path}\")\n",
    "        os.remove(file_path)\n",
    "\n",
    "\n",
    "def change_extension(filepath: str, new_extension: str):\n",
    "    suffix = Path(filepath).suffix\n",
    "\n",
    "    new_name = None\n",
    "\n",
    "    if len(suffix) > 0:\n",
    "        new_name = filepath.replace(suffix, f\".{new_extension}\")\n",
    "    else:\n",
    "        new_name = f\"{filepath}.{new_extension}\"\n",
    "\n",
    "    if os.path.isfile(new_name):\n",
    "        time_str = time.strftime(\"%Y_%m_%d-%I_%M_%S\")\n",
    "        new_name = f\"{time_str}-{new_name}\"\n",
    "\n",
    "    print(f\"Renaming {filepath} to {new_name}\")\n",
    "    os.rename(filepath, new_name)"
   ]
  },
  {
   "cell_type": "code",
   "execution_count": 10,
   "metadata": {},
   "outputs": [],
   "source": [
    "def diff_file(file_path_1: str, file_path_2: str) -> str:\n",
    "    return os.popen(f\"diff {file_path_1} {file_path_2}\").read()"
   ]
  },
  {
   "cell_type": "code",
   "execution_count": 11,
   "metadata": {},
   "outputs": [],
   "source": [
    "def diff_dataset(dataset_path_1: str, dataset_path_2: str) -> str:\n",
    "    return os.popen(f\"diff -qr {dataset_path_1} {dataset_path_2}\").read()"
   ]
  },
  {
   "attachments": {},
   "cell_type": "markdown",
   "metadata": {},
   "source": [
    "## Delete HTML files"
   ]
  },
  {
   "cell_type": "code",
   "execution_count": 12,
   "metadata": {},
   "outputs": [],
   "source": [
    "rdf_but_actually_html = [\n",
    "    \"datasets/561/covidcountystatistics.ttl\",\n",
    "    \"datasets/561/covidstatisticsprofile.ttl\",\n",
    "    \"datasets/4354/rows.rdf\",\n",
    "    \"datasets/5662/rows.rdf\",\n",
    "    \"datasets/5663/rows.rdf\",\n",
    "    \"datasets/5665/rows.rdf\",\n",
    "    \"datasets/5719/rows.rdf\",\n",
    "    \"datasets/5720/rows.rdf\",\n",
    "    \"datasets/5721/rows.rdf\",\n",
    "    \"datasets/5739/rows.rdf\",\n",
    "    \"datasets/5740/rows.rdf\",\n",
    "    \"datasets/5741/rows.rdf\",\n",
    "    \"datasets/5742/rows.rdf\",\n",
    "    \"datasets/5743/rows.rdf\",\n",
    "    \"datasets/5744/rows.rdf\",\n",
    "    \"datasets/9692/rows.rdf\",\n",
    "    \"datasets/11003/rows.rdf\",\n",
    "    \"datasets/11520/rows.rdf\",\n",
    "    \"datasets/12635/foaf.rdf\",\n",
    "    \"datasets/12704/makxdekkers.rdf\",\n",
    "    \"datasets/12942/foaf.rdf\",\n",
    "    \"datasets/12949/foaf.rdf\",\n",
    "    \"datasets/13004/foaf.rdf\",\n",
    "    \"datasets/13148/foaf.rdf\",\n",
    "    \"datasets/13290/006893251.ttl\",\n",
    "    \"datasets/13290/006893251.rdf\",\n",
    "    \"datasets/13291/territory-environment-section.nt\",\n",
    "    \"datasets/13357/pml-justification.owl\",\n",
    "    \"datasets/13357/event.owl\",\n",
    "    \"datasets/13400/laser-printer.ttl\",\n",
    "    \"datasets/13581/caster-complessi.rdf\",\n",
    "    \"datasets/13581/titolariomaic.rdf\",\n",
    "    \"datasets/13581/entimaic.rdf\",\n",
    "    \"datasets/13581/commissioniparlamentariinchiesta.rdf\",\n",
    "    \"datasets/13581/uodmaic.rdf\",\n",
    "    \"datasets/13581/luoghiacs.rdf\",\n",
    "    \"datasets/13581/assembleacostituente.rdf\",\n",
    "    \"datasets/13581/personemaic.rdf\",\n",
    "    \"datasets/13581/caster-soggettiproduttori.rdf\",\n",
    "    \"datasets/13581/caster-soggetticonservatori.rdf\",\n",
    "    \"datasets/13590/l99.rdf\",\n",
    "    \"datasets/13590/s40.rdf\",\n",
    "    \"datasets/13590/asjp.owl\",\n",
    "    \"datasets/13590/r1234.rdf\",\n",
    "    \"datasets/13590/fromance.rdf\",\n",
    "    \"datasets/13590/d13-468.rdf\",\n",
    "    \"datasets/13723/00100204.ttl\",\n",
    "    \"datasets/13845/ntn-individuals.owl\",\n",
    "    \"datasets/13950/cell2159549-5275-262-1.rdf\",\n",
    "    \"datasets/14013/eventkg-r2.ttl\",\n",
    "    \"datasets/14160/fulldump.nq\",\n",
    "    \"datasets/14196/fro-usc-title-15-chapter-2d-s1-5.ttl\",\n",
    "    \"datasets/14196/fro-banking.ttl\",\n",
    "    \"datasets/14382/laser-printer.ttl\",\n",
    "    \"datasets/14469/00100204.ttl\",\n",
    "    \"datasets/14493/caster-complessi.rdf\",\n",
    "    \"datasets/14493/titolariomaic.rdf\",\n",
    "    \"datasets/14493/entimaic.rdf\",\n",
    "    \"datasets/14493/commissioniparlamentariinchiesta.rdf\",\n",
    "    \"datasets/14493/uodmaic.rdf\",\n",
    "    \"datasets/14493/luoghiacs.rdf\",\n",
    "    \"datasets/14493/assembleacostituente.rdf\",\n",
    "    \"datasets/14493/personemaic.rdf\",\n",
    "    \"datasets/14493/caster-soggettiproduttori.rdf\",\n",
    "    \"datasets/14493/caster-soggetticonservatori.rdf\",\n",
    "    \"datasets/14603/pml-justification.owl\",\n",
    "    \"datasets/14603/event.owl\",\n",
    "    \"datasets/14636/492dbb62-b569-f6cb-5822-545c474bc3db.rdf\",\n",
    "    \"datasets/14735/dump.nt\",\n",
    "    \"datasets/14735/terms.rdf\",\n",
    "    \"datasets/15056/l99.rdf\",\n",
    "    \"datasets/15056/s40.rdf\",\n",
    "    \"datasets/15056/asjp.owl\",\n",
    "    \"datasets/15056/r1234.rdf\",\n",
    "    \"datasets/15056/fromance.rdf\",\n",
    "    \"datasets/15056/d13-468.rdf\",\n",
    "    \"datasets/15144/n3.n3\",\n",
    "    \"datasets/15205/ntn-individuals.owl\",\n",
    "    \"datasets/15333/territory-environment-section.nt\",\n",
    "    \"datasets/15632/1920402.rdf\",\n",
    "    \"datasets/15636/dmo-government-staff-and-salary-data-template-march-2011version-4.rdf\",\n",
    "    \"datasets/15636/hmt-staffdata-mar2011.rdf\",\n",
    "    \"datasets/15636/apa-staffdata-oct2011.rdf\",\n",
    "    \"datasets/15636/300911-dmo-organogram-ver-2.rdf\",\n",
    "    \"datasets/15636/hmt-treasury-staff-and-salary-data-template-september-2011-for-input-final-v14.rdf\",\n",
    "    \"datasets/15636/apa-staffdata-mar2011.rdf\",\n",
    "    \"datasets/15715/junior-and-senior-organogram-data-2011-03-31.rdf\",\n",
    "    \"datasets/15736/tsol-staff-data-march-2011.rdf\",\n",
    "    \"datasets/15736/tsol-staff-data-september-2011.rdf\",\n",
    "    \"datasets/15737/wndc-senior-salary-and-organogram-march-2011v24.rdf\",\n",
    "    \"datasets/15737/300911-wndc-organogram-ver2.rdf\",\n",
    "    \"datasets/15739/hornimanstaff-and-salary-data.rdf\",\n",
    "    \"datasets/15743/wales-office-organogram.rdf\",\n",
    "    \"datasets/15749/government-staff-and-salary-data-march-2011-gscc.rdf\",\n",
    "    \"datasets/15753/may-2011-government-staff-and-salary-data-partnerships-for-schools-30-march-2011.rdf\",\n",
    "    \"datasets/15757/iwm-staff-and-salary-data-sept-2011.rdf\",\n",
    "    \"datasets/15761/government-staff-and-salary-data-ihol-march-2011-2.rdf\",\n",
    "    \"datasets/15762/transparency-organogram.rdf\",\n",
    "    \"datasets/15766/geffrye-museum-staff-and-salary-data-july-2011.rdf\",\n",
    "    \"datasets/15766/geffrye-museum-staff-and-salary-data-nov-2011.rdf\",\n",
    "    \"datasets/15767/1932550.rdf\",\n",
    "    \"datasets/15767/2035652.rdf\",\n",
    "    \"datasets/15771/2011-03-31-nhm-organograms.rdf\",\n",
    "    \"datasets/15771/2011-09-30-nhm-organograms.rdf\",\n",
    "    \"datasets/15774/2011-05-26-staff-posts-and-salary-data.rdf\",\n",
    "    \"datasets/15774/2011-12-05-ofqual-staff-salary-data-30092011.rdf\",\n",
    "    \"datasets/15779/government-staff-and-salary-data-template-v2.rdf\",\n",
    "    \"datasets/15779/copy-of-government-staff-and-salary-data-blank-template-october-2011-2.rdf\",\n",
    "    \"datasets/15781/1881-senior-and-junior-staff-and-their-pay-grades.rdf\",\n",
    "    \"datasets/15786/uksport-staff-and-salary-data-march2011.rdf\",\n",
    "    \"datasets/15788/nml-organogram2010.rdf\",\n",
    "    \"datasets/15798/organisation-data-1321011754.rdf\",\n",
    "    \"datasets/15798/government-staff-and-salary-data-blank-template-1311955022.rdf\",\n",
    "    \"datasets/15998/rdfdatamodel-bandi-forniture-servizi.rdf\",\n",
    "    \"datasets/15998/rdfdatamodel-altri-bandi.rdf\",\n",
    "    \"datasets/15998/rdfdatamodel-bandi-lavori-pubblici.rdf\",\n",
    "    \"datasets/16001/rdfschema.rdf\",\n",
    "    \"datasets/16002/rdfdatamodel-notizia.rdf\",\n",
    "    \"datasets/16004/rdfdatamodel-concorso.rdf\",\n",
    "    \"datasets/16005/rdfdatamodel-incarico.rdf\",\n",
    "    \"datasets/16006/rdfdatamodel-hotspot.rdf\",\n",
    "    \"datasets/21522/rdfdatamodel-immobile.rdf\",\n",
    "    \"datasets/21523/rdfschema.rdf\",\n",
    "    \"datasets/21525/rdfdatamodel-incarico.rdf\",\n",
    "    \"datasets/21526/rdfdatamodel-bandi-forniture-servizi.rdf\",\n",
    "    \"datasets/21526/rdfdatamodel-altri-bandi.rdf\",\n",
    "    \"datasets/21526/rdfdatamodel-bandi-lavori-pubblici.rdf\",\n",
    "    \"datasets/21527/rdfdatamodel-concorso.rdf\",\n",
    "    \"datasets/21528/rdfdatamodel-notizia.rdf\",\n",
    "    \"datasets/21529/rdfdatamodel-hotspot.rdf\",\n",
    "    \"datasets/41371/9evq-q4ni.rdf\",\n",
    "    \"datasets/41387/t4mm-ynkd.rdf\",\n",
    "    \"datasets/41391/czii-xhj9.rdf\",\n",
    "    \"datasets/41437/ifrs-uzjp.rdf\",\n",
    "    \"datasets/41439/4icd-wtsk.rdf\",\n",
    "    \"datasets/41444/3gk2-vh5k.rdf\",\n",
    "    \"datasets/41445/ipzh-446j.rdf\",\n",
    "    \"datasets/41449/482t-q4rs.rdf\",\n",
    "    \"datasets/41450/uh35-acwz.rdf\",\n",
    "    \"datasets/41454/42yc-giac.rdf\",\n",
    "    \"datasets/41455/v6fm-igu4.rdf\",\n",
    "    \"datasets/41456/crr5-2d65.rdf\",\n",
    "    \"datasets/41465/nvy7-tkh5.rdf\",\n",
    "    \"datasets/41469/i5wn-ri8c.rdf\",\n",
    "    \"datasets/41470/ihqv-a9gs.rdf\",\n",
    "    \"datasets/41485/jqvy-ujks.rdf\",\n",
    "    \"datasets/41501/e5jd-ytjd.rdf\",\n",
    "    \"datasets/41503/pmjs-6uqq.rdf\",\n",
    "    \"datasets/41504/6nsk-9bvz.rdf\",\n",
    "    \"datasets/41506/kcq6-et5q.rdf\",\n",
    "    \"datasets/41507/umf4-5kmu.rdf\",\n",
    "    \"datasets/41515/262v-pqa4.rdf\",\n",
    "    \"datasets/41516/bua2-8m9z.rdf\",\n",
    "    \"datasets/41517/euqj-acaw.rdf\",\n",
    "    \"datasets/41518/u8mi-c6pg.rdf\",\n",
    "    \"datasets/41519/eamz-affj.rdf\",\n",
    "    \"datasets/41520/ckfq-pjk7.rdf\",\n",
    "    \"datasets/41521/thk4-xhpc.rdf\",\n",
    "    \"datasets/41522/edbj-pf5t.rdf\",\n",
    "    \"datasets/41529/bdqp-b69h.rdf\",\n",
    "    \"datasets/41531/7c6w-2qvk.rdf\",\n",
    "    \"datasets/41534/pfin-hytb.rdf\",\n",
    "    \"datasets/41539/8axi-nkrk.rdf\",\n",
    "    \"datasets/41543/jt95-7nbp.rdf\",\n",
    "    \"datasets/41544/ve8x-7wpr.rdf\",\n",
    "    \"datasets/41545/icy5-rmhs.rdf\",\n",
    "    \"datasets/41551/wv9g-2f6t.rdf\",\n",
    "    \"datasets/41553/ebpk-uqj6.rdf\",\n",
    "    \"datasets/41554/peqv-8v8d.rdf\",\n",
    "    \"datasets/41562/9jqf-bv5r.rdf\",\n",
    "    \"datasets/41566/u2pr-yjem.rdf\",\n",
    "    \"datasets/41567/dtbb-ntrk.rdf\",\n",
    "    \"datasets/41575/hrms-kvnm.rdf\",\n",
    "    \"datasets/41579/ceue-hyth.rdf\",\n",
    "    \"datasets/41601/uyqg-fzse.rdf\",\n",
    "    \"datasets/41621/jxnv-8xjh.rdf\",\n",
    "    \"datasets/41623/uinr-uget.rdf\",\n",
    "    \"datasets/41628/hjfz-c27j.rdf\",\n",
    "    \"datasets/41629/yv5n-n5p6.rdf\",\n",
    "    \"datasets/41633/juhd-9k9e.rdf\",\n",
    "    \"datasets/41637/8u94-yfgk.rdf\",\n",
    "    \"datasets/41642/tpe5-6nkd.rdf\",\n",
    "    \"datasets/41646/56wk-ihbf.rdf\",\n",
    "    \"datasets/41650/mei3-ydbi.rdf\",\n",
    "    \"datasets/41653/2qeb-tphe.rdf\",\n",
    "    \"datasets/41654/knjf-uj4v.rdf\",\n",
    "    \"datasets/41658/yrc6-b6sx.rdf\",\n",
    "    \"datasets/41659/azh4-cire.rdf\",\n",
    "    \"datasets/41664/w6du-72j6.rdf\",\n",
    "    \"datasets/41675/yszw-pq5x.rdf\",\n",
    "    \"datasets/41683/32gq-nuwm.rdf\",\n",
    "    \"datasets/41685/hbkv-72qc.rdf\",\n",
    "    \"datasets/41686/fhqq-2mjq.rdf\",\n",
    "    \"datasets/41690/j5h2-6za2.rdf\",\n",
    "    \"datasets/41701/xpng-ppj3.rdf\",\n",
    "    \"datasets/41702/95br-iyzp.rdf\",\n",
    "    \"datasets/41703/7xmy-88ts.rdf\",\n",
    "    \"datasets/41704/ega3-ewab.rdf\",\n",
    "    \"datasets/41705/ahxt-tnnb.rdf\",\n",
    "    \"datasets/41706/gz3r-fk2y.rdf\",\n",
    "    \"datasets/41707/6sdr-8fgz.rdf\",\n",
    "    \"datasets/64157/kptj-tafi.rdf\",\n",
    "    \"datasets/64159/vkyy-2v6z.rdf\",\n",
    "    \"datasets/64163/i85s-twae.rdf\",\n",
    "    \"datasets/64165/vrsm-k79r.rdf\",\n",
    "    \"datasets/64167/4f3r-bvja.rdf\",\n",
    "    \"datasets/64168/3z7i-zwvu.rdf\",\n",
    "    \"datasets/64173/vrkj-8w4d.rdf\",\n",
    "    \"datasets/64174/vnqw-sx9g.rdf\",\n",
    "    \"datasets/64181/mudx-8k94.rdf\",\n",
    "    \"datasets/64186/gd4u-cu57.rdf\",\n",
    "    \"datasets/64194/5t3u-serj.rdf\",\n",
    "    \"datasets/64200/b3bu-fswq.rdf\",\n",
    "    \"datasets/77951/rj4h-8pn4.rdf\",\n",
    "]"
   ]
  },
  {
   "cell_type": "code",
   "execution_count": 13,
   "metadata": {},
   "outputs": [
    {
     "name": "stdout",
     "output_type": "stream",
     "text": [
      "Deleting datasets/561/covidcountystatistics.ttl\n",
      "Deleting datasets/561/covidstatisticsprofile.ttl\n",
      "Deleting datasets/4354/rows.rdf\n",
      "Deleting datasets/5662/rows.rdf\n",
      "Deleting datasets/5663/rows.rdf\n",
      "Deleting datasets/5665/rows.rdf\n",
      "Deleting datasets/5719/rows.rdf\n",
      "Deleting datasets/5720/rows.rdf\n",
      "Deleting datasets/5721/rows.rdf\n",
      "Deleting datasets/5739/rows.rdf\n",
      "Deleting datasets/5740/rows.rdf\n",
      "Deleting datasets/5741/rows.rdf\n",
      "Deleting datasets/5742/rows.rdf\n",
      "Deleting datasets/5743/rows.rdf\n",
      "Deleting datasets/5744/rows.rdf\n",
      "Deleting datasets/9692/rows.rdf\n",
      "Deleting datasets/11003/rows.rdf\n",
      "Deleting datasets/11520/rows.rdf\n",
      "Deleting datasets/12635/foaf.rdf\n",
      "Deleting datasets/12704/makxdekkers.rdf\n",
      "Deleting datasets/12942/foaf.rdf\n",
      "Deleting datasets/12949/foaf.rdf\n",
      "Deleting datasets/13004/foaf.rdf\n",
      "Deleting datasets/13148/foaf.rdf\n",
      "Deleting datasets/13290/006893251.ttl\n",
      "Deleting datasets/13290/006893251.rdf\n",
      "Deleting datasets/13291/territory-environment-section.nt\n",
      "Deleting datasets/13357/pml-justification.owl\n",
      "Deleting datasets/13357/event.owl\n",
      "Deleting datasets/13400/laser-printer.ttl\n",
      "Deleting datasets/13581/caster-complessi.rdf\n",
      "Deleting datasets/13581/titolariomaic.rdf\n",
      "Deleting datasets/13581/entimaic.rdf\n",
      "Deleting datasets/13581/commissioniparlamentariinchiesta.rdf\n",
      "Deleting datasets/13581/uodmaic.rdf\n",
      "Deleting datasets/13581/luoghiacs.rdf\n",
      "Deleting datasets/13581/assembleacostituente.rdf\n",
      "Deleting datasets/13581/personemaic.rdf\n",
      "Deleting datasets/13581/caster-soggettiproduttori.rdf\n",
      "Deleting datasets/13581/caster-soggetticonservatori.rdf\n",
      "Deleting datasets/13590/l99.rdf\n",
      "Deleting datasets/13590/s40.rdf\n",
      "Deleting datasets/13590/asjp.owl\n",
      "Deleting datasets/13590/r1234.rdf\n",
      "Deleting datasets/13590/fromance.rdf\n",
      "Deleting datasets/13590/d13-468.rdf\n",
      "Deleting datasets/13723/00100204.ttl\n",
      "Deleting datasets/13845/ntn-individuals.owl\n",
      "Deleting datasets/13950/cell2159549-5275-262-1.rdf\n",
      "Deleting datasets/14013/eventkg-r2.ttl\n",
      "Deleting datasets/14160/fulldump.nq\n",
      "Deleting datasets/14196/fro-usc-title-15-chapter-2d-s1-5.ttl\n",
      "Deleting datasets/14196/fro-banking.ttl\n",
      "Deleting datasets/14382/laser-printer.ttl\n",
      "Deleting datasets/14469/00100204.ttl\n",
      "Deleting datasets/14493/caster-complessi.rdf\n",
      "Deleting datasets/14493/titolariomaic.rdf\n",
      "Deleting datasets/14493/entimaic.rdf\n",
      "Deleting datasets/14493/commissioniparlamentariinchiesta.rdf\n",
      "Deleting datasets/14493/uodmaic.rdf\n",
      "Deleting datasets/14493/luoghiacs.rdf\n",
      "Deleting datasets/14493/assembleacostituente.rdf\n",
      "Deleting datasets/14493/personemaic.rdf\n",
      "Deleting datasets/14493/caster-soggettiproduttori.rdf\n",
      "Deleting datasets/14493/caster-soggetticonservatori.rdf\n",
      "Deleting datasets/14603/pml-justification.owl\n",
      "Deleting datasets/14603/event.owl\n",
      "Deleting datasets/14636/492dbb62-b569-f6cb-5822-545c474bc3db.rdf\n",
      "Deleting datasets/14735/dump.nt\n",
      "Deleting datasets/14735/terms.rdf\n",
      "Deleting datasets/15056/l99.rdf\n",
      "Deleting datasets/15056/s40.rdf\n",
      "Deleting datasets/15056/asjp.owl\n",
      "Deleting datasets/15056/r1234.rdf\n",
      "Deleting datasets/15056/fromance.rdf\n",
      "Deleting datasets/15056/d13-468.rdf\n",
      "Deleting datasets/15144/n3.n3\n",
      "Deleting datasets/15205/ntn-individuals.owl\n",
      "Deleting datasets/15333/territory-environment-section.nt\n",
      "Deleting datasets/15632/1920402.rdf\n",
      "Deleting datasets/15636/dmo-government-staff-and-salary-data-template-march-2011version-4.rdf\n",
      "Deleting datasets/15636/hmt-staffdata-mar2011.rdf\n",
      "Deleting datasets/15636/apa-staffdata-oct2011.rdf\n",
      "Deleting datasets/15636/300911-dmo-organogram-ver-2.rdf\n",
      "Deleting datasets/15636/hmt-treasury-staff-and-salary-data-template-september-2011-for-input-final-v14.rdf\n",
      "Deleting datasets/15636/apa-staffdata-mar2011.rdf\n",
      "Deleting datasets/15715/junior-and-senior-organogram-data-2011-03-31.rdf\n",
      "Deleting datasets/15736/tsol-staff-data-march-2011.rdf\n",
      "Deleting datasets/15736/tsol-staff-data-september-2011.rdf\n",
      "Deleting datasets/15737/wndc-senior-salary-and-organogram-march-2011v24.rdf\n",
      "Deleting datasets/15737/300911-wndc-organogram-ver2.rdf\n",
      "Deleting datasets/15739/hornimanstaff-and-salary-data.rdf\n",
      "Deleting datasets/15743/wales-office-organogram.rdf\n",
      "Deleting datasets/15749/government-staff-and-salary-data-march-2011-gscc.rdf\n",
      "Deleting datasets/15753/may-2011-government-staff-and-salary-data-partnerships-for-schools-30-march-2011.rdf\n",
      "Deleting datasets/15757/iwm-staff-and-salary-data-sept-2011.rdf\n",
      "Deleting datasets/15761/government-staff-and-salary-data-ihol-march-2011-2.rdf\n",
      "Deleting datasets/15762/transparency-organogram.rdf\n",
      "Deleting datasets/15766/geffrye-museum-staff-and-salary-data-july-2011.rdf\n",
      "Deleting datasets/15766/geffrye-museum-staff-and-salary-data-nov-2011.rdf\n",
      "Deleting datasets/15767/1932550.rdf\n",
      "Deleting datasets/15767/2035652.rdf\n",
      "Deleting datasets/15771/2011-03-31-nhm-organograms.rdf\n",
      "Deleting datasets/15771/2011-09-30-nhm-organograms.rdf\n",
      "Deleting datasets/15774/2011-05-26-staff-posts-and-salary-data.rdf\n",
      "Deleting datasets/15774/2011-12-05-ofqual-staff-salary-data-30092011.rdf\n",
      "Deleting datasets/15779/government-staff-and-salary-data-template-v2.rdf\n",
      "Deleting datasets/15779/copy-of-government-staff-and-salary-data-blank-template-october-2011-2.rdf\n",
      "Deleting datasets/15781/1881-senior-and-junior-staff-and-their-pay-grades.rdf\n",
      "Deleting datasets/15786/uksport-staff-and-salary-data-march2011.rdf\n",
      "Deleting datasets/15788/nml-organogram2010.rdf\n",
      "Deleting datasets/15798/organisation-data-1321011754.rdf\n",
      "Deleting datasets/15798/government-staff-and-salary-data-blank-template-1311955022.rdf\n",
      "Deleting datasets/15998/rdfdatamodel-bandi-forniture-servizi.rdf\n",
      "Deleting datasets/15998/rdfdatamodel-altri-bandi.rdf\n",
      "Deleting datasets/15998/rdfdatamodel-bandi-lavori-pubblici.rdf\n",
      "Deleting datasets/16001/rdfschema.rdf\n",
      "Deleting datasets/16002/rdfdatamodel-notizia.rdf\n",
      "Deleting datasets/16004/rdfdatamodel-concorso.rdf\n",
      "Deleting datasets/16005/rdfdatamodel-incarico.rdf\n",
      "Deleting datasets/16006/rdfdatamodel-hotspot.rdf\n",
      "Deleting datasets/21522/rdfdatamodel-immobile.rdf\n",
      "Deleting datasets/21523/rdfschema.rdf\n",
      "Deleting datasets/21525/rdfdatamodel-incarico.rdf\n",
      "Deleting datasets/21526/rdfdatamodel-bandi-forniture-servizi.rdf\n",
      "Deleting datasets/21526/rdfdatamodel-altri-bandi.rdf\n",
      "Deleting datasets/21526/rdfdatamodel-bandi-lavori-pubblici.rdf\n",
      "Deleting datasets/21527/rdfdatamodel-concorso.rdf\n",
      "Deleting datasets/21528/rdfdatamodel-notizia.rdf\n",
      "Deleting datasets/21529/rdfdatamodel-hotspot.rdf\n",
      "Deleting datasets/41371/9evq-q4ni.rdf\n",
      "Deleting datasets/41387/t4mm-ynkd.rdf\n",
      "Deleting datasets/41391/czii-xhj9.rdf\n",
      "Deleting datasets/41437/ifrs-uzjp.rdf\n",
      "Deleting datasets/41439/4icd-wtsk.rdf\n",
      "Deleting datasets/41444/3gk2-vh5k.rdf\n",
      "Deleting datasets/41445/ipzh-446j.rdf\n",
      "Deleting datasets/41449/482t-q4rs.rdf\n",
      "Deleting datasets/41450/uh35-acwz.rdf\n",
      "Deleting datasets/41454/42yc-giac.rdf\n",
      "Deleting datasets/41455/v6fm-igu4.rdf\n",
      "Deleting datasets/41456/crr5-2d65.rdf\n",
      "Deleting datasets/41465/nvy7-tkh5.rdf\n",
      "Deleting datasets/41469/i5wn-ri8c.rdf\n",
      "Deleting datasets/41470/ihqv-a9gs.rdf\n",
      "Deleting datasets/41485/jqvy-ujks.rdf\n",
      "Deleting datasets/41501/e5jd-ytjd.rdf\n",
      "Deleting datasets/41503/pmjs-6uqq.rdf\n",
      "Deleting datasets/41504/6nsk-9bvz.rdf\n",
      "Deleting datasets/41506/kcq6-et5q.rdf\n",
      "Deleting datasets/41507/umf4-5kmu.rdf\n",
      "Deleting datasets/41515/262v-pqa4.rdf\n",
      "Deleting datasets/41516/bua2-8m9z.rdf\n",
      "Deleting datasets/41517/euqj-acaw.rdf\n",
      "Deleting datasets/41518/u8mi-c6pg.rdf\n",
      "Deleting datasets/41519/eamz-affj.rdf\n",
      "Deleting datasets/41520/ckfq-pjk7.rdf\n",
      "Deleting datasets/41521/thk4-xhpc.rdf\n",
      "Deleting datasets/41522/edbj-pf5t.rdf\n",
      "Deleting datasets/41529/bdqp-b69h.rdf\n",
      "Deleting datasets/41531/7c6w-2qvk.rdf\n",
      "Deleting datasets/41534/pfin-hytb.rdf\n",
      "Deleting datasets/41539/8axi-nkrk.rdf\n",
      "Deleting datasets/41543/jt95-7nbp.rdf\n",
      "Deleting datasets/41544/ve8x-7wpr.rdf\n",
      "Deleting datasets/41545/icy5-rmhs.rdf\n",
      "Deleting datasets/41551/wv9g-2f6t.rdf\n",
      "Deleting datasets/41553/ebpk-uqj6.rdf\n",
      "Deleting datasets/41554/peqv-8v8d.rdf\n",
      "Deleting datasets/41562/9jqf-bv5r.rdf\n",
      "Deleting datasets/41566/u2pr-yjem.rdf\n",
      "Deleting datasets/41567/dtbb-ntrk.rdf\n",
      "Deleting datasets/41575/hrms-kvnm.rdf\n",
      "Deleting datasets/41579/ceue-hyth.rdf\n",
      "Deleting datasets/41601/uyqg-fzse.rdf\n",
      "Deleting datasets/41621/jxnv-8xjh.rdf\n",
      "Deleting datasets/41623/uinr-uget.rdf\n",
      "Deleting datasets/41628/hjfz-c27j.rdf\n",
      "Deleting datasets/41629/yv5n-n5p6.rdf\n",
      "Deleting datasets/41633/juhd-9k9e.rdf\n",
      "Deleting datasets/41637/8u94-yfgk.rdf\n",
      "Deleting datasets/41642/tpe5-6nkd.rdf\n",
      "Deleting datasets/41646/56wk-ihbf.rdf\n",
      "Deleting datasets/41650/mei3-ydbi.rdf\n",
      "Deleting datasets/41653/2qeb-tphe.rdf\n",
      "Deleting datasets/41654/knjf-uj4v.rdf\n",
      "Deleting datasets/41658/yrc6-b6sx.rdf\n",
      "Deleting datasets/41659/azh4-cire.rdf\n",
      "Deleting datasets/41664/w6du-72j6.rdf\n",
      "Deleting datasets/41675/yszw-pq5x.rdf\n",
      "Deleting datasets/41683/32gq-nuwm.rdf\n",
      "Deleting datasets/41685/hbkv-72qc.rdf\n",
      "Deleting datasets/41686/fhqq-2mjq.rdf\n",
      "Deleting datasets/41690/j5h2-6za2.rdf\n",
      "Deleting datasets/41701/xpng-ppj3.rdf\n",
      "Deleting datasets/41702/95br-iyzp.rdf\n",
      "Deleting datasets/41703/7xmy-88ts.rdf\n",
      "Deleting datasets/41704/ega3-ewab.rdf\n",
      "Deleting datasets/41705/ahxt-tnnb.rdf\n",
      "Deleting datasets/41706/gz3r-fk2y.rdf\n",
      "Deleting datasets/41707/6sdr-8fgz.rdf\n",
      "Deleting datasets/64157/kptj-tafi.rdf\n",
      "Deleting datasets/64159/vkyy-2v6z.rdf\n",
      "Deleting datasets/64163/i85s-twae.rdf\n",
      "Deleting datasets/64165/vrsm-k79r.rdf\n",
      "Deleting datasets/64167/4f3r-bvja.rdf\n",
      "Deleting datasets/64168/3z7i-zwvu.rdf\n",
      "Deleting datasets/64173/vrkj-8w4d.rdf\n",
      "Deleting datasets/64174/vnqw-sx9g.rdf\n",
      "Deleting datasets/64181/mudx-8k94.rdf\n",
      "Deleting datasets/64186/gd4u-cu57.rdf\n",
      "Deleting datasets/64194/5t3u-serj.rdf\n",
      "Deleting datasets/64200/b3bu-fswq.rdf\n",
      "Deleting datasets/77951/rj4h-8pn4.rdf\n"
     ]
    }
   ],
   "source": [
    "for f in rdf_but_actually_html:\n",
    "    delete_file(f)"
   ]
  },
  {
   "cell_type": "code",
   "execution_count": 14,
   "metadata": {},
   "outputs": [],
   "source": [
    "unparsed_html = [\n",
    "    \"datasets/13254/databnf-all-rdf-xml.tar.gz-user-databnf-password-databnf\",\n",
    "    \"datasets/13290/006893251.json\",\n",
    "    \"datasets/13291/society-section\",\n",
    "    \"datasets/13291/population-section\",\n",
    "    \"datasets/13291/economy-section\",\n",
    "    \"datasets/13291/active-population-economic-sector-nace09-timeseries\",\n",
    "    \"datasets/13351/cc195814-83a4-386f-509a-37e2f35a204b.html\",\n",
    "    \"datasets/13356/523\",\n",
    "    \"datasets/13356/spatial\",\n",
    "    \"datasets/13357/data-view\",\n",
    "    \"datasets/13357/prov\",\n",
    "    \"datasets/13357/tvcg.2010.181\",\n",
    "    \"datasets/13357/void\",\n",
    "    \"datasets/13357/dcat\",\n",
    "    \"datasets/13369/linux\",\n",
    "    \"datasets/13384/4bf87ee3-8f52-94bb-2398-44e7af6980e4.html\",\n",
    "    \"datasets/13388/paris\",\n",
    "    \"datasets/13394/5f51f368-635f-adb1-5968-f8a8d8471070.html\",\n",
    "    \"datasets/13412/sparql-service-description\",\n",
    "    \"datasets/13412/prov\",\n",
    "    \"datasets/13412/void\",\n",
    "    \"datasets/13412/dcat\",\n",
    "    \"datasets/13421/cb6ceeb7-47af-f243-3e45-3c0a916f6c17.html\",\n",
    "    \"datasets/13452/7d0e4f43-405b-760e-3f62-88874c758714.html\",\n",
    "    \"datasets/13568/1745\",\n",
    "    \"datasets/13581/cd1700000001\",\n",
    "    \"datasets/13582/p305757\",\n",
    "    \"datasets/13590/families.rdf.zip\",\n",
    "    \"datasets/13590/senses.rdf.zip\",\n",
    "    \"datasets/13590/renderings.ttl.zip\",\n",
    "    \"datasets/13590/languoids.rdf.zip\",\n",
    "    \"datasets/13594/aanmonstering-del-gem-1890-35\",\n",
    "    \"datasets/13623/cc195814-83a4-386f-509a-37e2f35a204b.html\",\n",
    "    \"datasets/13759/prov\",\n",
    "    \"datasets/13759/void\",\n",
    "    \"datasets/13759/dcat\",\n",
    "    \"datasets/13796/sparql-service-description\",\n",
    "    \"datasets/13796/prov\",\n",
    "    \"datasets/13796/void\",\n",
    "    \"datasets/13796/dcat\",\n",
    "    \"datasets/13990/examples\",\n",
    "    \"datasets/14336/linux\",\n",
    "    \"datasets/14451/nuts1\",\n",
    "    \"datasets/14451/lv\",\n",
    "    \"datasets/14486/aanmonstering-del-gem-1890-35\",\n",
    "    \"datasets/14491/p305757\",\n",
    "    \"datasets/14493/cd1700000001\",\n",
    "    \"datasets/14587/4bf87ee3-8f52-94bb-2398-44e7af6980e4.html\",\n",
    "    \"datasets/14599/5f51f368-635f-adb1-5968-f8a8d8471070.html\",\n",
    "    \"datasets/14603/data-view\",\n",
    "    \"datasets/14603/prov\",\n",
    "    \"datasets/14603/tvcg.2010.181\",\n",
    "    \"datasets/14603/void\",\n",
    "    \"datasets/14603/dcat\",\n",
    "    \"datasets/14604/e199bcf2-bf94-6b87-81a0-4dacaec11f46.html\",\n",
    "    \"datasets/14636/492dbb62-b569-f6cb-5822-545c474bc3db.html\",\n",
    "    \"datasets/14637/7d0e4f43-405b-760e-3f62-88874c758714.html\",\n",
    "    \"datasets/14735/data.nobelprize.org\",\n",
    "    \"datasets/14735/1\",\n",
    "    \"datasets/14806/sparql-service-description\",\n",
    "    \"datasets/14806/prov\",\n",
    "    \"datasets/14806/void\",\n",
    "    \"datasets/14806/dcat\",\n",
    "    \"datasets/15006/138269.3\",\n",
    "    \"datasets/15056/families.rdf.zip\",\n",
    "    \"datasets/15056/senses.rdf.zip\",\n",
    "    \"datasets/15056/renderings.ttl.zip\",\n",
    "    \"datasets/15056/languoids.rdf.zip\",\n",
    "    \"datasets/15082/sparql-service-description\",\n",
    "    \"datasets/15082/prov\",\n",
    "    \"datasets/15082/void\",\n",
    "    \"datasets/15082/dcat\",\n",
    "    \"datasets/15150/prov\",\n",
    "    \"datasets/15150/void\",\n",
    "    \"datasets/15150/dcat\",\n",
    "    \"datasets/15333/society-section\",\n",
    "    \"datasets/15333/population-section\",\n",
    "    \"datasets/15333/economy-section\",\n",
    "    \"datasets/15333/active-population-economic-sector-nace09-timeseries\",\n",
    "    \"datasets/15381/523\",\n",
    "    \"datasets/15381/spatial\",\n",
    "    \"datasets/15414/paris\",\n",
    "    \"datasets/15458/2ffc8ca0-4822-36b8-620b-24d356101748.html\",\n",
    "    \"datasets/15788/2011-nml-organogram.rdf-service-wms-request-getcapabilities-version-1.3\",\n",
    "    \"datasets/21468/proposte-qtxt-select-20-20where-20-7b-s-20-p-20-o-7d-20limit-201000\",\n",
    "]"
   ]
  },
  {
   "cell_type": "code",
   "execution_count": 15,
   "metadata": {},
   "outputs": [
    {
     "name": "stdout",
     "output_type": "stream",
     "text": [
      "Deleting datasets/13254/databnf-all-rdf-xml.tar.gz-user-databnf-password-databnf\n",
      "Deleting datasets/13290/006893251.json\n",
      "Deleting datasets/13291/society-section\n",
      "Deleting datasets/13291/population-section\n",
      "Deleting datasets/13291/economy-section\n",
      "Deleting datasets/13291/active-population-economic-sector-nace09-timeseries\n",
      "Deleting datasets/13351/cc195814-83a4-386f-509a-37e2f35a204b.html\n",
      "Deleting datasets/13356/523\n",
      "Deleting datasets/13356/spatial\n",
      "Deleting datasets/13357/data-view\n",
      "Deleting datasets/13357/prov\n",
      "Deleting datasets/13357/tvcg.2010.181\n",
      "Deleting datasets/13357/void\n",
      "Deleting datasets/13357/dcat\n",
      "Deleting datasets/13369/linux\n",
      "Deleting datasets/13384/4bf87ee3-8f52-94bb-2398-44e7af6980e4.html\n",
      "Deleting datasets/13388/paris\n",
      "Deleting datasets/13394/5f51f368-635f-adb1-5968-f8a8d8471070.html\n",
      "Deleting datasets/13412/sparql-service-description\n",
      "Deleting datasets/13412/prov\n",
      "Deleting datasets/13412/void\n",
      "Deleting datasets/13412/dcat\n",
      "Deleting datasets/13421/cb6ceeb7-47af-f243-3e45-3c0a916f6c17.html\n",
      "Deleting datasets/13452/7d0e4f43-405b-760e-3f62-88874c758714.html\n",
      "Deleting datasets/13568/1745\n",
      "Deleting datasets/13581/cd1700000001\n",
      "Deleting datasets/13582/p305757\n",
      "Deleting datasets/13590/families.rdf.zip\n",
      "Deleting datasets/13590/senses.rdf.zip\n",
      "Deleting datasets/13590/renderings.ttl.zip\n",
      "Deleting datasets/13590/languoids.rdf.zip\n",
      "Deleting datasets/13594/aanmonstering-del-gem-1890-35\n",
      "Deleting datasets/13623/cc195814-83a4-386f-509a-37e2f35a204b.html\n",
      "Deleting datasets/13759/prov\n",
      "Deleting datasets/13759/void\n",
      "Deleting datasets/13759/dcat\n",
      "Deleting datasets/13796/sparql-service-description\n",
      "Deleting datasets/13796/prov\n",
      "Deleting datasets/13796/void\n",
      "Deleting datasets/13796/dcat\n",
      "Deleting datasets/13990/examples\n",
      "Deleting datasets/14336/linux\n",
      "Deleting datasets/14451/nuts1\n",
      "Deleting datasets/14451/lv\n",
      "Deleting datasets/14486/aanmonstering-del-gem-1890-35\n",
      "Deleting datasets/14491/p305757\n",
      "Deleting datasets/14493/cd1700000001\n",
      "Deleting datasets/14587/4bf87ee3-8f52-94bb-2398-44e7af6980e4.html\n",
      "Deleting datasets/14599/5f51f368-635f-adb1-5968-f8a8d8471070.html\n",
      "Deleting datasets/14603/data-view\n",
      "Deleting datasets/14603/prov\n",
      "Deleting datasets/14603/tvcg.2010.181\n",
      "Deleting datasets/14603/void\n",
      "Deleting datasets/14603/dcat\n",
      "Deleting datasets/14604/e199bcf2-bf94-6b87-81a0-4dacaec11f46.html\n",
      "Deleting datasets/14636/492dbb62-b569-f6cb-5822-545c474bc3db.html\n",
      "Deleting datasets/14637/7d0e4f43-405b-760e-3f62-88874c758714.html\n",
      "Deleting datasets/14735/data.nobelprize.org\n",
      "Deleting datasets/14735/1\n",
      "Deleting datasets/14806/sparql-service-description\n",
      "Deleting datasets/14806/prov\n",
      "Deleting datasets/14806/void\n",
      "Deleting datasets/14806/dcat\n",
      "Deleting datasets/15006/138269.3\n",
      "Deleting datasets/15056/families.rdf.zip\n",
      "Deleting datasets/15056/senses.rdf.zip\n",
      "Deleting datasets/15056/renderings.ttl.zip\n",
      "Deleting datasets/15056/languoids.rdf.zip\n",
      "Deleting datasets/15082/sparql-service-description\n",
      "Deleting datasets/15082/prov\n",
      "Deleting datasets/15082/void\n",
      "Deleting datasets/15082/dcat\n",
      "Deleting datasets/15150/prov\n",
      "Deleting datasets/15150/void\n",
      "Deleting datasets/15150/dcat\n",
      "Deleting datasets/15333/society-section\n",
      "Deleting datasets/15333/population-section\n",
      "Deleting datasets/15333/economy-section\n",
      "Deleting datasets/15333/active-population-economic-sector-nace09-timeseries\n",
      "Deleting datasets/15381/523\n",
      "Deleting datasets/15381/spatial\n",
      "Deleting datasets/15414/paris\n",
      "Deleting datasets/15458/2ffc8ca0-4822-36b8-620b-24d356101748.html\n",
      "Deleting datasets/15788/2011-nml-organogram.rdf-service-wms-request-getcapabilities-version-1.3\n",
      "Deleting datasets/21468/proposte-qtxt-select-20-20where-20-7b-s-20-p-20-o-7d-20limit-201000\n"
     ]
    }
   ],
   "source": [
    "for f in unparsed_html:\n",
    "    delete_file(f)"
   ]
  },
  {
   "attachments": {},
   "cell_type": "markdown",
   "metadata": {},
   "source": [
    "## Delete JSON files"
   ]
  },
  {
   "cell_type": "code",
   "execution_count": 16,
   "metadata": {},
   "outputs": [],
   "source": [
    "rdf_but_actually_json = [\n",
    "    \"datasets/569/rows.rdf\",\n",
    "    \"datasets/573/rows.rdf\",\n",
    "    \"datasets/574/rows.rdf\",\n",
    "    \"datasets/576/rows.rdf\",\n",
    "    \"datasets/588/rows.rdf\",\n",
    "    \"datasets/599/rows.rdf\",\n",
    "    \"datasets/615/rows.rdf\",\n",
    "    \"datasets/618/rows.rdf\",\n",
    "    \"datasets/622/rows.rdf\",\n",
    "    \"datasets/623/rows.rdf\",\n",
    "    \"datasets/633/rows.rdf\",\n",
    "    \"datasets/635/rows.rdf\",\n",
    "    \"datasets/636/rows.rdf\",\n",
    "    \"datasets/644/rows.rdf\",\n",
    "    \"datasets/659/rows.rdf\",\n",
    "    \"datasets/684/rows.rdf\",\n",
    "    \"datasets/687/rows.rdf\",\n",
    "    \"datasets/725/rows.rdf\",\n",
    "    \"datasets/726/rows.rdf\",\n",
    "    \"datasets/743/rows.rdf\",\n",
    "    \"datasets/748/rows.rdf\",\n",
    "    \"datasets/753/rows.rdf\",\n",
    "    \"datasets/764/rows.rdf\",\n",
    "    \"datasets/769/rows.rdf\",\n",
    "    \"datasets/772/rows.rdf\",\n",
    "    \"datasets/773/rows.rdf\",\n",
    "    \"datasets/780/rows.rdf\",\n",
    "    \"datasets/784/rows.rdf\",\n",
    "    \"datasets/786/rows.rdf\",\n",
    "    \"datasets/794/rows.rdf\",\n",
    "    \"datasets/807/rows.rdf\",\n",
    "    \"datasets/811/rows.rdf\",\n",
    "    \"datasets/818/rows.rdf\",\n",
    "    \"datasets/830/rows.rdf\",\n",
    "    \"datasets/831/rows.rdf\",\n",
    "    \"datasets/837/rows.rdf\",\n",
    "    \"datasets/849/rows.rdf\",\n",
    "    \"datasets/858/rows.rdf\",\n",
    "    \"datasets/859/rows.rdf\",\n",
    "    \"datasets/861/rows.rdf\",\n",
    "    \"datasets/880/rows.rdf\",\n",
    "    \"datasets/888/rows.rdf\",\n",
    "    \"datasets/894/rows.rdf\",\n",
    "    \"datasets/895/rows.rdf\",\n",
    "    \"datasets/14418/173390.rdf\",\n",
    "]"
   ]
  },
  {
   "cell_type": "code",
   "execution_count": 17,
   "metadata": {},
   "outputs": [
    {
     "name": "stdout",
     "output_type": "stream",
     "text": [
      "Deleting datasets/569/rows.rdf\n",
      "Deleting datasets/573/rows.rdf\n",
      "Deleting datasets/574/rows.rdf\n",
      "Deleting datasets/576/rows.rdf\n",
      "Deleting datasets/588/rows.rdf\n",
      "Deleting datasets/599/rows.rdf\n",
      "Deleting datasets/615/rows.rdf\n",
      "Deleting datasets/618/rows.rdf\n",
      "Deleting datasets/622/rows.rdf\n",
      "Deleting datasets/623/rows.rdf\n",
      "Deleting datasets/633/rows.rdf\n",
      "Deleting datasets/635/rows.rdf\n",
      "Deleting datasets/636/rows.rdf\n",
      "Deleting datasets/644/rows.rdf\n",
      "Deleting datasets/659/rows.rdf\n",
      "Deleting datasets/684/rows.rdf\n",
      "Deleting datasets/687/rows.rdf\n",
      "Deleting datasets/725/rows.rdf\n",
      "Deleting datasets/726/rows.rdf\n",
      "Deleting datasets/743/rows.rdf\n",
      "Deleting datasets/748/rows.rdf\n",
      "Deleting datasets/753/rows.rdf\n",
      "Deleting datasets/764/rows.rdf\n",
      "Deleting datasets/769/rows.rdf\n",
      "Deleting datasets/772/rows.rdf\n",
      "Deleting datasets/773/rows.rdf\n",
      "Deleting datasets/780/rows.rdf\n",
      "Deleting datasets/784/rows.rdf\n",
      "Deleting datasets/786/rows.rdf\n",
      "Deleting datasets/794/rows.rdf\n",
      "Deleting datasets/807/rows.rdf\n",
      "Deleting datasets/811/rows.rdf\n",
      "Deleting datasets/818/rows.rdf\n",
      "Deleting datasets/830/rows.rdf\n",
      "Deleting datasets/831/rows.rdf\n",
      "Deleting datasets/837/rows.rdf\n",
      "Deleting datasets/849/rows.rdf\n",
      "Deleting datasets/858/rows.rdf\n",
      "Deleting datasets/859/rows.rdf\n",
      "Deleting datasets/861/rows.rdf\n",
      "Deleting datasets/880/rows.rdf\n",
      "Deleting datasets/888/rows.rdf\n",
      "Deleting datasets/894/rows.rdf\n",
      "Deleting datasets/895/rows.rdf\n",
      "Deleting datasets/14418/173390.rdf\n"
     ]
    }
   ],
   "source": [
    "for f in rdf_but_actually_json:\n",
    "    delete_file(f)"
   ]
  },
  {
   "cell_type": "code",
   "execution_count": 18,
   "metadata": {},
   "outputs": [],
   "source": [
    "unparsed_json = [\"datasets/14418/gtaa\"]"
   ]
  },
  {
   "cell_type": "code",
   "execution_count": 19,
   "metadata": {},
   "outputs": [
    {
     "name": "stdout",
     "output_type": "stream",
     "text": [
      "Deleting datasets/14418/gtaa\n"
     ]
    }
   ],
   "source": [
    "for f in unparsed_json:\n",
    "    delete_file(f)"
   ]
  },
  {
   "attachments": {},
   "cell_type": "markdown",
   "metadata": {},
   "source": [
    "## Cast from UTF-8 BOM to UTF-8\n",
    "\n",
    "UTF-8 BOM is a sequence of bytes (0xEF, 0xBB, 0xBF) that is sometimes added at the beginning of a text file to indicate that the file is encoded in UTF-8. The BOM serves as a signature or marker to indicate the encoding. Its primary purpose is to help applications distinguish between different Unicode encodings. When a BOM is present, it indicates that the file is UTF-8 encoded."
   ]
  },
  {
   "cell_type": "code",
   "execution_count": 20,
   "metadata": {},
   "outputs": [],
   "source": [
    "def is_utf8_bom(file_path: str) -> bool:\n",
    "    with open(file_path, \"rb\") as file:\n",
    "        # Read the first three bytes of the file\n",
    "        bom_bytes = file.read(3)\n",
    "        return bom_bytes == b\"\\xEF\\xBB\\xBF\"  # Check if the bytes match the UTF-8 BOM\n",
    "\n",
    "\n",
    "def remove_utf8_bom(file_path: str):\n",
    "    content = None\n",
    "\n",
    "    # Read the file contents\n",
    "    with open(file_path, \"r\", encoding=\"utf-8-sig\") as file:\n",
    "        content = file.read()\n",
    "\n",
    "    # Write the contents back to the file without BOM\n",
    "    with open(file_path, \"w\", encoding=\"utf-8\") as file:\n",
    "        file.write(content)"
   ]
  },
  {
   "cell_type": "code",
   "execution_count": 21,
   "metadata": {},
   "outputs": [
    {
     "name": "stdout",
     "output_type": "stream",
     "text": [
      "REMOVING UTF-8 BOM from datasets/12513/cst20201211.rdf\n",
      "REMOVING UTF-8 BOM from datasets/12513/tsb20201211.rdf\n",
      "REMOVING UTF-8 BOM from datasets/12670/foaf.rdf\n",
      "REMOVING UTF-8 BOM from datasets/14434/void.ttl\n",
      "REMOVING UTF-8 BOM from datasets/14822/nlr771515.rdf\n",
      "REMOVING UTF-8 BOM from datasets/14822/nlr66147783.rdf\n",
      "REMOVING UTF-8 BOM from datasets/14822/title5.rdf\n",
      "REMOVING UTF-8 BOM from datasets/15976/ingresos.jsonld\n",
      "REMOVING UTF-8 BOM from datasets/15976/gastos.jsonld\n",
      "REMOVING UTF-8 BOM from datasets/15976/gastosfuncionales.jsonld\n",
      "REMOVING UTF-8 BOM from datasets/15977/ingresos.jsonld\n",
      "REMOVING UTF-8 BOM from datasets/15977/gastos.jsonld\n",
      "REMOVING UTF-8 BOM from datasets/15977/gastosfuncionales.jsonld\n",
      "REMOVING UTF-8 BOM from datasets/15978/ingresos.jsonld\n",
      "REMOVING UTF-8 BOM from datasets/15978/gastos.jsonld\n",
      "REMOVING UTF-8 BOM from datasets/15978/gastosfuncionales.jsonld\n",
      "REMOVING UTF-8 BOM from datasets/21691/2552-2557.rdf\n",
      "REMOVING UTF-8 BOM from datasets/21692/2553-2558.rdf\n"
     ]
    }
   ],
   "source": [
    "dataset_folder = \"datasets\"\n",
    "datasets = sorted(os.listdir(dataset_folder), key=lambda i: int(i))\n",
    "\n",
    "for dataset in datasets:\n",
    "    folder_path = f\"{dataset_folder}/{dataset}\"\n",
    "    files = os.listdir(folder_path)\n",
    "    for f in files:\n",
    "        file_path = f\"{folder_path}/{f}\"\n",
    "        if(is_utf8_bom(file_path)):\n",
    "            print(f\"REMOVING UTF-8 BOM from {file_path}\")\n",
    "            remove_utf8_bom(file_path)"
   ]
  },
  {
   "attachments": {},
   "cell_type": "markdown",
   "metadata": {},
   "source": [
    "## Cast to RDF"
   ]
  },
  {
   "cell_type": "code",
   "execution_count": 22,
   "metadata": {},
   "outputs": [],
   "source": [
    "cast_to_rdf = [\n",
    "    \"datasets/13254/rdf.xml\",\n",
    "    \"datasets/13284/deck\",\n",
    "    \"datasets/13288/54b30\",\n",
    "    \"datasets/13291/vocab\",\n",
    "    \"datasets/13334/s2377506.xml\",\n",
    "    \"datasets/13357/wgs84-pos\",\n",
    "    \"datasets/13357/doap\",\n",
    "    \"datasets/13357/vsr\",\n",
    "    \"datasets/13357/ns\",\n",
    "    \"datasets/13357/core\",\n",
    "    \"datasets/13412/doap\",\n",
    "    \"datasets/13412/vsr\",\n",
    "    \"datasets/13412/ns\",\n",
    "    \"datasets/13412/core\",\n",
    "    \"datasets/13577/psclemon\",\n",
    "    \"datasets/13759/doap\",\n",
    "    \"datasets/13759/ns\",\n",
    "    \"datasets/13759/core\",\n",
    "    \"datasets/13796/doap\",\n",
    "    \"datasets/13796/ns\",\n",
    "    \"datasets/13796/core\",\n",
    "    \"datasets/13997/bulmo-0007-473x-2000-num-158-2-2373\",\n",
    "    \"datasets/13997/196565-person\",\n",
    "    \"datasets/13997/ahess-0395-2649\",\n",
    "    \"datasets/14054/rdf.xml\",\n",
    "    \"datasets/14079/wheat\",\n",
    "    \"datasets/14417/deck\",\n",
    "    \"datasets/14580/54b30\",\n",
    "    \"datasets/14583/s2377506.xml\",\n",
    "    \"datasets/14603/wgs84-pos\",\n",
    "    \"datasets/14603/doap\",\n",
    "    \"datasets/14603/vsr\",\n",
    "    \"datasets/14603/ns\",\n",
    "    \"datasets/14603/core\",\n",
    "    \"datasets/14806/doap\",\n",
    "    \"datasets/14806/ns\",\n",
    "    \"datasets/14806/core\",\n",
    "    \"datasets/14921/psclemon\",\n",
    "    \"datasets/15082/doap\",\n",
    "    \"datasets/15082/vsr\",\n",
    "    \"datasets/15082/ns\",\n",
    "    \"datasets/15082/core\",\n",
    "    \"datasets/15150/doap\",\n",
    "    \"datasets/15150/ns\",\n",
    "    \"datasets/15150/core\",\n",
    "    \"datasets/15333/vocab\",\n",
    "    \"datasets/15641/moj-data.rdf.txt\",\n",
    "]"
   ]
  },
  {
   "cell_type": "code",
   "execution_count": 23,
   "metadata": {},
   "outputs": [
    {
     "name": "stdout",
     "output_type": "stream",
     "text": [
      "Renaming datasets/13254/rdf.xml to datasets/13254/rdf.rdf\n",
      "Renaming datasets/13284/deck to datasets/13284/deck.rdf\n",
      "Renaming datasets/13288/54b30 to datasets/13288/54b30.rdf\n",
      "Renaming datasets/13291/vocab to datasets/13291/vocab.rdf\n",
      "Renaming datasets/13334/s2377506.xml to datasets/13334/s2377506.rdf\n",
      "Renaming datasets/13357/wgs84-pos to datasets/13357/wgs84-pos.rdf\n",
      "Renaming datasets/13357/doap to datasets/13357/doap.rdf\n",
      "Renaming datasets/13357/vsr to datasets/13357/vsr.rdf\n",
      "Renaming datasets/13357/ns to datasets/13357/ns.rdf\n",
      "Renaming datasets/13357/core to datasets/13357/core.rdf\n",
      "Renaming datasets/13412/doap to datasets/13412/doap.rdf\n",
      "Renaming datasets/13412/vsr to datasets/13412/vsr.rdf\n",
      "Renaming datasets/13412/ns to datasets/13412/ns.rdf\n",
      "Renaming datasets/13412/core to datasets/13412/core.rdf\n",
      "Renaming datasets/13577/psclemon to datasets/13577/psclemon.rdf\n",
      "Renaming datasets/13759/doap to datasets/13759/doap.rdf\n",
      "Renaming datasets/13759/ns to datasets/13759/ns.rdf\n",
      "Renaming datasets/13759/core to datasets/13759/core.rdf\n",
      "Renaming datasets/13796/doap to datasets/13796/doap.rdf\n",
      "Renaming datasets/13796/ns to datasets/13796/ns.rdf\n",
      "Renaming datasets/13796/core to datasets/13796/core.rdf\n",
      "Renaming datasets/13997/bulmo-0007-473x-2000-num-158-2-2373 to datasets/13997/bulmo-0007-473x-2000-num-158-2-2373.rdf\n",
      "Renaming datasets/13997/196565-person to datasets/13997/196565-person.rdf\n",
      "Renaming datasets/13997/ahess-0395-2649 to datasets/13997/ahess-0395-2649.rdf\n",
      "Renaming datasets/14054/rdf.xml to datasets/14054/rdf.rdf\n",
      "Renaming datasets/14079/wheat to datasets/14079/wheat.rdf\n",
      "Renaming datasets/14417/deck to datasets/14417/deck.rdf\n",
      "Renaming datasets/14580/54b30 to datasets/14580/54b30.rdf\n",
      "Renaming datasets/14583/s2377506.xml to datasets/14583/s2377506.rdf\n",
      "Renaming datasets/14603/wgs84-pos to datasets/14603/wgs84-pos.rdf\n",
      "Renaming datasets/14603/doap to datasets/14603/doap.rdf\n",
      "Renaming datasets/14603/vsr to datasets/14603/vsr.rdf\n",
      "Renaming datasets/14603/ns to datasets/14603/ns.rdf\n",
      "Renaming datasets/14603/core to datasets/14603/core.rdf\n",
      "Renaming datasets/14806/doap to datasets/14806/doap.rdf\n",
      "Renaming datasets/14806/ns to datasets/14806/ns.rdf\n",
      "Renaming datasets/14806/core to datasets/14806/core.rdf\n",
      "Renaming datasets/14921/psclemon to datasets/14921/psclemon.rdf\n",
      "Renaming datasets/15082/doap to datasets/15082/doap.rdf\n",
      "Renaming datasets/15082/vsr to datasets/15082/vsr.rdf\n",
      "Renaming datasets/15082/ns to datasets/15082/ns.rdf\n",
      "Renaming datasets/15082/core to datasets/15082/core.rdf\n",
      "Renaming datasets/15150/doap to datasets/15150/doap.rdf\n",
      "Renaming datasets/15150/ns to datasets/15150/ns.rdf\n",
      "Renaming datasets/15150/core to datasets/15150/core.rdf\n",
      "Renaming datasets/15333/vocab to datasets/15333/vocab.rdf\n",
      "Renaming datasets/15641/moj-data.rdf.txt to datasets/15641/moj-data.rdf.rdf\n"
     ]
    }
   ],
   "source": [
    "for f in cast_to_rdf:\n",
    "    change_extension(f, \"rdf\")"
   ]
  },
  {
   "attachments": {},
   "cell_type": "markdown",
   "metadata": {},
   "source": [
    "## Cast to TTL"
   ]
  },
  {
   "cell_type": "code",
   "execution_count": 24,
   "metadata": {},
   "outputs": [],
   "source": [
    "cast_to_ttl = [\n",
    "    \"datasets/13252/affymetrix-185061-at\",\n",
    "    \"datasets/13279/hgnc-7\",\n",
    "    \"datasets/13299/homologene-1000\",\n",
    "    \"datasets/13357/cube\",\n",
    "    \"datasets/13412/nif-core\",\n",
    "    \"datasets/13471/omim-603903\",\n",
    "    \"datasets/13482/sgd-s000006169\",\n",
    "    \"datasets/13600/drugbank-db00001\",\n",
    "    \"datasets/13715/gb\",\n",
    "    \"datasets/14387/hgnc-7\",\n",
    "    \"datasets/14396/omim-603903\",\n",
    "    \"datasets/14411/affymetrix-185061-at\",\n",
    "    \"datasets/14430/gb\",\n",
    "    \"datasets/14472/ndc-49288-0001-272c9910-2160-4d41-afbd-faab3055ba1d\",\n",
    "    \"datasets/14473/mesh-d018377\",\n",
    "    \"datasets/14519/go-0006915\",\n",
    "    \"datasets/14520/drugbank-db00001\",\n",
    "    \"datasets/14558/taxonomy-9606\",\n",
    "    \"datasets/14603/cube\",\n",
    "    \"datasets/15082/nif-core\",\n",
    "    \"datasets/15144/turtle\",\n",
    "]"
   ]
  },
  {
   "cell_type": "code",
   "execution_count": 25,
   "metadata": {},
   "outputs": [
    {
     "name": "stdout",
     "output_type": "stream",
     "text": [
      "Renaming datasets/13252/affymetrix-185061-at to datasets/13252/affymetrix-185061-at.ttl\n",
      "Renaming datasets/13279/hgnc-7 to datasets/13279/hgnc-7.ttl\n",
      "Renaming datasets/13299/homologene-1000 to datasets/13299/homologene-1000.ttl\n",
      "Renaming datasets/13357/cube to datasets/13357/cube.ttl\n",
      "Renaming datasets/13412/nif-core to datasets/13412/nif-core.ttl\n",
      "Renaming datasets/13471/omim-603903 to datasets/13471/omim-603903.ttl\n",
      "Renaming datasets/13482/sgd-s000006169 to datasets/13482/sgd-s000006169.ttl\n",
      "Renaming datasets/13600/drugbank-db00001 to datasets/13600/drugbank-db00001.ttl\n",
      "Renaming datasets/13715/gb to datasets/13715/gb.ttl\n",
      "Renaming datasets/14387/hgnc-7 to datasets/14387/hgnc-7.ttl\n",
      "Renaming datasets/14396/omim-603903 to datasets/14396/omim-603903.ttl\n",
      "Renaming datasets/14411/affymetrix-185061-at to datasets/14411/affymetrix-185061-at.ttl\n",
      "Renaming datasets/14430/gb to datasets/14430/gb.ttl\n",
      "Renaming datasets/14472/ndc-49288-0001-272c9910-2160-4d41-afbd-faab3055ba1d to datasets/14472/ndc-49288-0001-272c9910-2160-4d41-afbd-faab3055ba1d.ttl\n",
      "Renaming datasets/14473/mesh-d018377 to datasets/14473/mesh-d018377.ttl\n",
      "Renaming datasets/14519/go-0006915 to datasets/14519/go-0006915.ttl\n",
      "Renaming datasets/14520/drugbank-db00001 to datasets/14520/drugbank-db00001.ttl\n",
      "Renaming datasets/14558/taxonomy-9606 to datasets/14558/taxonomy-9606.ttl\n",
      "Renaming datasets/14603/cube to datasets/14603/cube.ttl\n",
      "Renaming datasets/15082/nif-core to datasets/15082/nif-core.ttl\n",
      "Renaming datasets/15144/turtle to datasets/15144/turtle.ttl\n"
     ]
    }
   ],
   "source": [
    "for f in cast_to_ttl:\n",
    "    change_extension(f, \"ttl\")"
   ]
  },
  {
   "attachments": {},
   "cell_type": "markdown",
   "metadata": {},
   "source": [
    "## Analysis of unused - NON RDF files"
   ]
  },
  {
   "attachments": {},
   "cell_type": "markdown",
   "metadata": {},
   "source": [
    "### Files recognized as archives"
   ]
  },
  {
   "cell_type": "code",
   "execution_count": 26,
   "metadata": {},
   "outputs": [],
   "source": [
    "import magic\n",
    "import zipfile\n",
    "import tarfile\n",
    "\n",
    "def is_gz_file(filepath):\n",
    "    with open(filepath, \"rb\") as f:\n",
    "        return f.read(2) == b\"\\x1f\\x8b\"\n",
    "\n",
    "\n",
    "def is_bz2_file(filepath):\n",
    "    with open(filepath, \"rb\") as f:\n",
    "        return f.read(3) == b\"\\x42\\x5a\\x68\""
   ]
  },
  {
   "cell_type": "code",
   "execution_count": 27,
   "metadata": {},
   "outputs": [],
   "source": [
    "# Files that have been recognized as archives\n",
    "archives = [\n",
    "    \"datasets/13263/govwild-rdf-2012-01-30.zip\",\n",
    "    \"datasets/13283/txn-ocs.ttl.gz\",\n",
    "    \"datasets/13283/txn-distribution.ttl.gz\",\n",
    "    \"datasets/13283/txn-images.ttl.gz\",\n",
    "    \"datasets/13283/txn-misc.ttl.gz\",\n",
    "    \"datasets/13347/geospecies.rdf.gz\",\n",
    "    \"datasets/13368/all-geonames-rdf.zip\",\n",
    "    \"datasets/13369/dbpedia-3.6.owl.bz2\",\n",
    "    \"datasets/13378/wn20full.zip\",\n",
    "    \"datasets/13388/dbpedia-3.6.owl.bz2\",\n",
    "    \"datasets/13461/dbpedia-3.5.1.owl.bz2\",\n",
    "    \"datasets/13822/lsoa.ttl.zip\",\n",
    "    \"datasets/13997/persee-person-align-rdf.tar.gz\",\n",
    "    \"datasets/14079/eat.nt.gz\",\n",
    "    \"datasets/14252/wn20full.zip\",\n",
    "    \"datasets/14277/txn-ocs.ttl.gz\",\n",
    "    \"datasets/14277/txn-distribution.ttl.gz\",\n",
    "    \"datasets/14277/txn-images.ttl.gz\",\n",
    "    \"datasets/14277/txn-misc.ttl.gz\",\n",
    "    \"datasets/14324/geospecies.rdf.gz\",\n",
    "    \"datasets/14336/dbpedia-3.6.owl.bz2\",\n",
    "    \"datasets/14344/all-geonames-rdf.zip\",\n",
    "    \"datasets/14364/govwild-rdf-2012-01-30.zip\",\n",
    "    \"datasets/14801/usage.nt.gz\",\n",
    "    \"datasets/15282/lsoa.ttl.zip\",\n",
    "    \"datasets/15414/dbpedia-3.6.owl.bz2\",\n",
    "    \"datasets/21532/jrcnames-uri.zip\",\n",
    "]"
   ]
  },
  {
   "cell_type": "code",
   "execution_count": 28,
   "metadata": {},
   "outputs": [
    {
     "name": "stdout",
     "output_type": "stream",
     "text": [
      "TAR: 1\n",
      "ZIP: 9\n",
      "TAR GZ: 12\n",
      "BZ2: 5\n"
     ]
    }
   ],
   "source": [
    "tar = list()\n",
    "zip = list()\n",
    "tar_gz = list()\n",
    "bz2 = list()\n",
    "\n",
    "for file in archives:\n",
    "    if tarfile.is_tarfile(file):\n",
    "        tar.append(file)\n",
    "    elif zipfile.is_zipfile(file):\n",
    "        zip.append(file)\n",
    "    elif is_gz_file(file):\n",
    "        tar_gz.append(file)\n",
    "    elif is_bz2_file(file):\n",
    "        bz2.append(file)\n",
    "\n",
    "assert len(archives) == len(tar) + len(zip) + len(tar_gz) + len(bz2)\n",
    "\n",
    "print(f\"TAR: {len(tar)}\")\n",
    "print(f\"ZIP: {len(zip)}\")\n",
    "print(f\"TAR GZ: {len(tar_gz)}\")\n",
    "print(f\"BZ2: {len(bz2)}\")\n"
   ]
  },
  {
   "attachments": {},
   "cell_type": "markdown",
   "metadata": {},
   "source": [
    "#### TAR"
   ]
  },
  {
   "cell_type": "code",
   "execution_count": 29,
   "metadata": {},
   "outputs": [
    {
     "name": "stdout",
     "output_type": "stream",
     "text": [
      "datasets/13997/persee-person-align-rdf.tar.gz\n"
     ]
    }
   ],
   "source": [
    "for a in tar:\n",
    "    print(a)"
   ]
  },
  {
   "cell_type": "code",
   "execution_count": 30,
   "metadata": {},
   "outputs": [
    {
     "name": "stdout",
     "output_type": "stream",
     "text": [
      "totale 9900\n",
      "drwxr-xr-x     2 riccardo riccardo    4096  7 giu 21.47 .\n",
      "drwxr-xr-x 31591 riccardo riccardo  655360 17 apr 22.34 ..\n",
      "-rw-r--r--     1 riccardo riccardo  530900  8 apr 15.12 196565-person.rdf\n",
      "-rw-r--r--     1 riccardo riccardo   24713  8 apr 15.12 ahess-0395-2649.rdf\n",
      "-rw-r--r--     1 riccardo riccardo   11627  8 apr 15.12 bulmo-0007-473x-2000-num-158-2-2373.rdf\n",
      "-rw-r--r--     1 riccardo riccardo    1816  5 giu 12.19 metadata.json\n",
      "-rw-r--r--     1 riccardo riccardo   96354  8 apr 15.12 persee-ontology.owl\n",
      "-rw-r--r--     1 riccardo riccardo 8796163  8 apr 15.12 persee-person-align-rdf.tar.gz\n",
      "8,4M\tdatasets/13997/persee-person-align-rdf.tar.gz\n"
     ]
    }
   ],
   "source": [
    "%%bash\n",
    "ls -la datasets/13997/\n",
    "du -sh datasets/13997/persee-person-align-rdf.tar.gz"
   ]
  },
  {
   "cell_type": "code",
   "execution_count": 31,
   "metadata": {},
   "outputs": [
    {
     "name": "stdout",
     "output_type": "stream",
     "text": [
      "\u001b[01;34m.\u001b[00m\n",
      "├── 196565-person.rdf\n",
      "├── ahess-0395-2649.rdf\n",
      "├── bulmo-0007-473x-2000-num-158-2-2373.rdf\n",
      "├── define_UMS_Persee.rdf\n",
      "├── metadata.json\n",
      "├── PERSEE_align_All_2021-09-24.rdf\n",
      "├── PERSEE_align_Bnf_2021-09-24.rdf\n",
      "├── PERSEE_align_DBpedia_2021-09-24.rdf\n",
      "├── PERSEE_align_DBpediaFR_2021-09-24.rdf\n",
      "├── PERSEE_align_idHAL_2021-09-24.rdf\n",
      "├── PERSEE_align_Idref_2021-09-24.rdf\n",
      "├── PERSEE_align_Isni_2021-09-24.rdf\n",
      "├── PERSEE_align_ORCID_2021-09-24.rdf\n",
      "├── PERSEE_align_RePEc_2021-09-24.rdf\n",
      "├── PERSEE_align_viaf_2021-09-24.rdf\n",
      "├── PERSEE_align_wikidata_2021-09-24.rdf\n",
      "├── PERSEE_align_wikipedia_2021-09-24.rdf\n",
      "├── PERSEE_align_wikipediaFR_2021-09-24.rdf\n",
      "└── persee-ontology.owl\n",
      "\n",
      "0 directories, 19 files\n"
     ]
    }
   ],
   "source": [
    "%%bash\n",
    "cd datasets/13997/\n",
    "tar -xf persee-person-align-rdf.tar.gz\n",
    "rm -rf persee-person-align-rdf.tar.gz\n",
    "rm license.txt\n",
    "tree ."
   ]
  },
  {
   "attachments": {},
   "cell_type": "markdown",
   "metadata": {},
   "source": [
    "#### ZIP"
   ]
  },
  {
   "cell_type": "code",
   "execution_count": 32,
   "metadata": {},
   "outputs": [
    {
     "name": "stdout",
     "output_type": "stream",
     "text": [
      "datasets/13263/govwild-rdf-2012-01-30.zip\n",
      "datasets/13368/all-geonames-rdf.zip\n",
      "datasets/13378/wn20full.zip\n",
      "datasets/13822/lsoa.ttl.zip\n",
      "datasets/14252/wn20full.zip\n",
      "datasets/14344/all-geonames-rdf.zip\n",
      "datasets/14364/govwild-rdf-2012-01-30.zip\n",
      "datasets/15282/lsoa.ttl.zip\n",
      "datasets/21532/jrcnames-uri.zip\n"
     ]
    }
   ],
   "source": [
    "for a in zip:\n",
    "    print(a)"
   ]
  },
  {
   "attachments": {},
   "cell_type": "markdown",
   "metadata": {},
   "source": [
    "##### datasets/13263/govwild-rdf-2012-01-30.zip"
   ]
  },
  {
   "cell_type": "code",
   "execution_count": 33,
   "metadata": {},
   "outputs": [
    {
     "name": "stdout",
     "output_type": "stream",
     "text": [
      "totale 241000\n",
      "drwxr-xr-x     2 riccardo riccardo      4096  8 mag 17.32 .\n",
      "drwxr-xr-x 31591 riccardo riccardo    655360 17 apr 22.34 ..\n",
      "-rw-r--r--     1 riccardo riccardo 246077569  8 apr 15.06 govwild-rdf-2012-01-30.zip\n",
      "-rw-r--r--     1 riccardo riccardo     33191  8 apr 15.06 gwontology.rdf\n",
      "-rw-r--r--     1 riccardo riccardo      1283  5 giu 12.18 metadata.json\n",
      "235M\tgovwild-rdf-2012-01-30.zip\n"
     ]
    }
   ],
   "source": [
    "%%bash\n",
    "cd datasets/13263\n",
    "ls -la\n",
    "du -sh govwild-rdf-2012-01-30.zip\n"
   ]
  },
  {
   "cell_type": "code",
   "execution_count": 34,
   "metadata": {},
   "outputs": [
    {
     "name": "stdout",
     "output_type": "stream",
     "text": [
      "Archive:  govwild-rdf-2012-01-30.zip\n",
      "   creating: Govwild_rdf_2012-01-30/\n",
      "  inflating: Govwild_rdf_2012-01-30/changelog_2012-01-30.txt  \n",
      "  inflating: Govwild_rdf_2012-01-30/Govwild_rdf.n3  \n"
     ]
    }
   ],
   "source": [
    "%%bash \n",
    "cd datasets/13263\n",
    "unzip govwild-rdf-2012-01-30.zip"
   ]
  },
  {
   "cell_type": "code",
   "execution_count": 35,
   "metadata": {},
   "outputs": [],
   "source": [
    "%%bash\n",
    "cd datasets/13263\n",
    "mv Govwild_rdf_2012-01-30/Govwild_rdf.n3 .\n",
    "mv Govwild_rdf_2012-01-30/changelog_2012-01-30.txt ."
   ]
  },
  {
   "cell_type": "code",
   "execution_count": 36,
   "metadata": {},
   "outputs": [
    {
     "name": "stdout",
     "output_type": "stream",
     "text": [
      "\u001b[01;34m.\u001b[00m\n",
      "├── changelog_2012-01-30.txt\n",
      "├── \u001b[01;32mGovwild_rdf.n3\u001b[00m\n",
      "├── gwontology.rdf\n",
      "└── metadata.json\n",
      "\n",
      "0 directories, 5 files\n"
     ]
    }
   ],
   "source": [
    "%%bash\n",
    "cd datasets/13263\n",
    "rm -rf Govwild_rdf_2012-01-30\n",
    "rm -rf govwild-rdf-2012-01-30.zip\n",
    "tree"
   ]
  },
  {
   "cell_type": "code",
   "execution_count": 37,
   "metadata": {},
   "outputs": [
    {
     "name": "stdout",
     "output_type": "stream",
     "text": [
      "- bug fixing:\n",
      "\t- only calculate \"euFinanceTotalReceived\" for the countries of the EU, analogous for \"earmarksTotalReceived\" and the states in the US\n",
      "\t- remove duplicate sameAs-links for Freebase\n",
      "\t- huge funds aren't negative any more\n",
      "- cleansed sourceDetailed (wrongly added EuFinance)\n",
      "- optimized splitting of FreebaseCompany\n",
      "- ontology changes:\n",
      "\t- rename \"Relationship\" to \"PersonRelationship\"\n",
      "\t- rename \"NYTArticle\" to \"NewsArticle\"\n",
      "\t- rename \"Place\" to \"Address\"\n"
     ]
    }
   ],
   "source": [
    "%%bash\n",
    "head datasets/13263/changelog_2012-01-30.txt"
   ]
  },
  {
   "cell_type": "code",
   "execution_count": 38,
   "metadata": {},
   "outputs": [],
   "source": [
    "%%bash\n",
    "rm -rf datasets/13263/changelog_2012-01-30.txt"
   ]
  },
  {
   "cell_type": "code",
   "execution_count": 39,
   "metadata": {},
   "outputs": [
    {
     "name": "stdout",
     "output_type": "stream",
     "text": [
      "\u001b[01;34mdatasets/13263\u001b[00m\n",
      "├── \u001b[01;32mGovwild_rdf.n3\u001b[00m\n",
      "├── gwontology.rdf\n",
      "└── metadata.json\n",
      "\n",
      "0 directories, 4 files\n"
     ]
    }
   ],
   "source": [
    "%%bash \n",
    "tree datasets/13263"
   ]
  },
  {
   "attachments": {},
   "cell_type": "markdown",
   "metadata": {},
   "source": [
    "##### datasets/13368/all-geonames-rdf.zip"
   ]
  },
  {
   "cell_type": "code",
   "execution_count": 40,
   "metadata": {},
   "outputs": [
    {
     "name": "stdout",
     "output_type": "stream",
     "text": [
      "totale 725732\n",
      "drwxr-xr-x     2 riccardo riccardo      4096  8 mag 17.32 .\n",
      "drwxr-xr-x 31591 riccardo riccardo    655360 17 apr 22.34 ..\n",
      "-rw-r--r--     1 riccardo riccardo      2833  8 apr 15.06 about.rdf\n",
      "-rw-r--r--     1 riccardo riccardo 742269561  8 apr 15.06 all-geonames-rdf.zip\n",
      "-rw-r--r--     1 riccardo riccardo      1244  5 giu 12.19 metadata.json\n",
      "-rw-r--r--     1 riccardo riccardo    196853  8 apr 15.06 ontology-v2.rdf\n",
      "708M\tall-geonames-rdf.zip\n"
     ]
    }
   ],
   "source": [
    "%%bash \n",
    "cd datasets/13368\n",
    "ls -la\n",
    "du -sh all-geonames-rdf.zip"
   ]
  },
  {
   "cell_type": "code",
   "execution_count": 41,
   "metadata": {},
   "outputs": [
    {
     "name": "stdout",
     "output_type": "stream",
     "text": [
      "Archive:  all-geonames-rdf.zip\n",
      "  inflating: all-geonames-rdf.txt    \n"
     ]
    }
   ],
   "source": [
    "%%bash \n",
    "cd datasets/13368\n",
    "unzip all-geonames-rdf.zip"
   ]
  },
  {
   "cell_type": "code",
   "execution_count": 42,
   "metadata": {},
   "outputs": [
    {
     "name": "stdout",
     "output_type": "stream",
     "text": [
      "\u001b[01;34m.\u001b[00m\n",
      "├── about.rdf\n",
      "├── all-geonames-rdf.txt\n",
      "├── \u001b[01;31mall-geonames-rdf.zip\u001b[00m\n",
      "├── metadata.json\n",
      "└── ontology-v2.rdf\n",
      "\n",
      "0 directories, 5 files\n"
     ]
    }
   ],
   "source": [
    "%%bash \n",
    "cd datasets/13368\n",
    "tree ."
   ]
  },
  {
   "cell_type": "code",
   "execution_count": 43,
   "metadata": {},
   "outputs": [
    {
     "name": "stdout",
     "output_type": "stream",
     "text": [
      "18G\tdatasets/13368/all-geonames-rdf.txt\n",
      "https://sws.geonames.org/3/\n",
      "<?xml version=\"1.0\" encoding=\"UTF-8\" standalone=\"no\"?><rdf:RDF xmlns:cc=\"http://creativecommons.org/ns#\" xmlns:dcterms=\"http://purl.org/dc/terms/\" xmlns:foaf=\"http://xmlns.com/foaf/0.1/\" xmlns:gn=\"http://www.geonames.org/ontology#\" xmlns:owl=\"http://www.w3.org/2002/07/owl#\" xmlns:rdf=\"http://www.w3.org/1999/02/22-rdf-syntax-ns#\" xmlns:rdfs=\"http://www.w3.org/2000/01/rdf-schema#\" xmlns:wgs84_pos=\"http://www.w3.org/2003/01/geo/wgs84_pos#\">    <gn:Feature rdf:about=\"https://sws.geonames.org/3/\">        <rdfs:isDefinedBy rdf:resource=\"https://sws.geonames.org/3/about.rdf\"/>        <gn:name>Zamīn Sūkhteh</gn:name>        <gn:alternateName xml:lang=\"fa\">زمين سوخته</gn:alternateName>        <gn:alternateName xml:lang=\"fa\">Zamīn Sūkhteh</gn:alternateName>        <gn:featureClass rdf:resource=\"https://www.geonames.org/ontology#S\"/>        <gn:featureCode rdf:resource=\"https://www.geonames.org/ontology#S.CRRL\"/>        <gn:countryCode>IR</gn:countryCode>        <wgs84_pos:lat>32.45831</wgs84_pos:lat>        <wgs84_pos:long>48.96335</wgs84_pos:long>        <gn:parentFeature rdf:resource=\"https://sws.geonames.org/3202991/\"/>        <gn:parentCountry rdf:resource=\"https://sws.geonames.org/130758/\"/>        <gn:parentADM1 rdf:resource=\"https://sws.geonames.org/127082/\"/>        <gn:nearbyFeatures rdf:resource=\"https://sws.geonames.org/3/nearby.rdf\"/>        <gn:locationMap rdf:resource=\"https://www.geonames.org/3/zamin-sukhteh.html\"/>    </gn:Feature></rdf:RDF>\n",
      "https://sws.geonames.org/4/\n",
      "<?xml version=\"1.0\" encoding=\"UTF-8\" standalone=\"no\"?><rdf:RDF xmlns:cc=\"http://creativecommons.org/ns#\" xmlns:dcterms=\"http://purl.org/dc/terms/\" xmlns:foaf=\"http://xmlns.com/foaf/0.1/\" xmlns:gn=\"http://www.geonames.org/ontology#\" xmlns:owl=\"http://www.w3.org/2002/07/owl#\" xmlns:rdf=\"http://www.w3.org/1999/02/22-rdf-syntax-ns#\" xmlns:rdfs=\"http://www.w3.org/2000/01/rdf-schema#\" xmlns:wgs84_pos=\"http://www.w3.org/2003/01/geo/wgs84_pos#\">    <gn:Feature rdf:about=\"https://sws.geonames.org/4/\">        <rdfs:isDefinedBy rdf:resource=\"https://sws.geonames.org/4/about.rdf\"/>        <gn:name>Rūdkhāneh-ye Āb-e Zālek</gn:name>        <gn:alternateName xml:lang=\"fa\">رودخانه آب زالک</gn:alternateName>        <gn:alternateName xml:lang=\"fa\">Āb-e Zālakī</gn:alternateName>        <gn:alternateName>Rūdkhāneh-ye Āb-e Zālek</gn:alternateName>        <gn:alternateName xml:lang=\"fa\">Rūdkhāneh-ye Zākalī</gn:alternateName>        <gn:alternateName>Rūdkhāneh-ye Āb-e Zālekī</gn:alternateName>        <gn:alternateName xml:lang=\"fa\">رودخانه زاکلی</gn:alternateName>        <gn:alternateName xml:lang=\"fa\">رودخانه آب زالکی</gn:alternateName>        <gn:featureClass rdf:resource=\"https://www.geonames.org/ontology#H\"/>        <gn:featureCode rdf:resource=\"https://www.geonames.org/ontology#H.STM\"/>        <gn:countryCode>IR</gn:countryCode>        <wgs84_pos:lat>32.93273</wgs84_pos:lat>        <wgs84_pos:long>48.76505</wgs84_pos:long>        <gn:parentFeature rdf:resource=\"https://sws.geonames.org/127082/\"/>        <gn:parentCountry rdf:resource=\"https://sws.geonames.org/130758/\"/>        <gn:parentADM1 rdf:resource=\"https://sws.geonames.org/127082/\"/>        <gn:nearbyFeatures rdf:resource=\"https://sws.geonames.org/4/nearby.rdf\"/>        <gn:locationMap rdf:resource=\"https://www.geonames.org/4/rudkhaneh-ye-ab-e-zalek.html\"/>    </gn:Feature></rdf:RDF>\n",
      "https://sws.geonames.org/5/\n",
      "<?xml version=\"1.0\" encoding=\"UTF-8\" standalone=\"no\"?><rdf:RDF xmlns:cc=\"http://creativecommons.org/ns#\" xmlns:dcterms=\"http://purl.org/dc/terms/\" xmlns:foaf=\"http://xmlns.com/foaf/0.1/\" xmlns:gn=\"http://www.geonames.org/ontology#\" xmlns:owl=\"http://www.w3.org/2002/07/owl#\" xmlns:rdf=\"http://www.w3.org/1999/02/22-rdf-syntax-ns#\" xmlns:rdfs=\"http://www.w3.org/2000/01/rdf-schema#\" xmlns:wgs84_pos=\"http://www.w3.org/2003/01/geo/wgs84_pos#\">    <gn:Feature rdf:about=\"https://sws.geonames.org/5/\">        <rdfs:isDefinedBy rdf:resource=\"https://sws.geonames.org/5/about.rdf\"/>        <gn:name>Yekāhī</gn:name>        <gn:alternateName xml:lang=\"fa\">Yekāhī</gn:alternateName>        <gn:featureClass rdf:resource=\"https://www.geonames.org/ontology#P\"/>        <gn:featureCode rdf:resource=\"https://www.geonames.org/ontology#P.PPL\"/>        <gn:countryCode>IR</gn:countryCode>        <wgs84_pos:lat>32.5</wgs84_pos:lat>        <wgs84_pos:long>48.9</wgs84_pos:long>        <gn:parentFeature rdf:resource=\"https://sws.geonames.org/127082/\"/>        <gn:parentCountry rdf:resource=\"https://sws.geonames.org/130758/\"/>        <gn:parentADM1 rdf:resource=\"https://sws.geonames.org/127082/\"/>        <gn:nearbyFeatures rdf:resource=\"https://sws.geonames.org/5/nearby.rdf\"/>        <gn:locationMap rdf:resource=\"https://www.geonames.org/5/yekahi.html\"/>    </gn:Feature></rdf:RDF>\n",
      "https://sws.geonames.org/6/\n",
      "<?xml version=\"1.0\" encoding=\"UTF-8\" standalone=\"no\"?><rdf:RDF xmlns:cc=\"http://creativecommons.org/ns#\" xmlns:dcterms=\"http://purl.org/dc/terms/\" xmlns:foaf=\"http://xmlns.com/foaf/0.1/\" xmlns:gn=\"http://www.geonames.org/ontology#\" xmlns:owl=\"http://www.w3.org/2002/07/owl#\" xmlns:rdf=\"http://www.w3.org/1999/02/22-rdf-syntax-ns#\" xmlns:rdfs=\"http://www.w3.org/2000/01/rdf-schema#\" xmlns:wgs84_pos=\"http://www.w3.org/2003/01/geo/wgs84_pos#\">    <gn:Feature rdf:about=\"https://sws.geonames.org/6/\">        <rdfs:isDefinedBy rdf:resource=\"https://sws.geonames.org/6/about.rdf\"/>        <gn:name>Āb-e Yasī</gn:name>        <gn:featureClass rdf:resource=\"https://www.geonames.org/ontology#H\"/>        <gn:featureCode rdf:resource=\"https://www.geonames.org/ontology#H.STM\"/>        <gn:countryCode>IR</gn:countryCode>        <wgs84_pos:lat>32.8</wgs84_pos:lat>        <wgs84_pos:long>48.8</wgs84_pos:long>        <gn:parentFeature rdf:resource=\"https://sws.geonames.org/127082/\"/>        <gn:parentCountry rdf:resource=\"https://sws.geonames.org/130758/\"/>        <gn:parentADM1 rdf:resource=\"https://sws.geonames.org/127082/\"/>        <gn:nearbyFeatures rdf:resource=\"https://sws.geonames.org/6/nearby.rdf\"/>        <gn:locationMap rdf:resource=\"https://www.geonames.org/6/ab-e-yasi.html\"/>    </gn:Feature></rdf:RDF>\n",
      "https://sws.geonames.org/8/\n",
      "<?xml version=\"1.0\" encoding=\"UTF-8\" standalone=\"no\"?><rdf:RDF xmlns:cc=\"http://creativecommons.org/ns#\" xmlns:dcterms=\"http://purl.org/dc/terms/\" xmlns:foaf=\"http://xmlns.com/foaf/0.1/\" xmlns:gn=\"http://www.geonames.org/ontology#\" xmlns:owl=\"http://www.w3.org/2002/07/owl#\" xmlns:rdf=\"http://www.w3.org/1999/02/22-rdf-syntax-ns#\" xmlns:rdfs=\"http://www.w3.org/2000/01/rdf-schema#\" xmlns:wgs84_pos=\"http://www.w3.org/2003/01/geo/wgs84_pos#\">    <gn:Feature rdf:about=\"https://sws.geonames.org/8/\">        <rdfs:isDefinedBy rdf:resource=\"https://sws.geonames.org/8/about.rdf\"/>        <gn:name>Tappeh-ye Seh Nūr</gn:name>        <gn:alternateName xml:lang=\"fa\">Tappeh-ye Seh Nūr</gn:alternateName>        <gn:featureClass rdf:resource=\"https://www.geonames.org/ontology#T\"/>        <gn:featureCode rdf:resource=\"https://www.geonames.org/ontology#T.HLL\"/>        <gn:countryCode>IR</gn:countryCode>        <wgs84_pos:lat>32.75</wgs84_pos:lat>        <wgs84_pos:long>48.08333</wgs84_pos:long>        <gn:parentFeature rdf:resource=\"https://sws.geonames.org/127082/\"/>        <gn:parentCountry rdf:resource=\"https://sws.geonames.org/130758/\"/>        <gn:parentADM1 rdf:resource=\"https://sws.geonames.org/127082/\"/>        <gn:nearbyFeatures rdf:resource=\"https://sws.geonames.org/8/nearby.rdf\"/>        <gn:locationMap rdf:resource=\"https://www.geonames.org/8/tappeh-ye-seh-nur.html\"/>    </gn:Feature></rdf:RDF>\n"
     ]
    }
   ],
   "source": [
    "%%bash\n",
    "du -sh datasets/13368/all-geonames-rdf.txt\n",
    "head datasets/13368/all-geonames-rdf.txt"
   ]
  },
  {
   "cell_type": "code",
   "execution_count": 44,
   "metadata": {},
   "outputs": [],
   "source": [
    "%%bash\n",
    "mv datasets/13368/all-geonames-rdf.txt datasets/13368/all-geonames.rdf\n",
    "rm -rf datasets/13368/all-geonames-rdf.zip"
   ]
  },
  {
   "cell_type": "code",
   "execution_count": 45,
   "metadata": {},
   "outputs": [
    {
     "name": "stdout",
     "output_type": "stream",
     "text": [
      "\u001b[01;34mdatasets/13368\u001b[00m\n",
      "├── about.rdf\n",
      "├── all-geonames.rdf\n",
      "├── metadata.json\n",
      "└── ontology-v2.rdf\n",
      "\n",
      "0 directories, 4 files\n"
     ]
    }
   ],
   "source": [
    "%%bash\n",
    "tree datasets/13368"
   ]
  },
  {
   "attachments": {},
   "cell_type": "markdown",
   "metadata": {},
   "source": [
    "##### datasets/13378/wn20full.zip"
   ]
  },
  {
   "cell_type": "code",
   "execution_count": 46,
   "metadata": {},
   "outputs": [
    {
     "name": "stdout",
     "output_type": "stream",
     "text": [
      "totale 14204\n",
      "drwxr-xr-x     2 riccardo riccardo     4096  8 mag 17.32 .\n",
      "drwxr-xr-x 31591 riccardo riccardo   655360 17 apr 22.34 ..\n",
      "-rw-r--r--     1 riccardo riccardo     1009  5 giu 12.19 metadata.json\n",
      "-rw-r--r--     1 riccardo riccardo 13832499  8 apr 15.06 wn20full.zip\n",
      "-rw-r--r--     1 riccardo riccardo    35332  8 apr 15.06 wnfull.rdf\n",
      "-rw-r--r--     1 riccardo riccardo      661  8 apr 15.06 wordsense-entity-noun-1.nt\n",
      "14M\tdatasets/13378/wn20full.zip\n"
     ]
    }
   ],
   "source": [
    "%%bash\n",
    "ls -la datasets/13378/\n",
    "du -sh datasets/13378/wn20full.zip"
   ]
  },
  {
   "cell_type": "code",
   "execution_count": 47,
   "metadata": {},
   "outputs": [
    {
     "name": "stdout",
     "output_type": "stream",
     "text": [
      "Archive:  wn20full.zip\n",
      "  inflating: wnfull.rdfs             \n",
      "  inflating: wordnet-antonym.rdf     \n",
      "  inflating: wordnet-attribute.rdf   \n",
      "  inflating: wordnet-causes.rdf      \n",
      "  inflating: wordnet-classifiedby.rdf  \n",
      "  inflating: wordnet-derivationallyrelated.rdf  \n",
      "  inflating: wordnet-entailment.rdf  \n",
      "  inflating: wordnet-frame.rdf       \n",
      "  inflating: wordnet-glossary.rdf    \n",
      "  inflating: wordnet-hyponym.rdf     \n",
      "  inflating: wordnet-membermeronym.rdf  \n",
      "  inflating: wordnet-participleof.rdf  \n",
      "  inflating: wordnet-partmeronym.rdf  \n",
      "  inflating: wordnet-pertainsto.rdf  \n",
      "  inflating: wordnet-sameverbgroupas.rdf  \n",
      "  inflating: wordnet-seealso.rdf     \n",
      "  inflating: wordnet-similarity.rdf  \n",
      "  inflating: wordnet-substancemeronym.rdf  \n",
      "  inflating: wordnet-synset.rdf      \n",
      "  inflating: wordnet-wordsensesandwords.rdf  \n"
     ]
    }
   ],
   "source": [
    "%%bash\n",
    "cd datasets/13378/\n",
    "unzip wn20full.zip"
   ]
  },
  {
   "cell_type": "code",
   "execution_count": 48,
   "metadata": {},
   "outputs": [
    {
     "name": "stdout",
     "output_type": "stream",
     "text": [
      "\u001b[01;34m.\u001b[00m\n",
      "├── metadata.json\n",
      "├── wnfull.rdf\n",
      "├── wordnet-antonym.rdf\n",
      "├── wordnet-attribute.rdf\n",
      "├── wordnet-causes.rdf\n",
      "├── wordnet-classifiedby.rdf\n",
      "├── wordnet-derivationallyrelated.rdf\n",
      "├── wordnet-entailment.rdf\n",
      "├── wordnet-frame.rdf\n",
      "├── wordnet-glossary.rdf\n",
      "├── wordnet-hyponym.rdf\n",
      "├── wordnet-membermeronym.rdf\n",
      "├── wordnet-participleof.rdf\n",
      "├── wordnet-partmeronym.rdf\n",
      "├── wordnet-pertainsto.rdf\n",
      "├── wordnet-sameverbgroupas.rdf\n",
      "├── wordnet-seealso.rdf\n",
      "├── wordnet-similarity.rdf\n",
      "├── wordnet-substancemeronym.rdf\n",
      "├── wordnet-synset.rdf\n",
      "├── wordnet-wordsensesandwords.rdf\n",
      "└── wordsense-entity-noun-1.nt\n",
      "\n",
      "0 directories, 22 files\n"
     ]
    }
   ],
   "source": [
    "%%bash\n",
    "cd  datasets/13378/\n",
    "rm -rf wn20full.zip wnfull.rdfs\n",
    "tree ."
   ]
  },
  {
   "attachments": {},
   "cell_type": "markdown",
   "metadata": {},
   "source": [
    "##### datasets/13822/lsoa.ttl.zip"
   ]
  },
  {
   "cell_type": "code",
   "execution_count": 49,
   "metadata": {},
   "outputs": [
    {
     "name": "stdout",
     "output_type": "stream",
     "text": [
      "totale 1588\n",
      "drwxr-xr-x     2 riccardo riccardo   4096  8 mag 17.32 .\n",
      "drwxr-xr-x 31591 riccardo riccardo 655360 17 apr 22.34 ..\n",
      "-rw-r--r--     1 riccardo riccardo   1678  8 apr 15.12 e01000001.nt\n",
      "-rw-r--r--     1 riccardo riccardo   1465  8 apr 15.12 e01000001.rdf\n",
      "-rw-r--r--     1 riccardo riccardo    907  8 apr 15.12 e01000001.ttl\n",
      "-rw-r--r--     1 riccardo riccardo 944805  8 apr 15.12 lsoa.ttl.zip\n",
      "-rw-r--r--     1 riccardo riccardo   1438  5 giu 12.19 metadata.json\n",
      "924K\tdatasets/13822/lsoa.ttl.zip\n"
     ]
    }
   ],
   "source": [
    "%%bash\n",
    "ls -la datasets/13822\n",
    "du -sh datasets/13822/lsoa.ttl.zip"
   ]
  },
  {
   "cell_type": "code",
   "execution_count": 50,
   "metadata": {},
   "outputs": [
    {
     "name": "stdout",
     "output_type": "stream",
     "text": [
      "Archive:  lsoa.ttl.zip\n",
      "  inflating: lsoa.ttl                \n"
     ]
    }
   ],
   "source": [
    "%%bash\n",
    "cd datasets/13822\n",
    "unzip lsoa.ttl.zip\n",
    "rm lsoa.ttl.zip"
   ]
  },
  {
   "cell_type": "code",
   "execution_count": 51,
   "metadata": {},
   "outputs": [
    {
     "name": "stdout",
     "output_type": "stream",
     "text": [
      "\u001b[01;34mdatasets/13822\u001b[00m\n",
      "├── e01000001.nt\n",
      "├── e01000001.rdf\n",
      "├── e01000001.ttl\n",
      "├── lsoa.ttl\n",
      "└── metadata.json\n",
      "\n",
      "0 directories, 5 files\n"
     ]
    }
   ],
   "source": [
    "%%bash\n",
    "tree datasets/13822"
   ]
  },
  {
   "attachments": {},
   "cell_type": "markdown",
   "metadata": {},
   "source": [
    "##### datasets/14252/wn20full.zip (related to datasets/13378)"
   ]
  },
  {
   "cell_type": "code",
   "execution_count": 52,
   "metadata": {},
   "outputs": [
    {
     "name": "stdout",
     "output_type": "stream",
     "text": [
      "totale 14204\n",
      "drwxr-xr-x     2 riccardo riccardo     4096  8 mag 17.32 .\n",
      "drwxr-xr-x 31591 riccardo riccardo   655360 17 apr 22.34 ..\n",
      "-rw-r--r--     1 riccardo riccardo     1122  5 giu 12.19 metadata.json\n",
      "-rw-r--r--     1 riccardo riccardo 13832499  8 apr 15.12 wn20full.zip\n",
      "-rw-r--r--     1 riccardo riccardo    35332  8 apr 15.12 wnfull.rdf\n",
      "-rw-r--r--     1 riccardo riccardo      661  8 apr 15.12 wordsense-entity-noun-1.nt\n",
      "14M\tdatasets/14252/wn20full.zip\n"
     ]
    }
   ],
   "source": [
    "%%bash\n",
    "ls -la datasets/14252/\n",
    "du -sh datasets/14252/wn20full.zip"
   ]
  },
  {
   "attachments": {},
   "cell_type": "markdown",
   "metadata": {},
   "source": [
    "Seems related to `datasets/13378`"
   ]
  },
  {
   "cell_type": "code",
   "execution_count": 53,
   "metadata": {},
   "outputs": [
    {
     "data": {
      "text/plain": [
       "'I file datasets/14252/metadata.json e datasets/13378/metadata.json sono diversi\\nSolo in datasets/14252: wn20full.zip\\nSolo in datasets/13378: wordnet-antonym.rdf\\nSolo in datasets/13378: wordnet-attribute.rdf\\nSolo in datasets/13378: wordnet-causes.rdf\\nSolo in datasets/13378: wordnet-classifiedby.rdf\\nSolo in datasets/13378: wordnet-derivationallyrelated.rdf\\nSolo in datasets/13378: wordnet-entailment.rdf\\nSolo in datasets/13378: wordnet-frame.rdf\\nSolo in datasets/13378: wordnet-glossary.rdf\\nSolo in datasets/13378: wordnet-hyponym.rdf\\nSolo in datasets/13378: wordnet-membermeronym.rdf\\nSolo in datasets/13378: wordnet-participleof.rdf\\nSolo in datasets/13378: wordnet-partmeronym.rdf\\nSolo in datasets/13378: wordnet-pertainsto.rdf\\nSolo in datasets/13378: wordnet-sameverbgroupas.rdf\\nSolo in datasets/13378: wordnet-seealso.rdf\\nSolo in datasets/13378: wordnet-similarity.rdf\\nSolo in datasets/13378: wordnet-substancemeronym.rdf\\nSolo in datasets/13378: wordnet-synset.rdf\\nSolo in datasets/13378: wordnet-wordsensesandwords.rdf\\n'"
      ]
     },
     "execution_count": 53,
     "metadata": {},
     "output_type": "execute_result"
    }
   ],
   "source": [
    "diff_dataset(\"datasets/14252\", \"datasets/13378\")"
   ]
  },
  {
   "cell_type": "code",
   "execution_count": 54,
   "metadata": {},
   "outputs": [
    {
     "name": "stdout",
     "output_type": "stream",
     "text": [
      "Archive:  wn20full.zip\n",
      "  inflating: wnfull.rdfs             \n",
      "  inflating: wordnet-antonym.rdf     \n",
      "  inflating: wordnet-attribute.rdf   \n",
      "  inflating: wordnet-causes.rdf      \n",
      "  inflating: wordnet-classifiedby.rdf  \n",
      "  inflating: wordnet-derivationallyrelated.rdf  \n",
      "  inflating: wordnet-entailment.rdf  \n",
      "  inflating: wordnet-frame.rdf       \n",
      "  inflating: wordnet-glossary.rdf    \n",
      "  inflating: wordnet-hyponym.rdf     \n",
      "  inflating: wordnet-membermeronym.rdf  \n",
      "  inflating: wordnet-participleof.rdf  \n",
      "  inflating: wordnet-partmeronym.rdf  \n",
      "  inflating: wordnet-pertainsto.rdf  \n",
      "  inflating: wordnet-sameverbgroupas.rdf  \n",
      "  inflating: wordnet-seealso.rdf     \n",
      "  inflating: wordnet-similarity.rdf  \n",
      "  inflating: wordnet-substancemeronym.rdf  \n",
      "  inflating: wordnet-synset.rdf      \n",
      "  inflating: wordnet-wordsensesandwords.rdf  \n"
     ]
    }
   ],
   "source": [
    "%%bash\n",
    "cd datasets/14252/\n",
    "unzip wn20full.zip"
   ]
  },
  {
   "cell_type": "code",
   "execution_count": 55,
   "metadata": {},
   "outputs": [],
   "source": [
    "%%bash\n",
    "cd datasets/14252/\n",
    "rm wn20full.zip wnfull.rdfs"
   ]
  },
  {
   "cell_type": "code",
   "execution_count": 56,
   "metadata": {},
   "outputs": [
    {
     "name": "stdout",
     "output_type": "stream",
     "text": [
      "\u001b[01;34m.\u001b[00m\n",
      "├── metadata.json\n",
      "├── wnfull.rdf\n",
      "├── wordnet-antonym.rdf\n",
      "├── wordnet-attribute.rdf\n",
      "├── wordnet-causes.rdf\n",
      "├── wordnet-classifiedby.rdf\n",
      "├── wordnet-derivationallyrelated.rdf\n",
      "├── wordnet-entailment.rdf\n",
      "├── wordnet-frame.rdf\n",
      "├── wordnet-glossary.rdf\n",
      "├── wordnet-hyponym.rdf\n",
      "├── wordnet-membermeronym.rdf\n",
      "├── wordnet-participleof.rdf\n",
      "├── wordnet-partmeronym.rdf\n",
      "├── wordnet-pertainsto.rdf\n",
      "├── wordnet-sameverbgroupas.rdf\n",
      "├── wordnet-seealso.rdf\n",
      "├── wordnet-similarity.rdf\n",
      "├── wordnet-substancemeronym.rdf\n",
      "├── wordnet-synset.rdf\n",
      "├── wordnet-wordsensesandwords.rdf\n",
      "└── wordsense-entity-noun-1.nt\n",
      "\n",
      "0 directories, 22 files\n"
     ]
    }
   ],
   "source": [
    "%%bash\n",
    "cd datasets/14252/\n",
    "tree ."
   ]
  },
  {
   "attachments": {},
   "cell_type": "markdown",
   "metadata": {},
   "source": [
    "##### datasets/14344/all-geonames-rdf.zip (related to datasets/13368)"
   ]
  },
  {
   "cell_type": "code",
   "execution_count": 57,
   "metadata": {},
   "outputs": [
    {
     "name": "stdout",
     "output_type": "stream",
     "text": [
      "totale 725732\n",
      "drwxr-xr-x     2 riccardo riccardo      4096  8 mag 17.32 .\n",
      "drwxr-xr-x 31591 riccardo riccardo    655360 17 apr 22.34 ..\n",
      "-rw-r--r--     1 riccardo riccardo      2833  8 apr 15.13 about.rdf\n",
      "-rw-r--r--     1 riccardo riccardo 742269561  8 apr 15.13 all-geonames-rdf.zip\n",
      "-rw-r--r--     1 riccardo riccardo      1325  5 giu 12.19 metadata.json\n",
      "-rw-r--r--     1 riccardo riccardo    196853  8 apr 15.12 ontology-v2.rdf\n",
      "708M\tdatasets/14344/all-geonames-rdf.zip\n"
     ]
    }
   ],
   "source": [
    "%%bash\n",
    "ls -la datasets/14344/\n",
    "du -sh datasets/14344/all-geonames-rdf.zip"
   ]
  },
  {
   "cell_type": "code",
   "execution_count": 58,
   "metadata": {},
   "outputs": [
    {
     "name": "stdout",
     "output_type": "stream",
     "text": [
      "Archive:  all-geonames-rdf.zip\n",
      "  inflating: all-geonames-rdf.txt    \n"
     ]
    }
   ],
   "source": [
    "%%bash\n",
    "cd datasets/14344/\n",
    "unzip all-geonames-rdf.zip"
   ]
  },
  {
   "cell_type": "code",
   "execution_count": 59,
   "metadata": {},
   "outputs": [],
   "source": [
    "%%bash\n",
    "cd datasets/14344/\n",
    "rm all-geonames-rdf.zip\n",
    "mv all-geonames-rdf.txt all-geonames.rdf"
   ]
  },
  {
   "cell_type": "code",
   "execution_count": 60,
   "metadata": {},
   "outputs": [
    {
     "data": {
      "text/plain": [
       "'I file datasets/14344/metadata.json e datasets/13368/metadata.json sono diversi\\n'"
      ]
     },
     "execution_count": 60,
     "metadata": {},
     "output_type": "execute_result"
    }
   ],
   "source": [
    "diff_dataset(\"datasets/14344\", \"datasets/13368\")"
   ]
  },
  {
   "cell_type": "code",
   "execution_count": 61,
   "metadata": {},
   "outputs": [
    {
     "name": "stdout",
     "output_type": "stream",
     "text": [
      "\u001b[01;34mdatasets/14344/\u001b[00m\n",
      "├── about.rdf\n",
      "├── all-geonames.rdf\n",
      "├── metadata.json\n",
      "└── ontology-v2.rdf\n",
      "\n",
      "0 directories, 4 files\n"
     ]
    }
   ],
   "source": [
    "%%bash\n",
    "tree datasets/14344/"
   ]
  },
  {
   "attachments": {},
   "cell_type": "markdown",
   "metadata": {},
   "source": [
    "##### datasets/14364/govwild-rdf-2012-01-30.zip (related to datasets/13263)"
   ]
  },
  {
   "cell_type": "code",
   "execution_count": 62,
   "metadata": {},
   "outputs": [
    {
     "name": "stdout",
     "output_type": "stream",
     "text": [
      "totale 241000\n",
      "drwxr-xr-x     2 riccardo riccardo      4096  8 mag 17.32 .\n",
      "drwxr-xr-x 31591 riccardo riccardo    655360 17 apr 22.34 ..\n",
      "-rw-r--r--     1 riccardo riccardo 246077569  8 apr 15.13 govwild-rdf-2012-01-30.zip\n",
      "-rw-r--r--     1 riccardo riccardo     33191  8 apr 15.13 gwontology.rdf\n",
      "-rw-r--r--     1 riccardo riccardo      1268  5 giu 12.19 metadata.json\n",
      "235M\tgovwild-rdf-2012-01-30.zip\n"
     ]
    }
   ],
   "source": [
    "%%bash\n",
    "cd datasets/14364\n",
    "ls -la\n",
    "du -sh govwild-rdf-2012-01-30.zip"
   ]
  },
  {
   "cell_type": "code",
   "execution_count": 63,
   "metadata": {},
   "outputs": [
    {
     "name": "stdout",
     "output_type": "stream",
     "text": [
      "Archive:  govwild-rdf-2012-01-30.zip\n",
      "   creating: Govwild_rdf_2012-01-30/\n",
      "  inflating: Govwild_rdf_2012-01-30/changelog_2012-01-30.txt  \n",
      "  inflating: Govwild_rdf_2012-01-30/Govwild_rdf.n3  \n"
     ]
    }
   ],
   "source": [
    "%%bash \n",
    "cd datasets/14364\n",
    "unzip govwild-rdf-2012-01-30.zip\n",
    "mv Govwild_rdf_2012-01-30/* .\n",
    "rm -rf Govwild_rdf_2012-01-30\n",
    "rm -rf govwild-rdf-2012-01-30.zip"
   ]
  },
  {
   "cell_type": "code",
   "execution_count": 64,
   "metadata": {},
   "outputs": [
    {
     "name": "stdout",
     "output_type": "stream",
     "text": [
      "- bug fixing:\n",
      "\t- only calculate \"euFinanceTotalReceived\" for the countries of the EU, analogous for \"earmarksTotalReceived\" and the states in the US\n",
      "\t- remove duplicate sameAs-links for Freebase\n",
      "\t- huge funds aren't negative any more\n",
      "- cleansed sourceDetailed (wrongly added EuFinance)\n",
      "- optimized splitting of FreebaseCompany\n",
      "- ontology changes:\n",
      "\t- rename \"Relationship\" to \"PersonRelationship\"\n",
      "\t- rename \"NYTArticle\" to \"NewsArticle\"\n",
      "\t- rename \"Place\" to \"Address\"\n"
     ]
    }
   ],
   "source": [
    "%%bash\n",
    "head datasets/14364/changelog_2012-01-30.txt\n",
    "rm -rf datasets/14364/changelog_2012-01-30.txt"
   ]
  },
  {
   "cell_type": "code",
   "execution_count": 65,
   "metadata": {},
   "outputs": [
    {
     "name": "stdout",
     "output_type": "stream",
     "text": [
      "\u001b[01;34mdatasets/14364\u001b[00m\n",
      "├── \u001b[01;32mGovwild_rdf.n3\u001b[00m\n",
      "├── gwontology.rdf\n",
      "└── metadata.json\n",
      "\n",
      "0 directories, 4 files\n"
     ]
    }
   ],
   "source": [
    "%%bash\n",
    "tree datasets/14364"
   ]
  },
  {
   "cell_type": "code",
   "execution_count": 66,
   "metadata": {},
   "outputs": [
    {
     "data": {
      "text/plain": [
       "'I file datasets/14364/metadata.json e datasets/13263/metadata.json sono diversi\\n'"
      ]
     },
     "execution_count": 66,
     "metadata": {},
     "output_type": "execute_result"
    }
   ],
   "source": [
    "diff_dataset(\"datasets/14364\", \"datasets/13263\")"
   ]
  },
  {
   "cell_type": "code",
   "execution_count": 67,
   "metadata": {},
   "outputs": [
    {
     "data": {
      "text/plain": [
       "'2c2\\n<     \"id\": \"14364\",\\n---\\n>     \"id\": \"13263\",\\n6c6\\n<     \"tags\": \"format-rdf;gov;government;lod;lodcloud-diagram-2011-09-19;lodcloud-diagram-2014-08-30;no-deref-vocab;opendatachallenge;published-by-third-party;\",\\n---\\n>     \"tags\": \"LinkedDataCrawl2014;format-owl;format-rdf;format-rdfs;gov;government;lod;no-deref-vocab;opendatachallenge;part-deref-vocab;prop-vocab;published-by-third-party;\",\\n'"
      ]
     },
     "execution_count": 67,
     "metadata": {},
     "output_type": "execute_result"
    }
   ],
   "source": [
    "diff_file(\"datasets/14364/metadata.json\", \"datasets/13263/metadata.json\")"
   ]
  },
  {
   "attachments": {},
   "cell_type": "markdown",
   "metadata": {},
   "source": [
    "##### datasets/15282/lsoa.ttl.zip (related to datasets/13822)"
   ]
  },
  {
   "cell_type": "code",
   "execution_count": 68,
   "metadata": {},
   "outputs": [
    {
     "name": "stdout",
     "output_type": "stream",
     "text": [
      "totale 1588\n",
      "drwxr-xr-x     2 riccardo riccardo   4096  8 mag 17.32 .\n",
      "drwxr-xr-x 31591 riccardo riccardo 655360 17 apr 22.34 ..\n",
      "-rw-r--r--     1 riccardo riccardo   1678  8 apr 15.14 e01000001.nt\n",
      "-rw-r--r--     1 riccardo riccardo   1465  8 apr 15.14 e01000001.rdf\n",
      "-rw-r--r--     1 riccardo riccardo    907  8 apr 15.14 e01000001.ttl\n",
      "-rw-r--r--     1 riccardo riccardo 944805  8 apr 15.14 lsoa.ttl.zip\n",
      "-rw-r--r--     1 riccardo riccardo   1438  5 giu 12.18 metadata.json\n",
      "924K\tdatasets/15282/lsoa.ttl.zip\n"
     ]
    }
   ],
   "source": [
    "%%bash\n",
    "ls -la datasets/15282\n",
    "du -sh datasets/15282/lsoa.ttl.zip"
   ]
  },
  {
   "cell_type": "code",
   "execution_count": 69,
   "metadata": {},
   "outputs": [
    {
     "name": "stdout",
     "output_type": "stream",
     "text": [
      "Archive:  lsoa.ttl.zip\n",
      "  inflating: lsoa.ttl                \n"
     ]
    }
   ],
   "source": [
    "%%bash\n",
    "cd datasets/15282\n",
    "unzip lsoa.ttl.zip\n",
    "rm lsoa.ttl.zip"
   ]
  },
  {
   "cell_type": "code",
   "execution_count": 70,
   "metadata": {},
   "outputs": [
    {
     "name": "stdout",
     "output_type": "stream",
     "text": [
      "\u001b[01;34mdatasets/15282\u001b[00m\n",
      "├── e01000001.nt\n",
      "├── e01000001.rdf\n",
      "├── e01000001.ttl\n",
      "├── lsoa.ttl\n",
      "└── metadata.json\n",
      "\n",
      "0 directories, 5 files\n"
     ]
    }
   ],
   "source": [
    "%%bash\n",
    "tree datasets/15282"
   ]
  },
  {
   "cell_type": "code",
   "execution_count": 71,
   "metadata": {},
   "outputs": [
    {
     "data": {
      "text/plain": [
       "'I file datasets/15282/metadata.json e datasets/13822/metadata.json sono diversi\\n'"
      ]
     },
     "execution_count": 71,
     "metadata": {},
     "output_type": "execute_result"
    }
   ],
   "source": [
    "diff_dataset(\"datasets/15282\", \"datasets/13822\")"
   ]
  },
  {
   "cell_type": "code",
   "execution_count": 72,
   "metadata": {},
   "outputs": [
    {
     "data": {
      "text/plain": [
       "'2c2\\n<     \"id\": \"15282\",\\n---\\n>     \"id\": \"13822\",\\n'"
      ]
     },
     "execution_count": 72,
     "metadata": {},
     "output_type": "execute_result"
    }
   ],
   "source": [
    "diff_file(\"datasets/15282/metadata.json\", \"datasets/13822/metadata.json\")"
   ]
  },
  {
   "attachments": {},
   "cell_type": "markdown",
   "metadata": {},
   "source": [
    "##### datasets/21532/jrcnames-uri.zip"
   ]
  },
  {
   "cell_type": "code",
   "execution_count": 73,
   "metadata": {},
   "outputs": [
    {
     "name": "stdout",
     "output_type": "stream",
     "text": [
      "totale 774816\n",
      "drwxr-xr-x     2 riccardo riccardo      4096  8 mag 17.32 .\n",
      "drwxr-xr-x 31591 riccardo riccardo    655360 17 apr 22.34 ..\n",
      "-rw-r--r--     1 riccardo riccardo      9112  8 apr 15.15 jrcnamesmodel.rdf\n",
      "-rw-r--r--     1 riccardo riccardo 792724845  8 apr 15.15 jrcnames-uri.zip\n",
      "-rw-r--r--     1 riccardo riccardo      3529  5 giu 12.19 metadata.json\n",
      "757M\tjrcnames-uri.zip\n"
     ]
    }
   ],
   "source": [
    "%%bash\n",
    "cd datasets/21532\n",
    "ls -la\n",
    "du -sh jrcnames-uri.zip"
   ]
  },
  {
   "cell_type": "code",
   "execution_count": 74,
   "metadata": {},
   "outputs": [
    {
     "name": "stdout",
     "output_type": "stream",
     "text": [
      "Archive:  jrcnames-uri.zip\n",
      "  inflating: jrcnames_uri.nt         \n"
     ]
    }
   ],
   "source": [
    "%%bash \n",
    "cd datasets/21532\n",
    "unzip jrcnames-uri.zip"
   ]
  },
  {
   "cell_type": "code",
   "execution_count": 75,
   "metadata": {},
   "outputs": [],
   "source": [
    "%%bash\n",
    "rm datasets/21532/jrcnames-uri.zip"
   ]
  },
  {
   "cell_type": "code",
   "execution_count": 76,
   "metadata": {},
   "outputs": [
    {
     "name": "stdout",
     "output_type": "stream",
     "text": [
      "\u001b[01;34mdatasets/21532\u001b[00m\n",
      "├── jrcnamesmodel.rdf\n",
      "├── jrcnames_uri.nt\n",
      "└── metadata.json\n",
      "\n",
      "0 directories, 3 files\n"
     ]
    }
   ],
   "source": [
    "%%bash\n",
    "tree datasets/21532"
   ]
  },
  {
   "attachments": {},
   "cell_type": "markdown",
   "metadata": {},
   "source": [
    "#### GZ files"
   ]
  },
  {
   "cell_type": "code",
   "execution_count": 77,
   "metadata": {},
   "outputs": [
    {
     "name": "stdout",
     "output_type": "stream",
     "text": [
      "datasets/13283/txn-ocs.ttl.gz\n",
      "datasets/13283/txn-distribution.ttl.gz\n",
      "datasets/13283/txn-images.ttl.gz\n",
      "datasets/13283/txn-misc.ttl.gz\n",
      "datasets/13347/geospecies.rdf.gz\n",
      "datasets/14079/eat.nt.gz\n",
      "datasets/14277/txn-ocs.ttl.gz\n",
      "datasets/14277/txn-distribution.ttl.gz\n",
      "datasets/14277/txn-images.ttl.gz\n",
      "datasets/14277/txn-misc.ttl.gz\n",
      "datasets/14324/geospecies.rdf.gz\n",
      "datasets/14801/usage.nt.gz\n"
     ]
    }
   ],
   "source": [
    "for a in tar_gz:\n",
    "    print(a)"
   ]
  },
  {
   "attachments": {},
   "cell_type": "markdown",
   "metadata": {},
   "source": [
    "##### datasets 13283 and 14277 seems to have the same files"
   ]
  },
  {
   "cell_type": "code",
   "execution_count": 78,
   "metadata": {},
   "outputs": [
    {
     "data": {
      "text/plain": [
       "'I file datasets/13283/metadata.json e datasets/14277/metadata.json sono diversi\\n'"
      ]
     },
     "execution_count": 78,
     "metadata": {},
     "output_type": "execute_result"
    }
   ],
   "source": [
    "diff_dataset(\"datasets/13283\", \"datasets/14277\")"
   ]
  },
  {
   "cell_type": "code",
   "execution_count": 79,
   "metadata": {},
   "outputs": [
    {
     "name": "stderr",
     "output_type": "stream",
     "text": [
      "diff: extra operando \"datasets/14277/metadata.json\"\n",
      "diff: Usare \"diff --help\" per maggiori informazioni.\n"
     ]
    },
    {
     "data": {
      "text/plain": [
       "''"
      ]
     },
     "execution_count": 79,
     "metadata": {},
     "output_type": "execute_result"
    }
   ],
   "source": [
    "diff_file(\"diff datasets/13283/metadata.json\", \"datasets/14277/metadata.json\")"
   ]
  },
  {
   "cell_type": "code",
   "execution_count": 80,
   "metadata": {},
   "outputs": [
    {
     "name": "stdout",
     "output_type": "stream",
     "text": [
      "\u001b[01;34mdatasets/13283\u001b[00m\n",
      "├── f522444a-2dd9-400e-be59-47213ef38cb9.rdf\n",
      "├── metadata.json\n",
      "├── \u001b[01;31mtxn-distribution.ttl.gz\u001b[00m\n",
      "├── \u001b[01;31mtxn-images.ttl.gz\u001b[00m\n",
      "├── \u001b[01;31mtxn-misc.ttl.gz\u001b[00m\n",
      "├── \u001b[01;31mtxn-ocs.ttl.gz\u001b[00m\n",
      "└── txn.owl\n",
      "\n",
      "0 directories, 7 files\n"
     ]
    }
   ],
   "source": [
    "%%bash\n",
    "tree datasets/13283"
   ]
  },
  {
   "cell_type": "code",
   "execution_count": 81,
   "metadata": {},
   "outputs": [],
   "source": [
    "%%bash\n",
    "cd datasets/13283\n",
    "gzip -d *.gz"
   ]
  },
  {
   "cell_type": "code",
   "execution_count": 82,
   "metadata": {},
   "outputs": [
    {
     "name": "stdout",
     "output_type": "stream",
     "text": [
      "\u001b[01;34mdatasets/13283\u001b[00m\n",
      "├── f522444a-2dd9-400e-be59-47213ef38cb9.rdf\n",
      "├── metadata.json\n",
      "├── txn-distribution.ttl\n",
      "├── txn-images.ttl\n",
      "├── txn-misc.ttl\n",
      "├── txn-ocs.ttl\n",
      "└── txn.owl\n",
      "\n",
      "0 directories, 7 files\n"
     ]
    }
   ],
   "source": [
    "%%bash\n",
    "tree datasets/13283"
   ]
  },
  {
   "cell_type": "code",
   "execution_count": 83,
   "metadata": {},
   "outputs": [
    {
     "name": "stdout",
     "output_type": "stream",
     "text": [
      "\u001b[01;34mdatasets/14277\u001b[00m\n",
      "├── f522444a-2dd9-400e-be59-47213ef38cb9.rdf\n",
      "├── metadata.json\n",
      "├── \u001b[01;31mtxn-distribution.ttl.gz\u001b[00m\n",
      "├── \u001b[01;31mtxn-images.ttl.gz\u001b[00m\n",
      "├── \u001b[01;31mtxn-misc.ttl.gz\u001b[00m\n",
      "├── \u001b[01;31mtxn-ocs.ttl.gz\u001b[00m\n",
      "└── txn.owl\n",
      "\n",
      "0 directories, 7 files\n"
     ]
    }
   ],
   "source": [
    "%%bash\n",
    "tree datasets/14277"
   ]
  },
  {
   "cell_type": "code",
   "execution_count": 84,
   "metadata": {},
   "outputs": [],
   "source": [
    "%%bash\n",
    "cd datasets/14277\n",
    "gzip -d *.gz"
   ]
  },
  {
   "cell_type": "code",
   "execution_count": 85,
   "metadata": {},
   "outputs": [
    {
     "name": "stdout",
     "output_type": "stream",
     "text": [
      "\u001b[01;34mdatasets/14277\u001b[00m\n",
      "├── f522444a-2dd9-400e-be59-47213ef38cb9.rdf\n",
      "├── metadata.json\n",
      "├── txn-distribution.ttl\n",
      "├── txn-images.ttl\n",
      "├── txn-misc.ttl\n",
      "├── txn-ocs.ttl\n",
      "└── txn.owl\n",
      "\n",
      "0 directories, 7 files\n"
     ]
    }
   ],
   "source": [
    "%%bash\n",
    "tree datasets/14277"
   ]
  },
  {
   "attachments": {},
   "cell_type": "markdown",
   "metadata": {},
   "source": [
    "##### datasets 13347 and 14324 seems to have the same files"
   ]
  },
  {
   "cell_type": "code",
   "execution_count": 86,
   "metadata": {},
   "outputs": [
    {
     "data": {
      "text/plain": [
       "'I file datasets/13347/metadata.json e datasets/14324/metadata.json sono diversi\\n'"
      ]
     },
     "execution_count": 86,
     "metadata": {},
     "output_type": "execute_result"
    }
   ],
   "source": [
    "diff_dataset(\"datasets/13347\", \"datasets/14324\")"
   ]
  },
  {
   "cell_type": "code",
   "execution_count": 87,
   "metadata": {},
   "outputs": [
    {
     "data": {
      "text/plain": [
       "'2c2\\n<     \"id\": \"13347\",\\n---\\n>     \"id\": \"14324\",\\n6c6\\n<     \"tags\": \"LinkedDataCrawl2014;alt. access;crawledLinkedDataCloud2014;dataset-level-metadata;dump;format-bibo;format-cc;format-dcterm;format-foaf;format-geosp;format-gn;format-owl;format-rdf;format-rdfs;format-skos;format-void;format-wdrs;format-wlo;license-metadata\",\\n---\\n>     \"tags\": \"bio;biodiversity;ckanupload.esw.200910;deref-vocab;format-bibo;format-cc;format-dbp;format-dc;format-doap;format-foaf;format-geo;format-geonames;format-geospecies;format-owl;format-rdf;format-rdfs;format-skos;format-txn;format-umbel;format-uniprot;license\",\\n'"
      ]
     },
     "execution_count": 87,
     "metadata": {},
     "output_type": "execute_result"
    }
   ],
   "source": [
    "diff_file(\"datasets/13347/metadata.json\", \"datasets/14324/metadata.json\")"
   ]
  },
  {
   "cell_type": "code",
   "execution_count": 88,
   "metadata": {},
   "outputs": [
    {
     "name": "stdout",
     "output_type": "stream",
     "text": [
      "\u001b[01;34mdatasets/13347\u001b[00m\n",
      "├── geospecies.owl\n",
      "├── \u001b[01;31mgeospecies.rdf.gz\u001b[00m\n",
      "└── metadata.json\n",
      "\n",
      "0 directories, 3 files\n"
     ]
    }
   ],
   "source": [
    "%%bash\n",
    "tree datasets/13347"
   ]
  },
  {
   "cell_type": "code",
   "execution_count": 89,
   "metadata": {},
   "outputs": [],
   "source": [
    "%%bash\n",
    "cd datasets/13347\n",
    "gzip -d *.gz"
   ]
  },
  {
   "cell_type": "code",
   "execution_count": 90,
   "metadata": {},
   "outputs": [
    {
     "name": "stdout",
     "output_type": "stream",
     "text": [
      "\u001b[01;34mdatasets/13347\u001b[00m\n",
      "├── geospecies.owl\n",
      "├── geospecies.rdf\n",
      "└── metadata.json\n",
      "\n",
      "0 directories, 3 files\n"
     ]
    }
   ],
   "source": [
    "%%bash\n",
    "tree datasets/13347"
   ]
  },
  {
   "cell_type": "code",
   "execution_count": 91,
   "metadata": {},
   "outputs": [
    {
     "name": "stdout",
     "output_type": "stream",
     "text": [
      "\u001b[01;34mdatasets/14324\u001b[00m\n",
      "├── geospecies.owl\n",
      "├── \u001b[01;31mgeospecies.rdf.gz\u001b[00m\n",
      "└── metadata.json\n",
      "\n",
      "0 directories, 3 files\n"
     ]
    }
   ],
   "source": [
    "%%bash\n",
    "tree datasets/14324"
   ]
  },
  {
   "cell_type": "code",
   "execution_count": 92,
   "metadata": {},
   "outputs": [],
   "source": [
    "%%bash\n",
    "cd datasets/14324\n",
    "gzip -d *.gz"
   ]
  },
  {
   "cell_type": "code",
   "execution_count": 93,
   "metadata": {},
   "outputs": [
    {
     "name": "stdout",
     "output_type": "stream",
     "text": [
      "\u001b[01;34mdatasets/14324\u001b[00m\n",
      "├── geospecies.owl\n",
      "├── geospecies.rdf\n",
      "└── metadata.json\n",
      "\n",
      "0 directories, 3 files\n"
     ]
    }
   ],
   "source": [
    "%%bash\n",
    "tree datasets/14324"
   ]
  },
  {
   "attachments": {},
   "cell_type": "markdown",
   "metadata": {},
   "source": [
    "##### datasets/14079/eat.nt.gz"
   ]
  },
  {
   "cell_type": "code",
   "execution_count": 94,
   "metadata": {},
   "outputs": [
    {
     "name": "stdout",
     "output_type": "stream",
     "text": [
      "\u001b[01;34mdatasets/14079\u001b[00m\n",
      "├── \u001b[01;31meat.nt.gz\u001b[00m\n",
      "├── mapping-eat-dbpedia.rdf\n",
      "├── metadata.json\n",
      "├── vocab.ttl\n",
      "└── wheat.rdf\n",
      "\n",
      "0 directories, 5 files\n"
     ]
    }
   ],
   "source": [
    "%%bash\n",
    "tree datasets/14079"
   ]
  },
  {
   "cell_type": "code",
   "execution_count": 95,
   "metadata": {},
   "outputs": [],
   "source": [
    "%%bash\n",
    "cd datasets/14079\n",
    "gzip -d *.gz"
   ]
  },
  {
   "cell_type": "code",
   "execution_count": 96,
   "metadata": {},
   "outputs": [
    {
     "name": "stdout",
     "output_type": "stream",
     "text": [
      "\u001b[01;34mdatasets/14079\u001b[00m\n",
      "├── eat.nt\n",
      "├── mapping-eat-dbpedia.rdf\n",
      "├── metadata.json\n",
      "├── vocab.ttl\n",
      "└── wheat.rdf\n",
      "\n",
      "0 directories, 5 files\n"
     ]
    }
   ],
   "source": [
    "%%bash\n",
    "tree datasets/14079"
   ]
  },
  {
   "attachments": {},
   "cell_type": "markdown",
   "metadata": {},
   "source": [
    "##### datasets/14801/usage.nt.gz"
   ]
  },
  {
   "cell_type": "code",
   "execution_count": 97,
   "metadata": {},
   "outputs": [
    {
     "name": "stdout",
     "output_type": "stream",
     "text": [
      "\u001b[01;34mdatasets/14801\u001b[00m\n",
      "├── 2050.rdf\n",
      "├── metadata.json\n",
      "└── \u001b[01;31musage.nt.gz\u001b[00m\n",
      "\n",
      "0 directories, 3 files\n"
     ]
    }
   ],
   "source": [
    "%%bash\n",
    "tree datasets/14801"
   ]
  },
  {
   "cell_type": "code",
   "execution_count": 98,
   "metadata": {},
   "outputs": [],
   "source": [
    "%%bash\n",
    "cd datasets/14801\n",
    "gzip -d *.gz"
   ]
  },
  {
   "cell_type": "code",
   "execution_count": 99,
   "metadata": {},
   "outputs": [
    {
     "name": "stdout",
     "output_type": "stream",
     "text": [
      "\u001b[01;34mdatasets/14801\u001b[00m\n",
      "├── 2050.rdf\n",
      "├── metadata.json\n",
      "└── usage.nt\n",
      "\n",
      "0 directories, 3 files\n"
     ]
    }
   ],
   "source": [
    "%%bash\n",
    "tree datasets/14801"
   ]
  },
  {
   "attachments": {},
   "cell_type": "markdown",
   "metadata": {},
   "source": [
    "#### BZ2"
   ]
  },
  {
   "cell_type": "code",
   "execution_count": 100,
   "metadata": {},
   "outputs": [
    {
     "name": "stdout",
     "output_type": "stream",
     "text": [
      "datasets/13369/dbpedia-3.6.owl.bz2\n",
      "datasets/13388/dbpedia-3.6.owl.bz2\n",
      "datasets/13461/dbpedia-3.5.1.owl.bz2\n",
      "datasets/14336/dbpedia-3.6.owl.bz2\n",
      "datasets/15414/dbpedia-3.6.owl.bz2\n"
     ]
    }
   ],
   "source": [
    "for a in bz2:\n",
    "    print(a)"
   ]
  },
  {
   "attachments": {},
   "cell_type": "markdown",
   "metadata": {},
   "source": [
    "##### datasets/13369/dbpedia-3.6.owl.bz2"
   ]
  },
  {
   "cell_type": "code",
   "execution_count": 101,
   "metadata": {},
   "outputs": [
    {
     "name": "stdout",
     "output_type": "stream",
     "text": [
      "\u001b[01;34mdatasets/13369\u001b[00m\n",
      "├── \u001b[01;31mdbpedia-3.6.owl.bz2\u001b[00m\n",
      "├── linux.n3\n",
      "├── linux.rdf\n",
      "└── metadata.json\n",
      "\n",
      "0 directories, 4 files\n"
     ]
    }
   ],
   "source": [
    "%%bash\n",
    "tree datasets/13369"
   ]
  },
  {
   "cell_type": "code",
   "execution_count": 102,
   "metadata": {},
   "outputs": [],
   "source": [
    "%%bash\n",
    "cd datasets/13369\n",
    "bzip2 -d dbpedia-3.6.owl.bz2"
   ]
  },
  {
   "cell_type": "code",
   "execution_count": 103,
   "metadata": {},
   "outputs": [
    {
     "name": "stdout",
     "output_type": "stream",
     "text": [
      "\u001b[01;34mdatasets/13369\u001b[00m\n",
      "├── dbpedia-3.6.owl\n",
      "├── linux.n3\n",
      "├── linux.rdf\n",
      "└── metadata.json\n",
      "\n",
      "0 directories, 4 files\n"
     ]
    }
   ],
   "source": [
    "%%bash\n",
    "tree datasets/13369"
   ]
  },
  {
   "attachments": {},
   "cell_type": "markdown",
   "metadata": {},
   "source": [
    "##### datasets/13388/dbpedia-3.6.owl.bz2"
   ]
  },
  {
   "cell_type": "code",
   "execution_count": 104,
   "metadata": {},
   "outputs": [
    {
     "name": "stdout",
     "output_type": "stream",
     "text": [
      "\u001b[01;34mdatasets/13388\u001b[00m\n",
      "├── \u001b[01;31mdbpedia-3.6.owl.bz2\u001b[00m\n",
      "├── metadata.json\n",
      "├── paris.n3\n",
      "├── paris.nt\n",
      "└── paris.rdf\n",
      "\n",
      "0 directories, 5 files\n"
     ]
    }
   ],
   "source": [
    "%%bash\n",
    "tree datasets/13388"
   ]
  },
  {
   "cell_type": "code",
   "execution_count": 105,
   "metadata": {},
   "outputs": [],
   "source": [
    "%%bash\n",
    "cd datasets/13388\n",
    "bzip2 -d dbpedia-3.6.owl.bz2"
   ]
  },
  {
   "cell_type": "code",
   "execution_count": 106,
   "metadata": {},
   "outputs": [
    {
     "name": "stdout",
     "output_type": "stream",
     "text": [
      "\u001b[01;34mdatasets/13388\u001b[00m\n",
      "├── dbpedia-3.6.owl\n",
      "├── metadata.json\n",
      "├── paris.n3\n",
      "├── paris.nt\n",
      "└── paris.rdf\n",
      "\n",
      "0 directories, 5 files\n"
     ]
    }
   ],
   "source": [
    "%%bash\n",
    "tree datasets/13388"
   ]
  },
  {
   "attachments": {},
   "cell_type": "markdown",
   "metadata": {},
   "source": [
    "##### datasets/13461/dbpedia-3.5.1.owl.bz2"
   ]
  },
  {
   "cell_type": "code",
   "execution_count": 107,
   "metadata": {},
   "outputs": [
    {
     "name": "stdout",
     "output_type": "stream",
     "text": [
      "\u001b[01;34mdatasets/13461\u001b[00m\n",
      "├── berlin.n3\n",
      "├── berlin.rdf\n",
      "├── \u001b[01;31mdbpedia-3.5.1.owl.bz2\u001b[00m\n",
      "└── metadata.json\n",
      "\n",
      "0 directories, 4 files\n"
     ]
    }
   ],
   "source": [
    "%%bash\n",
    "tree datasets/13461"
   ]
  },
  {
   "cell_type": "code",
   "execution_count": 108,
   "metadata": {},
   "outputs": [],
   "source": [
    "%%bash\n",
    "cd datasets/13461\n",
    "bzip2 -d dbpedia-3.5.1.owl.bz2"
   ]
  },
  {
   "cell_type": "code",
   "execution_count": 109,
   "metadata": {},
   "outputs": [
    {
     "name": "stdout",
     "output_type": "stream",
     "text": [
      "\u001b[01;34mdatasets/13461\u001b[00m\n",
      "├── berlin.n3\n",
      "├── berlin.rdf\n",
      "├── dbpedia-3.5.1.owl\n",
      "└── metadata.json\n",
      "\n",
      "0 directories, 4 files\n"
     ]
    }
   ],
   "source": [
    "%%bash\n",
    "tree datasets/13461"
   ]
  },
  {
   "attachments": {},
   "cell_type": "markdown",
   "metadata": {},
   "source": [
    "##### datasets/14336/dbpedia-3.6.owl.bz2"
   ]
  },
  {
   "cell_type": "code",
   "execution_count": 110,
   "metadata": {},
   "outputs": [
    {
     "name": "stdout",
     "output_type": "stream",
     "text": [
      "\u001b[01;34mdatasets/14336\u001b[00m\n",
      "├── \u001b[01;31mdbpedia-3.6.owl.bz2\u001b[00m\n",
      "├── linux.n3\n",
      "├── linux.rdf\n",
      "└── metadata.json\n",
      "\n",
      "0 directories, 4 files\n"
     ]
    }
   ],
   "source": [
    "%%bash\n",
    "tree datasets/14336"
   ]
  },
  {
   "cell_type": "code",
   "execution_count": 111,
   "metadata": {},
   "outputs": [],
   "source": [
    "%%bash\n",
    "cd datasets/14336\n",
    "bzip2 -d dbpedia-3.6.owl.bz2"
   ]
  },
  {
   "cell_type": "code",
   "execution_count": 112,
   "metadata": {},
   "outputs": [
    {
     "name": "stdout",
     "output_type": "stream",
     "text": [
      "\u001b[01;34mdatasets/14336\u001b[00m\n",
      "├── dbpedia-3.6.owl\n",
      "├── linux.n3\n",
      "├── linux.rdf\n",
      "└── metadata.json\n",
      "\n",
      "0 directories, 4 files\n"
     ]
    }
   ],
   "source": [
    "%%bash\n",
    "tree datasets/14336"
   ]
  },
  {
   "attachments": {},
   "cell_type": "markdown",
   "metadata": {},
   "source": [
    "##### datasets/15414/dbpedia-3.6.owl.bz2"
   ]
  },
  {
   "cell_type": "code",
   "execution_count": 113,
   "metadata": {},
   "outputs": [
    {
     "name": "stdout",
     "output_type": "stream",
     "text": [
      "\u001b[01;34mdatasets/15414\u001b[00m\n",
      "├── \u001b[01;31mdbpedia-3.6.owl.bz2\u001b[00m\n",
      "├── metadata.json\n",
      "├── paris.n3\n",
      "├── paris.nt\n",
      "└── paris.rdf\n",
      "\n",
      "0 directories, 5 files\n"
     ]
    }
   ],
   "source": [
    "%%bash\n",
    "tree datasets/15414"
   ]
  },
  {
   "cell_type": "code",
   "execution_count": 114,
   "metadata": {},
   "outputs": [],
   "source": [
    "%%bash\n",
    "cd datasets/15414\n",
    "bzip2 -d dbpedia-3.6.owl.bz2"
   ]
  },
  {
   "cell_type": "code",
   "execution_count": 115,
   "metadata": {},
   "outputs": [
    {
     "name": "stdout",
     "output_type": "stream",
     "text": [
      "\u001b[01;34mdatasets/15414\u001b[00m\n",
      "├── dbpedia-3.6.owl\n",
      "├── metadata.json\n",
      "├── paris.n3\n",
      "├── paris.nt\n",
      "└── paris.rdf\n",
      "\n",
      "0 directories, 5 files\n"
     ]
    }
   ],
   "source": [
    "%%bash\n",
    "tree datasets/15414"
   ]
  },
  {
   "attachments": {},
   "cell_type": "markdown",
   "metadata": {},
   "source": [
    "### Files that needs to be checked manually"
   ]
  },
  {
   "cell_type": "code",
   "execution_count": 116,
   "metadata": {},
   "outputs": [],
   "source": [
    "assign_extensions = [\n",
    "    \"datasets/13506/biomodels-biomd0000000048\",\n",
    "    \"datasets/13522/irefindex.irogid-1069566\",\n",
    "    \"datasets/14517/irefindex.irogid-1069566\",\n",
    "    \"datasets/14742/sample-20160515.rdf.xml\",\n",
    "]"
   ]
  },
  {
   "cell_type": "code",
   "execution_count": 117,
   "metadata": {},
   "outputs": [
    {
     "name": "stdout",
     "output_type": "stream",
     "text": [
      "# Empty TURTLE\n"
     ]
    }
   ],
   "source": [
    "%%bash\n",
    "cd datasets/13506\n",
    "head biomodels-biomd0000000048\n",
    "rm biomodels-biomd0000000048"
   ]
  },
  {
   "cell_type": "code",
   "execution_count": 118,
   "metadata": {},
   "outputs": [
    {
     "name": "stdout",
     "output_type": "stream",
     "text": [
      "# Empty TURTLE\n"
     ]
    }
   ],
   "source": [
    "%%bash\n",
    "cd datasets/13522\n",
    "head irefindex.irogid-1069566\n",
    "rm irefindex.irogid-1069566"
   ]
  },
  {
   "cell_type": "code",
   "execution_count": 119,
   "metadata": {},
   "outputs": [
    {
     "name": "stdout",
     "output_type": "stream",
     "text": [
      "# Empty TURTLE\n"
     ]
    }
   ],
   "source": [
    "%%bash\n",
    "cd datasets/14517\n",
    "head irefindex.irogid-1069566\n",
    "rm irefindex.irogid-1069566"
   ]
  },
  {
   "cell_type": "code",
   "execution_count": 120,
   "metadata": {},
   "outputs": [
    {
     "name": "stdout",
     "output_type": "stream",
     "text": [
      "<RDF xmlns=\"http://www.w3.org/1999/02/22-rdf-syntax-ns#\">\n",
      "<rdfs:Resource xmlns:rdfs=\"http://www.w3.org/2000/01/rdf-schema#\"\n",
      "               xmlns:dc=\"http://purl.org/dc/elements/1.1/\"\n",
      "               xmlns:dcterms=\"http://purl.org/dc/terms/\"\n",
      "               xmlns:role=\"http://www.language-archives.org/vocabulary/role#\"\n",
      "               xmlns:rdf=\"http://www.w3.org/1999/02/22-rdf-syntax-ns#\"\n",
      "               rdf:about=\"http://www.language-archives.org/item/oai:acl.sr.language-archives.org:P87-1033\">\n",
      "   <dc:publisher rdf:resource=\"http://www.language-archives.org/archive/acl.sr.language-archives.org\"/>\n",
      "</rdfs:Resource>\n",
      "<rdfs:Resource xmlns:rdfs=\"http://www.w3.org/2000/01/rdf-schema#\"\n"
     ]
    }
   ],
   "source": [
    "%%bash\n",
    "cd datasets/14742\n",
    "head sample-20160515.rdf.xml\n",
    "mv sample-20160515.rdf.xml sample-20160515.rdf"
   ]
  },
  {
   "attachments": {},
   "cell_type": "markdown",
   "metadata": {},
   "source": [
    "### Big files"
   ]
  },
  {
   "attachments": {},
   "cell_type": "markdown",
   "metadata": {},
   "source": [
    "After extracting all the zips above, look for all the RDF files that are bigger than 200MB"
   ]
  },
  {
   "cell_type": "code",
   "execution_count": 121,
   "metadata": {},
   "outputs": [
    {
     "name": "stdout",
     "output_type": "stream",
     "text": [
      "datasets/13565/download-20120123.rdf\n",
      "datasets/11580/rows.rdf\n",
      "datasets/14364/Govwild_rdf.n3\n",
      "datasets/14079/eat.nt\n",
      "datasets/13263/Govwild_rdf.n3\n",
      "datasets/21532/jrcnames_uri.nt\n",
      "datasets/15243/fr.rdf\n",
      "datasets/15243/en.rdf\n",
      "datasets/13368/all-geonames.rdf\n",
      "datasets/14344/all-geonames.rdf\n"
     ]
    }
   ],
   "source": [
    "for path, subdirs, files in os.walk(\"datasets\"):\n",
    "    for name in files:\n",
    "        file_with_path = os.path.join(path, name)\n",
    "        if is_file_larger_than_size_limit(file_with_path) and check_if_file_name_is_rdf(name):\n",
    "            print(file_with_path)"
   ]
  }
 ],
 "metadata": {
  "kernelspec": {
   "display_name": "Python 3 (ipykernel)",
   "language": "python",
   "name": "python3"
  },
  "language_info": {
   "codemirror_mode": {
    "name": "ipython",
    "version": 3
   },
   "file_extension": ".py",
   "mimetype": "text/x-python",
   "name": "python",
   "nbconvert_exporter": "python",
   "pygments_lexer": "ipython3",
   "version": "3.9.2"
  }
 },
 "nbformat": 4,
 "nbformat_minor": 2
}
