{
 "cells": [
  {
   "cell_type": "code",
   "execution_count": 1,
   "metadata": {},
   "outputs": [],
   "source": [
    "import os\n",
    "import re"
   ]
  },
  {
   "cell_type": "code",
   "execution_count": 2,
   "metadata": {},
   "outputs": [
    {
     "data": {
      "text/plain": [
       "['nltk-mfq', 'vanilla-mfq']"
      ]
     },
     "execution_count": 2,
     "metadata": {},
     "output_type": "execute_result"
    }
   ],
   "source": [
    "sorted([item for item in os.listdir() if os.path.isdir(item)])"
   ]
  },
  {
   "cell_type": "code",
   "execution_count": 3,
   "metadata": {},
   "outputs": [],
   "source": [
    "dataset_name = \"vanilla-mfq\""
   ]
  },
  {
   "cell_type": "code",
   "execution_count": 4,
   "metadata": {},
   "outputs": [],
   "source": [
    "trec_executable = \"../trec_eval/trec_eval\"     # path to the TREC executable\n",
    "\n",
    "qrels_file_path = \"../qrels/qrels_without_empty_nodes_file.txt\"\n",
    "\n",
    "run_output_folder = f\"{dataset_name}/output\"      # folder that contains the output of the runs\n",
    "trec_output_folder = f\"{dataset_name}/trec\"       # folder that will contain the TREC output "
   ]
  },
  {
   "cell_type": "markdown",
   "metadata": {},
   "source": [
    "## TREC\n",
    "Generate TREC output files"
   ]
  },
  {
   "cell_type": "code",
   "execution_count": 5,
   "metadata": {},
   "outputs": [],
   "source": [
    "output_run = os.listdir(run_output_folder)"
   ]
  },
  {
   "cell_type": "code",
   "execution_count": 6,
   "metadata": {},
   "outputs": [],
   "source": [
    "trec_cmd = f\"{trec_executable} -q -m all_trec -c {qrels_file_path}\""
   ]
  },
  {
   "cell_type": "code",
   "execution_count": 7,
   "metadata": {},
   "outputs": [],
   "source": [
    "shell_commands = list()\n",
    "trec_output_files = list()\n",
    "\n",
    "for file in output_run:\n",
    "    trec_output_file = file.replace(\"output\", \"trec\")\n",
    "    cmd = f\"{trec_cmd} {run_output_folder}/{file} > {trec_output_folder}/{trec_output_file}\"\n",
    "\n",
    "    trec_output_files.append(trec_output_file)\n",
    "    shell_commands.append(cmd)"
   ]
  },
  {
   "cell_type": "code",
   "execution_count": 8,
   "metadata": {},
   "outputs": [],
   "source": [
    "for cmd in shell_commands:\n",
    "    os.system(cmd)"
   ]
  },
  {
   "cell_type": "markdown",
   "metadata": {},
   "source": [
    "## Results\n",
    "Extrapolate data from trec output"
   ]
  },
  {
   "cell_type": "code",
   "execution_count": 9,
   "metadata": {},
   "outputs": [],
   "source": [
    "files = os.listdir(trec_output_folder)\n",
    "files.sort()"
   ]
  },
  {
   "cell_type": "code",
   "execution_count": 10,
   "metadata": {},
   "outputs": [],
   "source": [
    "# measurements = [\"ndcg_cut_5\", \"ndcg_cut_10\", \"map_cut_5\", \"map_cut_10\", \"ndcg\", \"map\" ,\"set_recall\"]\n",
    "measurements = [\"ndcg_cut_5\", \"ndcg_cut_10\", \"map_cut_5\", \"map_cut_10\"]\n",
    "\n",
    "def get_metrics(file_path: str)->dict:\n",
    "    d = dict()\n",
    "    with open(file_path) as f:\n",
    "        for line in f:\n",
    "            for m in measurements:\n",
    "                if re.match(f\"{m}\\s\", line):\n",
    "                    d[m] = line.split()[-1]\n",
    "    return d\n"
   ]
  },
  {
   "cell_type": "code",
   "execution_count": 11,
   "metadata": {},
   "outputs": [],
   "source": [
    "out = dict()\n",
    "for file in files:\n",
    "    file_path = f\"{trec_output_folder}/{file}\"\n",
    "    key = file.replace('-trec.txt','')\n",
    "    out[key] =  get_metrics(file_path)"
   ]
  },
  {
   "cell_type": "code",
   "execution_count": 12,
   "metadata": {},
   "outputs": [
    {
     "name": "stdout",
     "output_type": "stream",
     "text": [
      "| Model                                  |   ndcg_cut_5 |   ndcg_cut_10 |   map_cut_5 |   map_cut_10 |\n",
      "|:---------------------------------------|-------------:|--------------:|------------:|-------------:|\n",
      "| BM25-EXTRACTED+NODES-ALL-QUERIES       |       0.1275 |        0.1413 |      0.0751 |       0.0891 |\n",
      "| BM25-EXTRACTED+NODES-SYN-QUERIES       |       0.0736 |        0.0797 |      0.0415 |       0.0493 |\n",
      "| BM25-EXTRACTED+NODES-TREC-QUERIES      |       0.0539 |        0.0616 |      0.0336 |       0.0398 |\n",
      "| BM25-EXTRACTED-ALL-QUERIES             |       0.1056 |        0.1158 |      0.0653 |       0.0759 |\n",
      "| BM25-EXTRACTED-SYN-QUERIES             |       0.0626 |        0.068  |      0.0367 |       0.0433 |\n",
      "| BM25-EXTRACTED-TREC-QUERIES            |       0.043  |        0.0479 |      0.0286 |       0.0326 |\n",
      "| BM25-META+EXTRACTED+NODES-ALL-QUERIES  |       0.4095 |        0.4446 |      0.2563 |       0.33   |\n",
      "| BM25-META+EXTRACTED+NODES-SYN-QUERIES  |       0.2299 |        0.2442 |      0.141  |       0.181  |\n",
      "| BM25-META+EXTRACTED+NODES-TREC-QUERIES |       0.1796 |        0.2006 |      0.1153 |       0.1492 |\n",
      "| BM25-META+EXTRACTED-ALL-QUERIES        |       0.4387 |        0.4749 |      0.2805 |       0.3633 |\n",
      "| BM25-META+EXTRACTED-SYN-QUERIES        |       0.2456 |        0.2583 |      0.1538 |       0.1971 |\n",
      "| BM25-META+EXTRACTED-TREC-QUERIES       |       0.1933 |        0.2168 |      0.1269 |       0.1664 |\n",
      "| BM25-META+NODES-ALL-QUERIES            |       0.439  |        0.4685 |      0.273  |       0.3576 |\n",
      "| BM25-META+NODES-SYN-QUERIES            |       0.2526 |        0.2594 |      0.1529 |       0.1971 |\n",
      "| BM25-META+NODES-TREC-QUERIES           |       0.1866 |        0.2091 |      0.1204 |       0.1606 |\n",
      "| BM25-META-ALL-QUERIES                  |       0.4616 |        0.4808 |      0.2961 |       0.3761 |\n",
      "| BM25-META-SYN-QUERIES                  |       0.2602 |        0.2646 |      0.1627 |       0.2053 |\n",
      "| BM25-META-TREC-QUERIES                 |       0.2014 |        0.2163 |      0.1335 |       0.1708 |\n",
      "| BM25-NODES-ALL-QUERIES                 |       0.0825 |        0.084  |      0.0401 |       0.046  |\n",
      "| BM25-NODES-SYN-QUERIES                 |       0.0484 |        0.0495 |      0.0248 |       0.0282 |\n",
      "| BM25-NODES-TREC-QUERIES                |       0.034  |        0.0345 |      0.0153 |       0.0178 |\n",
      "| CS-EXTRACTED+NODES-ALL-QUERIES         |       0.1048 |        0.1129 |      0.0564 |       0.0667 |\n",
      "| CS-EXTRACTED+NODES-SYN-QUERIES         |       0.0582 |        0.0615 |      0.0307 |       0.0366 |\n",
      "| CS-EXTRACTED+NODES-TREC-QUERIES        |       0.0466 |        0.0514 |      0.0257 |       0.0301 |\n",
      "| CS-EXTRACTED-ALL-QUERIES               |       0.078  |        0.0878 |      0.0483 |       0.0572 |\n",
      "| CS-EXTRACTED-SYN-QUERIES               |       0.0439 |        0.0489 |      0.0262 |       0.0317 |\n",
      "| CS-EXTRACTED-TREC-QUERIES              |       0.0341 |        0.0389 |      0.0221 |       0.0255 |\n",
      "| CS-META+EXTRACTED+NODES-ALL-QUERIES    |       0.4475 |        0.4708 |      0.2868 |       0.3668 |\n",
      "| CS-META+EXTRACTED+NODES-SYN-QUERIES    |       0.2447 |        0.2541 |      0.151  |       0.1941 |\n",
      "| CS-META+EXTRACTED+NODES-TREC-QUERIES   |       0.2027 |        0.2167 |      0.1358 |       0.1727 |\n",
      "| CS-META+EXTRACTED-ALL-QUERIES          |       0.4474 |        0.4648 |      0.2865 |       0.3608 |\n",
      "| CS-META+EXTRACTED-SYN-QUERIES          |       0.2421 |        0.2502 |      0.1486 |       0.1896 |\n",
      "| CS-META+EXTRACTED-TREC-QUERIES         |       0.2053 |        0.2145 |      0.1379 |       0.1712 |\n",
      "| CS-META+NODES-ALL-QUERIES              |       0.4296 |        0.4447 |      0.2722 |       0.3451 |\n",
      "| CS-META+NODES-SYN-QUERIES              |       0.2371 |        0.2417 |      0.144  |       0.1829 |\n",
      "| CS-META+NODES-TREC-QUERIES             |       0.1925 |        0.2031 |      0.1281 |       0.1622 |\n",
      "| CS-META-ALL-QUERIES                    |       0.4247 |        0.4363 |      0.2681 |       0.3371 |\n",
      "| CS-META-SYN-QUERIES                    |       0.231  |        0.2352 |      0.1384 |       0.1764 |\n",
      "| CS-META-TREC-QUERIES                   |       0.1937 |        0.2011 |      0.1296 |       0.1607 |\n",
      "| CS-NODES-ALL-QUERIES                   |       0.0849 |        0.0826 |      0.0417 |       0.0459 |\n",
      "| CS-NODES-SYN-QUERIES                   |       0.0498 |        0.0493 |      0.0257 |       0.0284 |\n",
      "| CS-NODES-TREC-QUERIES                  |       0.0351 |        0.0333 |      0.016  |       0.0175 |\n",
      "| LMD-EXTRACTED+NODES-ALL-QUERIES        |       0.1125 |        0.126  |      0.0671 |       0.0796 |\n",
      "| LMD-EXTRACTED+NODES-SYN-QUERIES        |       0.0706 |        0.0784 |      0.0421 |       0.0498 |\n",
      "| LMD-EXTRACTED+NODES-TREC-QUERIES       |       0.0419 |        0.0477 |      0.025  |       0.0298 |\n",
      "| LMD-EXTRACTED-ALL-QUERIES              |       0.0942 |        0.1091 |      0.0601 |       0.071  |\n",
      "| LMD-EXTRACTED-SYN-QUERIES              |       0.058  |        0.0671 |      0.0368 |       0.0433 |\n",
      "| LMD-EXTRACTED-TREC-QUERIES             |       0.0361 |        0.042  |      0.0233 |       0.0277 |\n",
      "| LMD-META+EXTRACTED+NODES-ALL-QUERIES   |       0.2119 |        0.2363 |      0.1284 |       0.1572 |\n",
      "| LMD-META+EXTRACTED+NODES-SYN-QUERIES   |       0.1285 |        0.14   |      0.0804 |       0.0969 |\n",
      "| LMD-META+EXTRACTED+NODES-TREC-QUERIES  |       0.0834 |        0.0963 |      0.0479 |       0.0604 |\n",
      "| LMD-META+EXTRACTED-ALL-QUERIES         |       0.2005 |        0.2272 |      0.126  |       0.153  |\n",
      "| LMD-META+EXTRACTED-SYN-QUERIES         |       0.1277 |        0.1398 |      0.0823 |       0.0981 |\n",
      "| LMD-META+EXTRACTED-TREC-QUERIES        |       0.0729 |        0.0874 |      0.0437 |       0.0549 |\n",
      "| LMD-META+NODES-ALL-QUERIES             |       0.3913 |        0.4107 |      0.2517 |       0.3113 |\n",
      "| LMD-META+NODES-SYN-QUERIES             |       0.2144 |        0.2197 |      0.1323 |       0.1642 |\n",
      "| LMD-META+NODES-TREC-QUERIES            |       0.177  |        0.1911 |      0.1194 |       0.1471 |\n",
      "| LMD-META-ALL-QUERIES                   |       0.4102 |        0.4269 |      0.2702 |       0.3322 |\n",
      "| LMD-META-SYN-QUERIES                   |       0.2219 |        0.2255 |      0.1406 |       0.1726 |\n",
      "| LMD-META-TREC-QUERIES                  |       0.1883 |        0.2014 |      0.1295 |       0.1596 |\n",
      "| LMD-NODES-ALL-QUERIES                  |       0.0857 |        0.0868 |      0.0426 |       0.0487 |\n",
      "| LMD-NODES-SYN-QUERIES                  |       0.0508 |        0.0516 |      0.0257 |       0.0296 |\n",
      "| LMD-NODES-TREC-QUERIES                 |       0.0349 |        0.0352 |      0.0169 |       0.0191 |\n"
     ]
    }
   ],
   "source": [
    "import pandas as pd\n",
    "\n",
    "df = pd.DataFrame(out).transpose()\n",
    "df.index.name = 'Model'\n",
    "df.columns.name = 'Metric'\n",
    "\n",
    "markdown_table = df.to_markdown()\n",
    "print(markdown_table)"
   ]
  },
  {
   "cell_type": "markdown",
   "metadata": {},
   "source": [
    "Synthetic row analysis"
   ]
  },
  {
   "cell_type": "code",
   "execution_count": 13,
   "metadata": {},
   "outputs": [],
   "source": [
    "def find_row(markdown_table: str, target_name: str) -> str:\n",
    "    lines = markdown_table.strip().split(\"\\n\")\n",
    "\n",
    "    for line in lines:\n",
    "        if re.match(f\"\\| {re.escape(target_name)}\", line):\n",
    "            return line"
   ]
  },
  {
   "cell_type": "code",
   "execution_count": 14,
   "metadata": {},
   "outputs": [
    {
     "name": "stdout",
     "output_type": "stream",
     "text": [
      "| CS-META+EXTRACTED-ALL-QUERIES          |       0.4474 |        0.4648 |      0.2865 |       0.3608 |\n",
      "| CS-META+EXTRACTED+NODES-ALL-QUERIES    |       0.4475 |        0.4708 |      0.2868 |       0.3668 |\n",
      "| CS-META-ALL-QUERIES                    |       0.4247 |        0.4363 |      0.2681 |       0.3371 |\n",
      "| CS-META+NODES-ALL-QUERIES              |       0.4296 |        0.4447 |      0.2722 |       0.3451 |\n",
      "| CS-EXTRACTED-ALL-QUERIES               |       0.078  |        0.0878 |      0.0483 |       0.0572 |\n",
      "| CS-NODES-ALL-QUERIES                   |       0.0849 |        0.0826 |      0.0417 |       0.0459 |\n",
      "| CS-EXTRACTED+NODES-ALL-QUERIES         |       0.1048 |        0.1129 |      0.0564 |       0.0667 |\n",
      "| BM25-META+EXTRACTED-ALL-QUERIES        |       0.4387 |        0.4749 |      0.2805 |       0.3633 |\n",
      "| BM25-META+EXTRACTED+NODES-ALL-QUERIES  |       0.4095 |        0.4446 |      0.2563 |       0.33   |\n",
      "| BM25-META-ALL-QUERIES                  |       0.4616 |        0.4808 |      0.2961 |       0.3761 |\n",
      "| BM25-META+NODES-ALL-QUERIES            |       0.439  |        0.4685 |      0.273  |       0.3576 |\n",
      "| BM25-EXTRACTED-ALL-QUERIES             |       0.1056 |        0.1158 |      0.0653 |       0.0759 |\n",
      "| BM25-NODES-ALL-QUERIES                 |       0.0825 |        0.084  |      0.0401 |       0.046  |\n",
      "| BM25-EXTRACTED+NODES-ALL-QUERIES       |       0.1275 |        0.1413 |      0.0751 |       0.0891 |\n",
      "| LMD-META+EXTRACTED-ALL-QUERIES         |       0.2005 |        0.2272 |      0.126  |       0.153  |\n",
      "| LMD-META+EXTRACTED+NODES-ALL-QUERIES   |       0.2119 |        0.2363 |      0.1284 |       0.1572 |\n",
      "| LMD-META-ALL-QUERIES                   |       0.4102 |        0.4269 |      0.2702 |       0.3322 |\n",
      "| LMD-META+NODES-ALL-QUERIES             |       0.3913 |        0.4107 |      0.2517 |       0.3113 |\n",
      "| LMD-EXTRACTED-ALL-QUERIES              |       0.0942 |        0.1091 |      0.0601 |       0.071  |\n",
      "| LMD-NODES-ALL-QUERIES                  |       0.0857 |        0.0868 |      0.0426 |       0.0487 |\n",
      "| LMD-EXTRACTED+NODES-ALL-QUERIES        |       0.1125 |        0.126  |      0.0671 |       0.0796 |\n"
     ]
    }
   ],
   "source": [
    "synthetic_rows = [\n",
    "    \"CS-META+EXTRACTED-ALL-QUERIES\",\n",
    "    \"CS-META+EXTRACTED+NODES-ALL-QUERIES\",\n",
    "    \"CS-META-ALL-QUERIES\",\n",
    "    \"CS-META+NODES-ALL-QUERIES\",\n",
    "    \"CS-EXTRACTED-ALL-QUERIES\",\n",
    "    \"CS-NODES-ALL-QUERIES\",\n",
    "    \"CS-EXTRACTED+NODES-ALL-QUERIES\",\n",
    "    \"BM25-META+EXTRACTED-ALL-QUERIES\",\n",
    "    \"BM25-META+EXTRACTED+NODES-ALL-QUERIES\",\n",
    "    \"BM25-META-ALL-QUERIES\",\n",
    "    \"BM25-META+NODES-ALL-QUERIES\",\n",
    "    \"BM25-EXTRACTED-ALL-QUERIES\",\n",
    "    \"BM25-NODES-ALL-QUERIES\",\n",
    "    \"BM25-EXTRACTED+NODES-ALL-QUERIES\",\n",
    "    \"LMD-META+EXTRACTED-ALL-QUERIES\",\n",
    "    \"LMD-META+EXTRACTED+NODES-ALL-QUERIES\",\n",
    "    \"LMD-META-ALL-QUERIES\",\n",
    "    \"LMD-META+NODES-ALL-QUERIES\",\n",
    "    \"LMD-EXTRACTED-ALL-QUERIES\",\n",
    "    \"LMD-NODES-ALL-QUERIES\",\n",
    "    \"LMD-EXTRACTED+NODES-ALL-QUERIES\"\n",
    "]\n",
    "\n",
    "for name in synthetic_rows:\n",
    "    print(find_row(markdown_table, name))"
   ]
  }
 ],
 "metadata": {
  "kernelspec": {
   "display_name": "base",
   "language": "python",
   "name": "python3"
  },
  "language_info": {
   "codemirror_mode": {
    "name": "ipython",
    "version": 3
   },
   "file_extension": ".py",
   "mimetype": "text/x-python",
   "name": "python",
   "nbconvert_exporter": "python",
   "pygments_lexer": "ipython3",
   "version": "3.9.13"
  },
  "orig_nbformat": 4
 },
 "nbformat": 4,
 "nbformat_minor": 2
}
